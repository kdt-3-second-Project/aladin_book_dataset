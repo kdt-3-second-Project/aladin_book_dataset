{
 "cells": [
  {
   "cell_type": "code",
   "execution_count": 4,
   "metadata": {},
   "outputs": [],
   "source": [
    "import pandas as pd\n",
    "import numpy as np\n",
    "import os"
   ]
  },
  {
   "cell_type": "code",
   "execution_count": 6,
   "metadata": {},
   "outputs": [],
   "source": [
    "PRJ_DIR = '/home/doeun/code/AI/ESTSOFT2024/workspace/2.project_text/aladin_book_dataset/'"
   ]
  },
  {
   "cell_type": "code",
   "execution_count": 21,
   "metadata": {},
   "outputs": [
    {
     "name": "stderr",
     "output_type": "stream",
     "text": [
      "/tmp/ipykernel_28969/2001255385.py:3: DtypeWarning: Columns (4,5,8) have mixed types. Specify dtype option on import or set low_memory=False.\n",
      "  df = pd.read_csv(file_path)\n"
     ]
    },
    {
     "name": "stdout",
     "output_type": "stream",
     "text": [
      "<class 'pandas.core.frame.DataFrame'>\n",
      "RangeIndex: 1415589 entries, 0 to 1415588\n",
      "Data columns (total 15 columns):\n",
      " #   Column          Non-Null Count    Dtype  \n",
      "---  ------          --------------    -----  \n",
      " 0   Rank            1415586 non-null  float64\n",
      " 1   Division        1415482 non-null  object \n",
      " 2   BookName        1415482 non-null  object \n",
      " 3   ItemId          1415589 non-null  int64  \n",
      " 4   ISBN13          1401960 non-null  object \n",
      " 5   Code            1225055 non-null  object \n",
      " 6   Authors         1412914 non-null  object \n",
      " 7   Publisher       1414962 non-null  object \n",
      " 8   PublishDate     1415586 non-null  object \n",
      " 9   RegularPrice    1415586 non-null  object \n",
      " 10  SalesPrice      1415583 non-null  object \n",
      " 11  Mileage         1415583 non-null  object \n",
      " 12  SalesPoint      1415583 non-null  float64\n",
      " 13  Category        1410341 non-null  object \n",
      " 14  BestsellerWeek  1415583 non-null  object \n",
      "dtypes: float64(2), int64(1), object(12)\n",
      "memory usage: 162.0+ MB\n"
     ]
    },
    {
     "data": {
      "text/plain": [
       "None"
      ]
     },
     "metadata": {},
     "output_type": "display_data"
    }
   ],
   "source": [
    "file_path = os.path.join(PRJ_DIR,'dataset','bookinfo','bestseller_240718.csv')\n",
    "\n",
    "df = pd.read_csv(file_path)\n",
    "\n",
    "display(df.info())"
   ]
  },
  {
   "cell_type": "code",
   "execution_count": 8,
   "metadata": {},
   "outputs": [
    {
     "name": "stdout",
     "output_type": "stream",
     "text": [
      "<class 'pandas.core.frame.DataFrame'>\n",
      "RangeIndex: 158084 entries, 0 to 158083\n",
      "Data columns (total 10 columns):\n",
      " #   Column      Non-Null Count   Dtype \n",
      "---  ------      --------------   ----- \n",
      " 0   상품명         158084 non-null  object\n",
      " 1   ItemId      158084 non-null  int64 \n",
      " 2   저자/아티스트     158084 non-null  object\n",
      " 3   출판사/제작사     158084 non-null  object\n",
      " 4   출간일         158084 non-null  int64 \n",
      " 5   정가          158084 non-null  object\n",
      " 6   판매가         158084 non-null  object\n",
      " 7   세일즈포인트      158084 non-null  int64 \n",
      " 8   대표분류(대분류명)  158084 non-null  object\n",
      " 9   날짜          158084 non-null  object\n",
      "dtypes: int64(3), object(7)\n",
      "memory usage: 12.1+ MB\n"
     ]
    },
    {
     "data": {
      "text/plain": [
       "None"
      ]
     },
     "metadata": {},
     "output_type": "display_data"
    },
    {
     "data": {
      "text/html": [
       "<div>\n",
       "<style scoped>\n",
       "    .dataframe tbody tr th:only-of-type {\n",
       "        vertical-align: middle;\n",
       "    }\n",
       "\n",
       "    .dataframe tbody tr th {\n",
       "        vertical-align: top;\n",
       "    }\n",
       "\n",
       "    .dataframe thead th {\n",
       "        text-align: right;\n",
       "    }\n",
       "</style>\n",
       "<table border=\"1\" class=\"dataframe\">\n",
       "  <thead>\n",
       "    <tr style=\"text-align: right;\">\n",
       "      <th></th>\n",
       "      <th>상품명</th>\n",
       "      <th>ItemId</th>\n",
       "      <th>저자/아티스트</th>\n",
       "      <th>출판사/제작사</th>\n",
       "      <th>출간일</th>\n",
       "      <th>정가</th>\n",
       "      <th>판매가</th>\n",
       "      <th>세일즈포인트</th>\n",
       "      <th>대표분류(대분류명)</th>\n",
       "      <th>날짜</th>\n",
       "    </tr>\n",
       "  </thead>\n",
       "  <tbody>\n",
       "    <tr>\n",
       "      <th>0</th>\n",
       "      <td>누가 내 치즈를 옮겼을까?</td>\n",
       "      <td>226139</td>\n",
       "      <td>스펜서 존슨 지음, 이영진 옮김</td>\n",
       "      <td>진명출판사</td>\n",
       "      <td>20000315</td>\n",
       "      <td>7,000</td>\n",
       "      <td>6,300</td>\n",
       "      <td>29660</td>\n",
       "      <td>자기계발</td>\n",
       "      <td>2000년10월1주</td>\n",
       "    </tr>\n",
       "    <tr>\n",
       "      <th>1</th>\n",
       "      <td>부자 아빠 가난한 아빠 1</td>\n",
       "      <td>220359</td>\n",
       "      <td>로버트 기요사키, 샤론 레흐트 지음 | 형선호 옮김</td>\n",
       "      <td>민음인</td>\n",
       "      <td>20000210</td>\n",
       "      <td>12,000</td>\n",
       "      <td>10,800</td>\n",
       "      <td>22994</td>\n",
       "      <td>경제경영</td>\n",
       "      <td>2000년10월1주</td>\n",
       "    </tr>\n",
       "    <tr>\n",
       "      <th>2</th>\n",
       "      <td>부자 아빠의 투자 가이드</td>\n",
       "      <td>247785</td>\n",
       "      <td>로버트 기요사키 지음, 박슬라 옮김</td>\n",
       "      <td>민음인</td>\n",
       "      <td>20140926</td>\n",
       "      <td>18,000</td>\n",
       "      <td>16,200</td>\n",
       "      <td>9304</td>\n",
       "      <td>경제경영</td>\n",
       "      <td>2000년10월1주</td>\n",
       "    </tr>\n",
       "    <tr>\n",
       "      <th>3</th>\n",
       "      <td>부자 아빠 가난한 아빠 2</td>\n",
       "      <td>231099</td>\n",
       "      <td>로버트 기요사키 지음, 안진환 옮김</td>\n",
       "      <td>민음인</td>\n",
       "      <td>20121127</td>\n",
       "      <td>17,000</td>\n",
       "      <td>15,300</td>\n",
       "      <td>24887</td>\n",
       "      <td>경제경영</td>\n",
       "      <td>2000년10월1주</td>\n",
       "    </tr>\n",
       "    <tr>\n",
       "      <th>4</th>\n",
       "      <td>창가의 토토</td>\n",
       "      <td>233350</td>\n",
       "      <td>구로야나기 테츠코 지음, 김난주 옮김, 이와사키 치히로 그림</td>\n",
       "      <td>프로메테우스</td>\n",
       "      <td>20040129</td>\n",
       "      <td>11,000</td>\n",
       "      <td>9,900</td>\n",
       "      <td>43114</td>\n",
       "      <td>소설/시/희곡</td>\n",
       "      <td>2000년10월1주</td>\n",
       "    </tr>\n",
       "  </tbody>\n",
       "</table>\n",
       "</div>"
      ],
      "text/plain": [
       "              상품명  ItemId                            저자/아티스트 출판사/제작사  \\\n",
       "0  누가 내 치즈를 옮겼을까?  226139                  스펜서 존슨 지음, 이영진 옮김   진명출판사   \n",
       "1  부자 아빠 가난한 아빠 1  220359       로버트 기요사키, 샤론 레흐트 지음 | 형선호 옮김     민음인   \n",
       "2   부자 아빠의 투자 가이드  247785                로버트 기요사키 지음, 박슬라 옮김     민음인   \n",
       "3  부자 아빠 가난한 아빠 2  231099                로버트 기요사키 지음, 안진환 옮김     민음인   \n",
       "4          창가의 토토  233350  구로야나기 테츠코 지음, 김난주 옮김, 이와사키 치히로 그림  프로메테우스   \n",
       "\n",
       "        출간일      정가     판매가  세일즈포인트 대표분류(대분류명)          날짜  \n",
       "0  20000315   7,000   6,300   29660       자기계발  2000년10월1주  \n",
       "1  20000210  12,000  10,800   22994       경제경영  2000년10월1주  \n",
       "2  20140926  18,000  16,200    9304       경제경영  2000년10월1주  \n",
       "3  20121127  17,000  15,300   24887       경제경영  2000년10월1주  \n",
       "4  20040129  11,000   9,900   43114    소설/시/희곡  2000년10월1주  "
      ]
     },
     "metadata": {},
     "output_type": "display_data"
    }
   ],
   "source": [
    "file_path = os.path.join(PRJ_DIR,'dataset','bestseller_cleaned_240718.csv')\n",
    "\n",
    "df = pd.read_csv(file_path)\n",
    "\n",
    "display(df.info())\n",
    "display(df.head())"
   ]
  },
  {
   "cell_type": "code",
   "execution_count": 12,
   "metadata": {},
   "outputs": [
    {
     "name": "stdout",
     "output_type": "stream",
     "text": [
      "<class 'pandas.core.frame.DataFrame'>\n",
      "RangeIndex: 158084 entries, 0 to 158083\n",
      "Data columns (total 10 columns):\n",
      " #   Column          Non-Null Count   Dtype \n",
      "---  ------          --------------   ----- \n",
      " 0   BookName        158084 non-null  object\n",
      " 1   ItemId          158084 non-null  int64 \n",
      " 2   Authors         158084 non-null  object\n",
      " 3   Publisher       158084 non-null  object\n",
      " 4   PublishDate     158084 non-null  int64 \n",
      " 5   RegularPrice    158084 non-null  object\n",
      " 6   SalesPrice      158084 non-null  object\n",
      " 7   SalesPoint      158084 non-null  int64 \n",
      " 8   Category        158084 non-null  object\n",
      " 9   BestsellerWeek  158084 non-null  object\n",
      "dtypes: int64(3), object(7)\n",
      "memory usage: 12.1+ MB\n"
     ]
    }
   ],
   "source": [
    "cols = ['BookName','ItemId','Authors','Publisher','PublishDate','RegularPrice','SalesPrice','SalesPoint','Category','BestsellerWeek']\n",
    "\n",
    "df.columns = cols\n",
    "df.info()"
   ]
  },
  {
   "cell_type": "code",
   "execution_count": 13,
   "metadata": {},
   "outputs": [],
   "source": [
    "df.to_csv(file_path,index=False)"
   ]
  },
  {
   "cell_type": "code",
   "execution_count": 18,
   "metadata": {},
   "outputs": [
    {
     "name": "stdout",
     "output_type": "stream",
     "text": [
      "<class 'pandas.core.frame.DataFrame'>\n",
      "RangeIndex: 784213 entries, 0 to 784212\n",
      "Data columns (total 7 columns):\n",
      " #   Column        Non-Null Count   Dtype \n",
      "---  ------        --------------   ----- \n",
      " 0   ItemId        784213 non-null  int64 \n",
      " 1   used_idx      784213 non-null  int64 \n",
      " 2   delivery_fee  784213 non-null  int64 \n",
      " 3   price         784213 non-null  int64 \n",
      " 4   quality       784213 non-null  object\n",
      " 5   store         784213 non-null  object\n",
      " 6   url           784213 non-null  object\n",
      "dtypes: int64(4), object(3)\n",
      "memory usage: 41.9+ MB\n"
     ]
    },
    {
     "data": {
      "text/plain": [
       "None"
      ]
     },
     "metadata": {},
     "output_type": "display_data"
    },
    {
     "data": {
      "text/html": [
       "<div>\n",
       "<style scoped>\n",
       "    .dataframe tbody tr th:only-of-type {\n",
       "        vertical-align: middle;\n",
       "    }\n",
       "\n",
       "    .dataframe tbody tr th {\n",
       "        vertical-align: top;\n",
       "    }\n",
       "\n",
       "    .dataframe thead th {\n",
       "        text-align: right;\n",
       "    }\n",
       "</style>\n",
       "<table border=\"1\" class=\"dataframe\">\n",
       "  <thead>\n",
       "    <tr style=\"text-align: right;\">\n",
       "      <th></th>\n",
       "      <th>ItemId</th>\n",
       "      <th>used_idx</th>\n",
       "      <th>delivery_fee</th>\n",
       "      <th>price</th>\n",
       "      <th>quality</th>\n",
       "      <th>store</th>\n",
       "      <th>url</th>\n",
       "    </tr>\n",
       "  </thead>\n",
       "  <tbody>\n",
       "    <tr>\n",
       "      <th>0</th>\n",
       "      <td>1000071</td>\n",
       "      <td>1</td>\n",
       "      <td>2500</td>\n",
       "      <td>1200</td>\n",
       "      <td>균일가</td>\n",
       "      <td>중고매장부산덕천점</td>\n",
       "      <td>https://www.aladin.co.kr/shop/wproduct.aspx?It...</td>\n",
       "    </tr>\n",
       "    <tr>\n",
       "      <th>1</th>\n",
       "      <td>1000071</td>\n",
       "      <td>2</td>\n",
       "      <td>2500</td>\n",
       "      <td>1500</td>\n",
       "      <td>중</td>\n",
       "      <td>중고매장대전시청역점</td>\n",
       "      <td>https://www.aladin.co.kr/shop/wproduct.aspx?It...</td>\n",
       "    </tr>\n",
       "    <tr>\n",
       "      <th>2</th>\n",
       "      <td>1000071</td>\n",
       "      <td>3</td>\n",
       "      <td>2500</td>\n",
       "      <td>1500</td>\n",
       "      <td>균일가</td>\n",
       "      <td>중고매장부산 경성대.부경대역점</td>\n",
       "      <td>https://www.aladin.co.kr/shop/wproduct.aspx?It...</td>\n",
       "    </tr>\n",
       "    <tr>\n",
       "      <th>3</th>\n",
       "      <td>1000071</td>\n",
       "      <td>4</td>\n",
       "      <td>2500</td>\n",
       "      <td>1500</td>\n",
       "      <td>균일가</td>\n",
       "      <td>중고매장광주충장로점</td>\n",
       "      <td>https://www.aladin.co.kr/shop/wproduct.aspx?It...</td>\n",
       "    </tr>\n",
       "    <tr>\n",
       "      <th>4</th>\n",
       "      <td>1000071</td>\n",
       "      <td>5</td>\n",
       "      <td>2500</td>\n",
       "      <td>1500</td>\n",
       "      <td>균일가</td>\n",
       "      <td>중고매장대전시청역점</td>\n",
       "      <td>https://www.aladin.co.kr/shop/wproduct.aspx?It...</td>\n",
       "    </tr>\n",
       "  </tbody>\n",
       "</table>\n",
       "</div>"
      ],
      "text/plain": [
       "    ItemId  used_idx  delivery_fee  price quality             store  \\\n",
       "0  1000071         1          2500   1200     균일가         중고매장부산덕천점   \n",
       "1  1000071         2          2500   1500       중        중고매장대전시청역점   \n",
       "2  1000071         3          2500   1500     균일가  중고매장부산 경성대.부경대역점   \n",
       "3  1000071         4          2500   1500     균일가        중고매장광주충장로점   \n",
       "4  1000071         5          2500   1500     균일가        중고매장대전시청역점   \n",
       "\n",
       "                                                 url  \n",
       "0  https://www.aladin.co.kr/shop/wproduct.aspx?It...  \n",
       "1  https://www.aladin.co.kr/shop/wproduct.aspx?It...  \n",
       "2  https://www.aladin.co.kr/shop/wproduct.aspx?It...  \n",
       "3  https://www.aladin.co.kr/shop/wproduct.aspx?It...  \n",
       "4  https://www.aladin.co.kr/shop/wproduct.aspx?It...  "
      ]
     },
     "metadata": {},
     "output_type": "display_data"
    }
   ],
   "source": [
    "file_path = os.path.join(PRJ_DIR,'dataset','usedproduct_240718.csv')\n",
    "df=pd.read_csv(file_path)\n",
    "\n",
    "display(df.info())\n",
    "display(df.head())"
   ]
  },
  {
   "cell_type": "code",
   "execution_count": 19,
   "metadata": {},
   "outputs": [
    {
     "name": "stdout",
     "output_type": "stream",
     "text": [
      "<class 'pandas.core.frame.DataFrame'>\n",
      "RangeIndex: 784213 entries, 0 to 784212\n",
      "Data columns (total 7 columns):\n",
      " #   Column       Non-Null Count   Dtype \n",
      "---  ------       --------------   ----- \n",
      " 0   ItemId       784213 non-null  int64 \n",
      " 1   UsedIdx      784213 non-null  int64 \n",
      " 2   DeliveryFee  784213 non-null  int64 \n",
      " 3   Price        784213 non-null  int64 \n",
      " 4   Quality      784213 non-null  object\n",
      " 5   Store        784213 non-null  object\n",
      " 6   Url          784213 non-null  object\n",
      "dtypes: int64(4), object(3)\n",
      "memory usage: 41.9+ MB\n"
     ]
    }
   ],
   "source": [
    "cols = ['ItemId','UsedIdx','DeliveryFee','Price','Quality','Store','Url']\n",
    "df.columns = cols\n",
    "df.info()"
   ]
  },
  {
   "cell_type": "code",
   "execution_count": 20,
   "metadata": {},
   "outputs": [],
   "source": [
    "df.to_csv(file_path,index=False)"
   ]
  },
  {
   "cell_type": "code",
   "execution_count": null,
   "metadata": {},
   "outputs": [],
   "source": []
  }
 ],
 "metadata": {
  "kernelspec": {
   "display_name": "EST_PRJ",
   "language": "python",
   "name": "python3"
  },
  "language_info": {
   "codemirror_mode": {
    "name": "ipython",
    "version": 3
   },
   "file_extension": ".py",
   "mimetype": "text/x-python",
   "name": "python",
   "nbconvert_exporter": "python",
   "pygments_lexer": "ipython3",
   "version": "3.8.12"
  },
  "orig_nbformat": 4
 },
 "nbformat": 4,
 "nbformat_minor": 2
}

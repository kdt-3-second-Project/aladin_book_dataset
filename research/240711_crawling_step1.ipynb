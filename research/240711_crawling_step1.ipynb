{
  "cells": [
    {
      "cell_type": "markdown",
      "metadata": {},
      "source": [
        "## 요약\n",
        "\n"
      ]
    },
    {
      "cell_type": "code",
      "execution_count": 2,
      "metadata": {},
      "outputs": [],
      "source": [
        "import numpy as np\n",
        "import pandas as pd\n",
        "import seaborn as sns\n",
        "import matplotlib as mpl\n",
        "import matplotlib.pyplot as plt\n",
        "import matplotlib_inline.backend_inline\n",
        "\n",
        "# 그래프의 폰트 출력을 선명하게 (svg, retina 등이 있음)\n",
        "matplotlib_inline.backend_inline.set_matplotlib_formats(\"png2x\")\n",
        "# 테마 설정: \"default\", \"classic\", \"dark_background\", \"fivethirtyeight\", \"seaborn\"\n",
        "mpl.style.use(\"default\")\n",
        "# 이미지가 레이아웃 안으로 들어오도록 함\n",
        "# https://matplotlib.org/stable/users/explain/axes/constrainedlayout_guide.html\n",
        "mpl.rcParams.update({\"figure.constrained_layout.use\": True})\n",
        "\n",
        "#font, line, marker 등의 배율 설정: paper, notebook, talk, poster\n",
        "sns.set_context(\"paper\") \n",
        "#배색 설정: tab10, Set2, Accent, husl\n",
        "sns.set_palette(\"Set2\") \n",
        "#눈금, 배경, 격자 설정: ticks, white, whitegrid, dark, darkgrid\n",
        "# withegrid: 눈금을 그리고, 각 축의 눈금을 제거\n",
        "sns.set_style(\"whitegrid\") "
      ]
    },
    {
      "cell_type": "code",
      "execution_count": 3,
      "metadata": {},
      "outputs": [],
      "source": [
        "# 로컬에서 \n",
        "\n",
        "plt.rc(\"font\", family = \"D2Coding\")\n",
        "plt.rcParams[\"axes.unicode_minus\"] = False"
      ]
    },
    {
      "cell_type": "code",
      "execution_count": 4,
      "metadata": {},
      "outputs": [],
      "source": [
        "# 필요한 패키지 import\n",
        "from bs4 import BeautifulSoup\n",
        "import requests\n",
        "import re\n",
        "import os, natsort"
      ]
    },
    {
      "cell_type": "code",
      "execution_count": 5,
      "metadata": {},
      "outputs": [],
      "source": [
        "PRJCT_PATH = '/home/doeun/code/AI/ESTSOFT2024/workspace/2.project_text/aladin_usedbook'\n",
        "save_dir = 'processed'\n",
        "date = 240711\n",
        "file_name = f'unused_filtered_{date}.csv'"
      ]
    },
    {
      "cell_type": "markdown",
      "metadata": {},
      "source": [
        "### 앞선 내용 요약\n",
        "- 비중고도서 목록과 중고도서 목록, 2 파일을 관리하기로 결정\n",
        "    - 비중고도서 ItemId를 기준으로 각 중고정보 페이지를 접근하여 크롤링\n",
        "        - 비중고도서 페이지 url\n",
        "            - ```https://www.aladin.co.kr/shop/wproduct.aspx?ItemId={}```\n",
        "        - 중고정보 페이지 url\n",
        "            -```https://www.aladin.co.kr/shop/UsedShop/wuseditemall.aspx?ItemId={}&TabType=3&Fix=1``` \n",
        "        - ItemId에 규칙이 따로 없는 것으로 추정\n",
        "    - 비중고도서 목록에는 각 도서별 정보 (ItemId, 도서명, 저자, 출판사, 세일즈포인트 등)\n",
        "    - 중고도서 목록에는 각 매물 별 정보 (책이름, ItemId, 중고등급, 판매가, 할인율)\n",
        "- 비중고도서 목록\n",
        "    - 구분 : '국내도서' 중 저자, 출판사, 대분류가 null이 아닌 경우만 추려서 사용\n",
        "    - ItemId 기준 중복 정리\n",
        "    - ItemId 기준 keep=last로 해서 중복 제거\n",
        "    - 부정확할 수 있는 정보는 이후 크롤링해서 체크 후 업데이트 하는 것으로\n",
        "        - 저자가 복수일 때 양식이 통일되지 않음\n",
        "            - 다음 두 양식이 혼용\n",
        "            1. AA, BB, CC 지음\n",
        "            2. AA 외 지음\n",
        "        - SalesPoint는 이후에는 crawling해서 확인하는 걸로\n",
        "            - 매일 업데이트 되기 때문에 도서별 정보가 다소 다를 수 있음"
      ]
    },
    {
      "cell_type": "markdown",
      "metadata": {},
      "source": [
        "**정해진 프로세스**\n",
        "\n",
        "0. 임의의 연/월/주를 10개 골라서 itemid 목록 작성\n",
        "1. 임의의 새 상품 페이지를 들어간다\n",
        "2. 새 상품 관련 정보 수집\n",
        "3. 해당 도서의 중고 정보 페이지로 접근\n",
        "4. 각 도서별 중고 상품 정보 수집"
      ]
    },
    {
      "cell_type": "code",
      "execution_count": 36,
      "metadata": {},
      "outputs": [],
      "source": [
        "dir_path = os.path.join(PRJCT_PATH,'samples')\n",
        "files = os.listdir(dir_path)\n",
        "files = natsort.natsorted(files)\n",
        "\n",
        "df_dict = dict()\n",
        "for file in files:\n",
        "    if file[-3:] != 'csv' : continue\n",
        "    info = file.split('_')[0]\n",
        "    file_path = os.path.join(dir_path,file)\n",
        "    df_temp = pd.read_csv(file_path)\n",
        "    df_temp['source'] = info\n",
        "    df_dict[info] = df_temp\n",
        "    "
      ]
    },
    {
      "cell_type": "code",
      "execution_count": null,
      "metadata": {
        "id": "uWzpGdQiFOj8"
      },
      "outputs": [],
      "source": [
        "# 가져올 책 범위,ID.. 값 정의\n",
        "start_id = 97043285 # 125190808\n",
        "end_id = 97046595\n",
        "\n",
        "\n",
        "\n"
      ]
    },
    {
      "cell_type": "code",
      "execution_count": null,
      "metadata": {
        "id": "q8m9FNx8FXCK"
      },
      "outputs": [],
      "source": [
        "# ID를 증가시키며 책 정보 크롤링\n",
        "for book_id in range(start_id, end_id + 1):\n",
        "    url = f'http://www.yes24.com/Product/Goods/{book_id}'\n",
        "    try:\n",
        "        r = requests.get (url)\n",
        "        if r.status_code == 200:\n",
        "            html=r.text\n",
        "            soup=BeautifulSoup(html, 'lxml') #  BeautifulSoup 클래스의 인스턴스 생성\n",
        "\n",
        "            # title = soup.select_one('#yDetailTopWrap > div.topColRgt > div.gd_infoTop > div > h2').get_text()\n",
        "            try:\n",
        "                title = soup.select_one('#yDetailTopWrap > div.topColRgt > div.gd_infoTop > div > h2').get_text()\n",
        "            except AttributeError:\n",
        "                title = None # 선택한 요소가 없어서 발생하는 AttributeError 처리\n",
        "\n",
        "            try:\n",
        "                rating = soup.select_one('#spanGdRating > a > em').get_text() # .get_text().strip()\n",
        "            except AttributeError:\n",
        "                rating = None\n",
        "\n",
        "            try:\n",
        "                author = soup.select_one('#yDetailTopWrap > div.topColRgt > div.gd_infoTop > span.gd_pubArea > span.gd_auth > a').get_text()\n",
        "            except AttributeError:\n",
        "                author = None\n",
        "\n",
        "            btype = 'new'\n",
        "            try:\n",
        "                # if soup.select_one('#yDetailTopWrap > div.topColRgt > div.gd_infoTop > div > strong > em').get_text() == \"중고도서\":\n",
        "                if \"중고도서\" in soup.select_one('#yDetailTopWrap > div.topColRgt > div.gd_infoTop > div > strong > em').get_text().lower():\n",
        "                    price = soup.select_one('#yDetailTopWrap > div.topColRgt > div.gd_infoBot > div.gd_infoTbArea > div:nth-child(1) > table > tbody > tr.accentRow > td > span > em').get_text()  # 판매가격\n",
        "                    btype = 'old'\n",
        "                else:\n",
        "                    price = soup.select_one('#yDetailTopWrap > div.topColRgt > div.gd_infoBot > div.gd_infoTbArea > div:nth-child(3) > table > tbody > tr:nth-child(2) > td > span > em').get_text()  # 판매가격\n",
        "            except AttributeError:\n",
        "                price = None\n",
        "\n",
        "            try:\n",
        "                pdate = soup.select_one('#yDetailTopWrap > div.topColRgt > div.gd_infoTop > span.gd_pubArea > span.gd_date').get_text()   # 발행일\n",
        "            except AttributeError:\n",
        "                pdate = None\n",
        "\n",
        "            try:\n",
        "                publisher = soup.select_one('#yDetailTopWrap > div.topColRgt > div.gd_infoTop > span.gd_pubArea > span.gd_pub > a').get_text()  # 출판사\n",
        "            except AttributeError:\n",
        "                publisher = None\n",
        "\n",
        "            try:\n",
        "                numbers = re.findall(r'\\d+', soup.select_one('#yDetailTopWrap > div.topColRgt > div.gd_infoTop > span.gd_ratingArea > span.gd_sellNum').get_text().replace(',', ''))\n",
        "                number = int(numbers[0]) if numbers else None\n",
        "                salseindex = number # soup.select_one('#yDetailTopWrap > div.topColRgt > div.gd_infoTop > span.gd_ratingArea > span.gd_sellNum').get_text()  # 판매지수\n",
        "            except AttributeError:\n",
        "                salseindex = None\n",
        "\n",
        "\n",
        "\n",
        "            # book_df = book_df.append({'ID':book_id, 'Title':title, 'Author':author, 'Rating':rating, 'Price':price, 'Pdate':pdate, 'Publisher':publisher, 'Btype':btype}, ignore_index=True)\n",
        "            new_row = pd.DataFrame({'ID': [book_id], 'Title': [title], 'Author': [author], 'Rating': [rating], 'Price': [price], 'Pdate': [pdate], 'Publisher': [publisher], 'Btype': [btype], 'Salseindex': [salseindex]})\n",
        "            book_df = pd.concat([book_df, new_row], ignore_index=True)\n",
        "\n",
        "        else:\n",
        "            print('에러발생1')\n",
        "    except requests.RequestException as e:\n",
        "        # 에러 발생시....\n",
        "        print('에러발생2')\n",
        "# book_df\n",
        "book_df.to_csv('book.csv', encoding='euc-kr')\n"
      ]
    }
  ],
  "metadata": {
    "colab": {
      "provenance": []
    },
    "kernelspec": {
      "display_name": "Python 3",
      "name": "python3"
    },
    "language_info": {
      "codemirror_mode": {
        "name": "ipython",
        "version": 3
      },
      "file_extension": ".py",
      "mimetype": "text/x-python",
      "name": "python",
      "nbconvert_exporter": "python",
      "pygments_lexer": "ipython3",
      "version": "3.8.12"
    }
  },
  "nbformat": 4,
  "nbformat_minor": 0
}

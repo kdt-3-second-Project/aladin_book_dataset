{
 "cells": [
  {
   "cell_type": "markdown",
   "metadata": {},
   "source": [
    "## 요약"
   ]
  },
  {
   "cell_type": "markdown",
   "metadata": {},
   "source": [
    "- 저자명 : 1저자만 추출\n",
    "    - ```extract_author1``` 사용\n",
    "    - 공저자 등이 있는지에 대한 bool columns을 만듦\n",
    "- 도서명 : 괄호 안의 내용 분리\n",
    "    - 각 괄호 별로 들어있는 내용을 추출한 뒤 ', '.join\n",
    "- 출판사 : 상위 50개를 제외하고는 기타 처리\n",
    "- 대분류 : 별도의 처리 하지 않되 token 코퍼스에 추가\n",
    "- 차후 itemid 페이지에 직접 접속하여 DB의 값 업데이트 필요\n",
    "    - 이 경우 특히 저자명의 경우 다른 방식으로 처리하게 될 예정"
   ]
  },
  {
   "cell_type": "code",
   "execution_count": 1,
   "metadata": {},
   "outputs": [],
   "source": [
    "import numpy as np\n",
    "import pandas as pd\n",
    "import seaborn as sns\n",
    "import matplotlib as mpl\n",
    "import matplotlib.pyplot as plt\n",
    "import matplotlib_inline.backend_inline\n",
    "\n",
    "# 그래프의 폰트 출력을 선명하게 (svg, retina 등이 있음)\n",
    "matplotlib_inline.backend_inline.set_matplotlib_formats(\"png2x\")\n",
    "# 테마 설정: \"default\", \"classic\", \"dark_background\", \"fivethirtyeight\", \"seaborn\"\n",
    "mpl.style.use(\"default\")\n",
    "# 이미지가 레이아웃 안으로 들어오도록 함\n",
    "# https://matplotlib.org/stable/users/explain/axes/constrainedlayout_guide.html\n",
    "mpl.rcParams.update({\"figure.constrained_layout.use\": True})\n",
    "\n",
    "#font, line, marker 등의 배율 설정: paper, notebook, talk, poster\n",
    "sns.set_context(\"paper\") \n",
    "#배색 설정: tab10, Set2, Accent, husl\n",
    "sns.set_palette(\"Set2\") \n",
    "#눈금, 배경, 격자 설정: ticks, white, whitegrid, dark, darkgrid\n",
    "# withegrid: 눈금을 그리고, 각 축의 눈금을 제거\n",
    "sns.set_style(\"whitegrid\") "
   ]
  },
  {
   "cell_type": "code",
   "execution_count": 2,
   "metadata": {},
   "outputs": [],
   "source": [
    "# 로컬에서 \n",
    "\n",
    "plt.rc(\"font\", family = \"D2Coding\")\n",
    "plt.rcParams[\"axes.unicode_minus\"] = False"
   ]
  },
  {
   "cell_type": "code",
   "execution_count": 3,
   "metadata": {},
   "outputs": [],
   "source": [
    "import os, natsort, re\n",
    "from tqdm import tqdm\n",
    "import time, random"
   ]
  },
  {
   "cell_type": "code",
   "execution_count": 4,
   "metadata": {},
   "outputs": [],
   "source": [
    "PRJCT_PATH = '/home/doeun/code/AI/ESTSOFT2024/workspace/2.project_text/aladin_usedbook/'\n",
    "save_dir = 'processed'\n",
    "date = 240711\n",
    "file_name = f'unused_filtered_{date}.csv'\n",
    "\n",
    "bookdata_path = os.path.join(PRJCT_PATH,save_dir,file_name)\n",
    "usedbook_path =PRJCT_PATH+'processed/usedbook_data/usedproduct_unused_filtered_240711_worker_1_10.csv' "
   ]
  },
  {
   "cell_type": "code",
   "execution_count": 5,
   "metadata": {},
   "outputs": [
    {
     "data": {
      "text/html": [
       "<div>\n",
       "<style scoped>\n",
       "    .dataframe tbody tr th:only-of-type {\n",
       "        vertical-align: middle;\n",
       "    }\n",
       "\n",
       "    .dataframe tbody tr th {\n",
       "        vertical-align: top;\n",
       "    }\n",
       "\n",
       "    .dataframe thead th {\n",
       "        text-align: right;\n",
       "    }\n",
       "</style>\n",
       "<table border=\"1\" class=\"dataframe\">\n",
       "  <thead>\n",
       "    <tr style=\"text-align: right;\">\n",
       "      <th></th>\n",
       "      <th>순번/순위</th>\n",
       "      <th>구분</th>\n",
       "      <th>상품명</th>\n",
       "      <th>ItemId</th>\n",
       "      <th>ISBN13</th>\n",
       "      <th>부가기호</th>\n",
       "      <th>저자/아티스트</th>\n",
       "      <th>출판사/제작사</th>\n",
       "      <th>출간일</th>\n",
       "      <th>정가</th>\n",
       "      <th>판매가</th>\n",
       "      <th>마일리지</th>\n",
       "      <th>세일즈포인트</th>\n",
       "      <th>대표분류(대분류명)</th>\n",
       "      <th>source</th>\n",
       "    </tr>\n",
       "  </thead>\n",
       "  <tbody>\n",
       "    <tr>\n",
       "      <th>0</th>\n",
       "      <td>322.0</td>\n",
       "      <td>국내도서</td>\n",
       "      <td>민병철 생활영어 1</td>\n",
       "      <td>54947</td>\n",
       "      <td>9788975121036</td>\n",
       "      <td>13740.0</td>\n",
       "      <td>민병철 지음</td>\n",
       "      <td>민병철스피킹웍스</td>\n",
       "      <td>1979-10-01</td>\n",
       "      <td>5500</td>\n",
       "      <td>4950</td>\n",
       "      <td>270점</td>\n",
       "      <td>177.0</td>\n",
       "      <td>외국어</td>\n",
       "      <td>2001년1월3주</td>\n",
       "    </tr>\n",
       "    <tr>\n",
       "      <th>1</th>\n",
       "      <td>767.0</td>\n",
       "      <td>국내도서</td>\n",
       "      <td>행복에의 초대</td>\n",
       "      <td>168173</td>\n",
       "      <td>9788932852218</td>\n",
       "      <td>93230.0</td>\n",
       "      <td>IVP(한국기독학생회출판부) 편집부 엮음</td>\n",
       "      <td>IVP</td>\n",
       "      <td>1979-12-01</td>\n",
       "      <td>2800</td>\n",
       "      <td>2660</td>\n",
       "      <td>20점</td>\n",
       "      <td>1960.0</td>\n",
       "      <td>종교/역학</td>\n",
       "      <td>2005년2월1주</td>\n",
       "    </tr>\n",
       "    <tr>\n",
       "      <th>2</th>\n",
       "      <td>449.0</td>\n",
       "      <td>국내도서</td>\n",
       "      <td>훈련으로 되는 제자</td>\n",
       "      <td>458277</td>\n",
       "      <td>9788937501791</td>\n",
       "      <td>NaN</td>\n",
       "      <td>월터 A. 헨릭슨 지음</td>\n",
       "      <td>네비게이토</td>\n",
       "      <td>1980-12-01</td>\n",
       "      <td>4500</td>\n",
       "      <td>4050</td>\n",
       "      <td>220점</td>\n",
       "      <td>552.0</td>\n",
       "      <td>종교/역학</td>\n",
       "      <td>2005년2월1주</td>\n",
       "    </tr>\n",
       "    <tr>\n",
       "      <th>3</th>\n",
       "      <td>490.0</td>\n",
       "      <td>국내도서</td>\n",
       "      <td>전태일 평전</td>\n",
       "      <td>128759</td>\n",
       "      <td>9788971990650</td>\n",
       "      <td>NaN</td>\n",
       "      <td>조영래 지음</td>\n",
       "      <td>돌베개</td>\n",
       "      <td>1983-06-01</td>\n",
       "      <td>6000</td>\n",
       "      <td>6000</td>\n",
       "      <td>60점</td>\n",
       "      <td>409.0</td>\n",
       "      <td>사회과학</td>\n",
       "      <td>2001년1월3주</td>\n",
       "    </tr>\n",
       "    <tr>\n",
       "      <th>4</th>\n",
       "      <td>300.0</td>\n",
       "      <td>국내도서</td>\n",
       "      <td>제자의 삶</td>\n",
       "      <td>131488</td>\n",
       "      <td>9788937502590</td>\n",
       "      <td>3230.0</td>\n",
       "      <td>프랜시스 M.코스그로브 지음</td>\n",
       "      <td>네비게이토</td>\n",
       "      <td>1984-07-01</td>\n",
       "      <td>12000</td>\n",
       "      <td>12000</td>\n",
       "      <td>360점</td>\n",
       "      <td>1110.0</td>\n",
       "      <td>종교/역학</td>\n",
       "      <td>2005년2월1주</td>\n",
       "    </tr>\n",
       "  </tbody>\n",
       "</table>\n",
       "</div>"
      ],
      "text/plain": [
       "   순번/순위    구분         상품명  ItemId         ISBN13     부가기호  \\\n",
       "0  322.0  국내도서  민병철 생활영어 1   54947  9788975121036  13740.0   \n",
       "1  767.0  국내도서     행복에의 초대  168173  9788932852218  93230.0   \n",
       "2  449.0  국내도서  훈련으로 되는 제자  458277  9788937501791      NaN   \n",
       "3  490.0  국내도서      전태일 평전  128759  9788971990650      NaN   \n",
       "4  300.0  국내도서       제자의 삶  131488  9788937502590   3230.0   \n",
       "\n",
       "                  저자/아티스트   출판사/제작사         출간일     정가    판매가  마일리지  세일즈포인트  \\\n",
       "0                  민병철 지음  민병철스피킹웍스  1979-10-01   5500   4950  270점   177.0   \n",
       "1  IVP(한국기독학생회출판부) 편집부 엮음       IVP  1979-12-01   2800   2660   20점  1960.0   \n",
       "2            월터 A. 헨릭슨 지음     네비게이토  1980-12-01   4500   4050  220점   552.0   \n",
       "3                  조영래 지음       돌베개  1983-06-01   6000   6000   60점   409.0   \n",
       "4         프랜시스 M.코스그로브 지음     네비게이토  1984-07-01  12000  12000  360점  1110.0   \n",
       "\n",
       "  대표분류(대분류명)     source  \n",
       "0        외국어  2001년1월3주  \n",
       "1      종교/역학  2005년2월1주  \n",
       "2      종교/역학  2005년2월1주  \n",
       "3       사회과학  2001년1월3주  \n",
       "4      종교/역학  2005년2월1주  "
      ]
     },
     "metadata": {},
     "output_type": "display_data"
    },
    {
     "data": {
      "text/html": [
       "<div>\n",
       "<style scoped>\n",
       "    .dataframe tbody tr th:only-of-type {\n",
       "        vertical-align: middle;\n",
       "    }\n",
       "\n",
       "    .dataframe tbody tr th {\n",
       "        vertical-align: top;\n",
       "    }\n",
       "\n",
       "    .dataframe thead th {\n",
       "        text-align: right;\n",
       "    }\n",
       "</style>\n",
       "<table border=\"1\" class=\"dataframe\">\n",
       "  <thead>\n",
       "    <tr style=\"text-align: right;\">\n",
       "      <th></th>\n",
       "      <th>ItemId</th>\n",
       "      <th>used_idx</th>\n",
       "      <th>delivery_fee</th>\n",
       "      <th>price</th>\n",
       "      <th>quality</th>\n",
       "      <th>store</th>\n",
       "      <th>url</th>\n",
       "    </tr>\n",
       "  </thead>\n",
       "  <tbody>\n",
       "    <tr>\n",
       "      <th>0</th>\n",
       "      <td>1000810</td>\n",
       "      <td>1</td>\n",
       "      <td>2500</td>\n",
       "      <td>5400</td>\n",
       "      <td>중</td>\n",
       "      <td>중고매장동탄2하나로마트점</td>\n",
       "      <td>https://www.aladin.co.kr/shop/wproduct.aspx?It...</td>\n",
       "    </tr>\n",
       "    <tr>\n",
       "      <th>1</th>\n",
       "      <td>1000810</td>\n",
       "      <td>10</td>\n",
       "      <td>2500</td>\n",
       "      <td>5600</td>\n",
       "      <td>상</td>\n",
       "      <td>중고매장대전시청역점</td>\n",
       "      <td>https://www.aladin.co.kr/shop/wproduct.aspx?It...</td>\n",
       "    </tr>\n",
       "    <tr>\n",
       "      <th>2</th>\n",
       "      <td>1000810</td>\n",
       "      <td>11</td>\n",
       "      <td>2500</td>\n",
       "      <td>5600</td>\n",
       "      <td>중</td>\n",
       "      <td>중고매장의정부홈플러스점</td>\n",
       "      <td>https://www.aladin.co.kr/shop/wproduct.aspx?It...</td>\n",
       "    </tr>\n",
       "    <tr>\n",
       "      <th>3</th>\n",
       "      <td>1000810</td>\n",
       "      <td>12</td>\n",
       "      <td>2500</td>\n",
       "      <td>5700</td>\n",
       "      <td>상</td>\n",
       "      <td>중고매장울산점</td>\n",
       "      <td>https://www.aladin.co.kr/shop/wproduct.aspx?It...</td>\n",
       "    </tr>\n",
       "    <tr>\n",
       "      <th>4</th>\n",
       "      <td>1000810</td>\n",
       "      <td>13</td>\n",
       "      <td>2500</td>\n",
       "      <td>5700</td>\n",
       "      <td>상</td>\n",
       "      <td>중고매장부천점</td>\n",
       "      <td>https://www.aladin.co.kr/shop/wproduct.aspx?It...</td>\n",
       "    </tr>\n",
       "  </tbody>\n",
       "</table>\n",
       "</div>"
      ],
      "text/plain": [
       "    ItemId  used_idx  delivery_fee  price quality          store  \\\n",
       "0  1000810         1          2500   5400       중  중고매장동탄2하나로마트점   \n",
       "1  1000810        10          2500   5600       상     중고매장대전시청역점   \n",
       "2  1000810        11          2500   5600       중   중고매장의정부홈플러스점   \n",
       "3  1000810        12          2500   5700       상        중고매장울산점   \n",
       "4  1000810        13          2500   5700       상        중고매장부천점   \n",
       "\n",
       "                                                 url  \n",
       "0  https://www.aladin.co.kr/shop/wproduct.aspx?It...  \n",
       "1  https://www.aladin.co.kr/shop/wproduct.aspx?It...  \n",
       "2  https://www.aladin.co.kr/shop/wproduct.aspx?It...  \n",
       "3  https://www.aladin.co.kr/shop/wproduct.aspx?It...  \n",
       "4  https://www.aladin.co.kr/shop/wproduct.aspx?It...  "
      ]
     },
     "metadata": {},
     "output_type": "display_data"
    }
   ],
   "source": [
    "bookinfo = pd.read_csv(bookdata_path)\n",
    "usedbook_data = pd.read_csv(usedbook_path)\n",
    "\n",
    "display(bookinfo.head())\n",
    "display(usedbook_data.head())"
   ]
  },
  {
   "cell_type": "code",
   "execution_count": 6,
   "metadata": {},
   "outputs": [
    {
     "name": "stdout",
     "output_type": "stream",
     "text": [
      "<class 'pandas.core.frame.DataFrame'>\n",
      "RangeIndex: 9328 entries, 0 to 9327\n",
      "Data columns (total 15 columns):\n",
      " #   Column      Non-Null Count  Dtype  \n",
      "---  ------      --------------  -----  \n",
      " 0   순번/순위       9328 non-null   float64\n",
      " 1   구분          9328 non-null   object \n",
      " 2   상품명         9328 non-null   object \n",
      " 3   ItemId      9328 non-null   int64  \n",
      " 4   ISBN13      9264 non-null   object \n",
      " 5   부가기호        7886 non-null   object \n",
      " 6   저자/아티스트     9328 non-null   object \n",
      " 7   출판사/제작사     9328 non-null   object \n",
      " 8   출간일         9328 non-null   object \n",
      " 9   정가          9328 non-null   int64  \n",
      " 10  판매가         9328 non-null   int64  \n",
      " 11  마일리지        9328 non-null   object \n",
      " 12  세일즈포인트      9328 non-null   float64\n",
      " 13  대표분류(대분류명)  9328 non-null   object \n",
      " 14  source      9328 non-null   object \n",
      "dtypes: float64(2), int64(3), object(10)\n",
      "memory usage: 1.1+ MB\n"
     ]
    },
    {
     "data": {
      "text/plain": [
       "None"
      ]
     },
     "metadata": {},
     "output_type": "display_data"
    },
    {
     "name": "stdout",
     "output_type": "stream",
     "text": [
      "<class 'pandas.core.frame.DataFrame'>\n",
      "RangeIndex: 6832 entries, 0 to 6831\n",
      "Data columns (total 7 columns):\n",
      " #   Column        Non-Null Count  Dtype \n",
      "---  ------        --------------  ----- \n",
      " 0   ItemId        6832 non-null   int64 \n",
      " 1   used_idx      6832 non-null   int64 \n",
      " 2   delivery_fee  6832 non-null   int64 \n",
      " 3   price         6832 non-null   int64 \n",
      " 4   quality       6832 non-null   object\n",
      " 5   store         6832 non-null   object\n",
      " 6   url           6832 non-null   object\n",
      "dtypes: int64(4), object(3)\n",
      "memory usage: 373.8+ KB\n"
     ]
    },
    {
     "data": {
      "text/plain": [
       "None"
      ]
     },
     "metadata": {},
     "output_type": "display_data"
    }
   ],
   "source": [
    "display(bookinfo.info())\n",
    "display(usedbook_data.info())"
   ]
  },
  {
   "cell_type": "code",
   "execution_count": 7,
   "metadata": {},
   "outputs": [
    {
     "data": {
      "text/html": [
       "<div>\n",
       "<style scoped>\n",
       "    .dataframe tbody tr th:only-of-type {\n",
       "        vertical-align: middle;\n",
       "    }\n",
       "\n",
       "    .dataframe tbody tr th {\n",
       "        vertical-align: top;\n",
       "    }\n",
       "\n",
       "    .dataframe thead th {\n",
       "        text-align: right;\n",
       "    }\n",
       "</style>\n",
       "<table border=\"1\" class=\"dataframe\">\n",
       "  <thead>\n",
       "    <tr style=\"text-align: right;\">\n",
       "      <th></th>\n",
       "      <th>Rank</th>\n",
       "      <th>Partition</th>\n",
       "      <th>BName</th>\n",
       "      <th>ItemId</th>\n",
       "      <th>ISBN13</th>\n",
       "      <th>AddCode</th>\n",
       "      <th>Author</th>\n",
       "      <th>Publshr</th>\n",
       "      <th>Pdate</th>\n",
       "      <th>RglPrice</th>\n",
       "      <th>SlsPrice</th>\n",
       "      <th>Mileage</th>\n",
       "      <th>SalesPoint</th>\n",
       "      <th>Category</th>\n",
       "      <th>Sorce</th>\n",
       "    </tr>\n",
       "  </thead>\n",
       "  <tbody>\n",
       "    <tr>\n",
       "      <th>0</th>\n",
       "      <td>322.0</td>\n",
       "      <td>국내도서</td>\n",
       "      <td>민병철 생활영어 1</td>\n",
       "      <td>54947</td>\n",
       "      <td>9788975121036</td>\n",
       "      <td>13740.0</td>\n",
       "      <td>민병철 지음</td>\n",
       "      <td>민병철스피킹웍스</td>\n",
       "      <td>1979-10-01</td>\n",
       "      <td>5500</td>\n",
       "      <td>4950</td>\n",
       "      <td>270점</td>\n",
       "      <td>177.0</td>\n",
       "      <td>외국어</td>\n",
       "      <td>2001년1월3주</td>\n",
       "    </tr>\n",
       "    <tr>\n",
       "      <th>1</th>\n",
       "      <td>767.0</td>\n",
       "      <td>국내도서</td>\n",
       "      <td>행복에의 초대</td>\n",
       "      <td>168173</td>\n",
       "      <td>9788932852218</td>\n",
       "      <td>93230.0</td>\n",
       "      <td>IVP(한국기독학생회출판부) 편집부 엮음</td>\n",
       "      <td>IVP</td>\n",
       "      <td>1979-12-01</td>\n",
       "      <td>2800</td>\n",
       "      <td>2660</td>\n",
       "      <td>20점</td>\n",
       "      <td>1960.0</td>\n",
       "      <td>종교/역학</td>\n",
       "      <td>2005년2월1주</td>\n",
       "    </tr>\n",
       "    <tr>\n",
       "      <th>2</th>\n",
       "      <td>449.0</td>\n",
       "      <td>국내도서</td>\n",
       "      <td>훈련으로 되는 제자</td>\n",
       "      <td>458277</td>\n",
       "      <td>9788937501791</td>\n",
       "      <td>NaN</td>\n",
       "      <td>월터 A. 헨릭슨 지음</td>\n",
       "      <td>네비게이토</td>\n",
       "      <td>1980-12-01</td>\n",
       "      <td>4500</td>\n",
       "      <td>4050</td>\n",
       "      <td>220점</td>\n",
       "      <td>552.0</td>\n",
       "      <td>종교/역학</td>\n",
       "      <td>2005년2월1주</td>\n",
       "    </tr>\n",
       "    <tr>\n",
       "      <th>3</th>\n",
       "      <td>490.0</td>\n",
       "      <td>국내도서</td>\n",
       "      <td>전태일 평전</td>\n",
       "      <td>128759</td>\n",
       "      <td>9788971990650</td>\n",
       "      <td>NaN</td>\n",
       "      <td>조영래 지음</td>\n",
       "      <td>돌베개</td>\n",
       "      <td>1983-06-01</td>\n",
       "      <td>6000</td>\n",
       "      <td>6000</td>\n",
       "      <td>60점</td>\n",
       "      <td>409.0</td>\n",
       "      <td>사회과학</td>\n",
       "      <td>2001년1월3주</td>\n",
       "    </tr>\n",
       "    <tr>\n",
       "      <th>4</th>\n",
       "      <td>300.0</td>\n",
       "      <td>국내도서</td>\n",
       "      <td>제자의 삶</td>\n",
       "      <td>131488</td>\n",
       "      <td>9788937502590</td>\n",
       "      <td>3230.0</td>\n",
       "      <td>프랜시스 M.코스그로브 지음</td>\n",
       "      <td>네비게이토</td>\n",
       "      <td>1984-07-01</td>\n",
       "      <td>12000</td>\n",
       "      <td>12000</td>\n",
       "      <td>360점</td>\n",
       "      <td>1110.0</td>\n",
       "      <td>종교/역학</td>\n",
       "      <td>2005년2월1주</td>\n",
       "    </tr>\n",
       "    <tr>\n",
       "      <th>...</th>\n",
       "      <td>...</td>\n",
       "      <td>...</td>\n",
       "      <td>...</td>\n",
       "      <td>...</td>\n",
       "      <td>...</td>\n",
       "      <td>...</td>\n",
       "      <td>...</td>\n",
       "      <td>...</td>\n",
       "      <td>...</td>\n",
       "      <td>...</td>\n",
       "      <td>...</td>\n",
       "      <td>...</td>\n",
       "      <td>...</td>\n",
       "      <td>...</td>\n",
       "      <td>...</td>\n",
       "    </tr>\n",
       "    <tr>\n",
       "      <th>9323</th>\n",
       "      <td>68.0</td>\n",
       "      <td>국내도서</td>\n",
       "      <td>장송의 프리렌 12</td>\n",
       "      <td>342597187</td>\n",
       "      <td>9791141131623</td>\n",
       "      <td>NaN</td>\n",
       "      <td>야마다 카네히토 지음, 아베 츠카사 그림, 서현아 옮김</td>\n",
       "      <td>학산문화사(만화)</td>\n",
       "      <td>2024-07-25</td>\n",
       "      <td>6000</td>\n",
       "      <td>5400</td>\n",
       "      <td>300점</td>\n",
       "      <td>10530.0</td>\n",
       "      <td>만화</td>\n",
       "      <td>2024년7월2주</td>\n",
       "    </tr>\n",
       "    <tr>\n",
       "      <th>9324</th>\n",
       "      <td>138.0</td>\n",
       "      <td>국내도서</td>\n",
       "      <td>약사의 혼잣말 13</td>\n",
       "      <td>342597589</td>\n",
       "      <td>9791141137175</td>\n",
       "      <td>NaN</td>\n",
       "      <td>네코쿠라게 지음, 시노 토우코 그림, 휴우가 나츠 원작, 나나오 이츠키 구성</td>\n",
       "      <td>학산문화사(만화)</td>\n",
       "      <td>2024-07-25</td>\n",
       "      <td>6000</td>\n",
       "      <td>5400</td>\n",
       "      <td>300점</td>\n",
       "      <td>5870.0</td>\n",
       "      <td>만화</td>\n",
       "      <td>2024년7월2주</td>\n",
       "    </tr>\n",
       "    <tr>\n",
       "      <th>9325</th>\n",
       "      <td>129.0</td>\n",
       "      <td>국내도서</td>\n",
       "      <td>타몬 군 지금 어느 쪽?! 7</td>\n",
       "      <td>342597714</td>\n",
       "      <td>9791141131678</td>\n",
       "      <td>NaN</td>\n",
       "      <td>시와스 유키 지음, 최윤정 옮김</td>\n",
       "      <td>학산문화사(만화)</td>\n",
       "      <td>2024-07-25</td>\n",
       "      <td>6000</td>\n",
       "      <td>5400</td>\n",
       "      <td>300점</td>\n",
       "      <td>6370.0</td>\n",
       "      <td>만화</td>\n",
       "      <td>2024년7월2주</td>\n",
       "    </tr>\n",
       "    <tr>\n",
       "      <th>9326</th>\n",
       "      <td>209.0</td>\n",
       "      <td>국내도서</td>\n",
       "      <td>천재 의사 시건방 1</td>\n",
       "      <td>342388828</td>\n",
       "      <td>9791160342147</td>\n",
       "      <td>74810</td>\n",
       "      <td>강효미 지음, 유영근 그림</td>\n",
       "      <td>머스트비</td>\n",
       "      <td>2024-07-31</td>\n",
       "      <td>13000</td>\n",
       "      <td>11700</td>\n",
       "      <td>650점</td>\n",
       "      <td>8190.0</td>\n",
       "      <td>어린이</td>\n",
       "      <td>2024년7월2주</td>\n",
       "    </tr>\n",
       "    <tr>\n",
       "      <th>9327</th>\n",
       "      <td>1.0</td>\n",
       "      <td>국내도서</td>\n",
       "      <td>전지적 루이&amp;후이 시점 (양장본)</td>\n",
       "      <td>342594262</td>\n",
       "      <td>9791171712373</td>\n",
       "      <td>3810</td>\n",
       "      <td>송영관 지음, 송영관.류정훈 사진</td>\n",
       "      <td>위즈덤하우스</td>\n",
       "      <td>2024-07-31</td>\n",
       "      <td>25000</td>\n",
       "      <td>22500</td>\n",
       "      <td>1,250점</td>\n",
       "      <td>89930.0</td>\n",
       "      <td>에세이</td>\n",
       "      <td>2024년7월2주</td>\n",
       "    </tr>\n",
       "  </tbody>\n",
       "</table>\n",
       "<p>9328 rows × 15 columns</p>\n",
       "</div>"
      ],
      "text/plain": [
       "       Rank Partition               BName     ItemId         ISBN13  AddCode  \\\n",
       "0     322.0      국내도서          민병철 생활영어 1      54947  9788975121036  13740.0   \n",
       "1     767.0      국내도서             행복에의 초대     168173  9788932852218  93230.0   \n",
       "2     449.0      국내도서          훈련으로 되는 제자     458277  9788937501791      NaN   \n",
       "3     490.0      국내도서              전태일 평전     128759  9788971990650      NaN   \n",
       "4     300.0      국내도서               제자의 삶     131488  9788937502590   3230.0   \n",
       "...     ...       ...                 ...        ...            ...      ...   \n",
       "9323   68.0      국내도서          장송의 프리렌 12  342597187  9791141131623      NaN   \n",
       "9324  138.0      국내도서          약사의 혼잣말 13  342597589  9791141137175      NaN   \n",
       "9325  129.0      국내도서    타몬 군 지금 어느 쪽?! 7  342597714  9791141131678      NaN   \n",
       "9326  209.0      국내도서         천재 의사 시건방 1  342388828  9791160342147    74810   \n",
       "9327    1.0      국내도서  전지적 루이&후이 시점 (양장본)  342594262  9791171712373     3810   \n",
       "\n",
       "                                          Author    Publshr       Pdate  \\\n",
       "0                                         민병철 지음   민병철스피킹웍스  1979-10-01   \n",
       "1                         IVP(한국기독학생회출판부) 편집부 엮음        IVP  1979-12-01   \n",
       "2                                   월터 A. 헨릭슨 지음      네비게이토  1980-12-01   \n",
       "3                                         조영래 지음        돌베개  1983-06-01   \n",
       "4                                프랜시스 M.코스그로브 지음      네비게이토  1984-07-01   \n",
       "...                                          ...        ...         ...   \n",
       "9323              야마다 카네히토 지음, 아베 츠카사 그림, 서현아 옮김  학산문화사(만화)  2024-07-25   \n",
       "9324  네코쿠라게 지음, 시노 토우코 그림, 휴우가 나츠 원작, 나나오 이츠키 구성  학산문화사(만화)  2024-07-25   \n",
       "9325                           시와스 유키 지음, 최윤정 옮김  학산문화사(만화)  2024-07-25   \n",
       "9326                              강효미 지음, 유영근 그림       머스트비  2024-07-31   \n",
       "9327                          송영관 지음, 송영관.류정훈 사진     위즈덤하우스  2024-07-31   \n",
       "\n",
       "      RglPrice  SlsPrice Mileage  SalesPoint Category      Sorce  \n",
       "0         5500      4950    270점       177.0      외국어  2001년1월3주  \n",
       "1         2800      2660     20점      1960.0    종교/역학  2005년2월1주  \n",
       "2         4500      4050    220점       552.0    종교/역학  2005년2월1주  \n",
       "3         6000      6000     60점       409.0     사회과학  2001년1월3주  \n",
       "4        12000     12000    360점      1110.0    종교/역학  2005년2월1주  \n",
       "...        ...       ...     ...         ...      ...        ...  \n",
       "9323      6000      5400    300점     10530.0       만화  2024년7월2주  \n",
       "9324      6000      5400    300점      5870.0       만화  2024년7월2주  \n",
       "9325      6000      5400    300점      6370.0       만화  2024년7월2주  \n",
       "9326     13000     11700    650점      8190.0      어린이  2024년7월2주  \n",
       "9327     25000     22500  1,250점     89930.0      에세이  2024년7월2주  \n",
       "\n",
       "[9328 rows x 15 columns]"
      ]
     },
     "execution_count": 7,
     "metadata": {},
     "output_type": "execute_result"
    }
   ],
   "source": [
    "col_name_dict= {\n",
    "    '순번/순위' : 'Rank',\n",
    "    '구분' : 'Partition',\n",
    "    '상품명' : 'BName',\n",
    "    '부가기호' : 'AddCode',\n",
    "    '저자/아티스트' : 'Author',\n",
    "    '출판사/제작사' : 'Publshr',\n",
    "    '출간일' : 'Pdate',\n",
    "    '정가' : 'RglPrice',\n",
    "    '판매가' : 'SlsPrice',\n",
    "    '마일리지' : 'Mileage',\n",
    "    '세일즈포인트' : 'SalesPoint',\n",
    "    '대표분류(대분류명)' : 'Category',\n",
    "    'source' : 'Sorce'\n",
    "}\n",
    "bookinfo = bookinfo.rename(columns=col_name_dict)\n",
    "bookinfo"
   ]
  },
  {
   "cell_type": "markdown",
   "metadata": {},
   "source": [
    "#### 전처리\n",
    "- 현재 크롤링 코드 상, 중고 매물 목록에는 결측치가 없음\n",
    "- 이상치 또한 정의할 필요 없음\n",
    "\n",
    "- bookinfo DB\n",
    "    - 발간일 : dt로 변환 \n",
    "    - 저자 : \n",
    "        - 역할 별 분리\n",
    "    - 제목 :\n",
    "        - 특이사항 추출 (\\[\\], () 안의 내용)\n",
    "        - mecab으로 tokenize 및 encoding\n",
    "            - tokenize할 때 모든 token을 포함할지 조사 등은 제외할지 판단 필요\n",
    "        - padding \n",
    "    - 출판사 :\n",
    "        - 그냥 인코딩할지 tokenize이후 encoding할지 고민\n",
    "        - 차원 측면에서 어떻게 더 나은지 판단 필요\n",
    "    - 대분류 : (위와 동일)\n",
    "- usedbook DB\n",
    "    - quality 인코딩\n",
    "- 전처리는 아니지만, usedbook DB에 책 이름은 넣는 것이 더 나았을 듯 "
   ]
  },
  {
   "cell_type": "markdown",
   "metadata": {},
   "source": [
    "### 저자\n",
    "- 편집자, 편집부로 되어있는 값들도 있는지 추후에 확인 필요"
   ]
  },
  {
   "cell_type": "code",
   "execution_count": 8,
   "metadata": {},
   "outputs": [
    {
     "data": {
      "text/plain": [
       "8614"
      ]
     },
     "execution_count": 8,
     "metadata": {},
     "output_type": "execute_result"
    }
   ],
   "source": [
    "cond = bookinfo.Author.apply(lambda x: '지음' in x)\n",
    "np.sum(cond)"
   ]
  },
  {
   "cell_type": "code",
   "execution_count": 9,
   "metadata": {},
   "outputs": [
    {
     "data": {
      "text/plain": [
       "1                   IVP(한국기독학생회출판부) 편집부 엮음\n",
       "7                           나관중 원작, 이문열 평역\n",
       "8                           나관중 원작, 이문열 평역\n",
       "10                          나관중 원작, 이문열 평역\n",
       "11                          나관중 원작, 이문열 평역\n",
       "                       ...                \n",
       "9243                          여성문학사연구모임 엮음\n",
       "9263         박현미 그림, 황혜영 글, 최재천 기획, 안선영 해설\n",
       "9281    도니패밀리 그림, 이종혁 글, 흔한컴퍼니 감수, 흔한남매 원작\n",
       "9294                                나정현 엮음\n",
       "9303                삼성출판사 편집부 엮음, 김진영 외 감수\n",
       "Name: Author, Length: 714, dtype: object"
      ]
     },
     "execution_count": 9,
     "metadata": {},
     "output_type": "execute_result"
    }
   ],
   "source": [
    "temp= bookinfo.loc[~cond,'Author']\n",
    "temp"
   ]
  },
  {
   "cell_type": "code",
   "execution_count": 10,
   "metadata": {},
   "outputs": [
    {
     "data": {
      "text/plain": [
       "19                  조정래\n",
       "22            한국심장질환연구소\n",
       "24                  조정래\n",
       "25                  조정래\n",
       "28                  김홍경\n",
       "             ...       \n",
       "4651           프리드리히 니체\n",
       "4875                강윤혜\n",
       "4983    존슨 너새니얼 펄트, 박광호\n",
       "5387            One (원)\n",
       "6164           월간 수퍼레시피\n",
       "Name: Author, Length: 80, dtype: object"
      ]
     },
     "execution_count": 10,
     "metadata": {},
     "output_type": "execute_result"
    }
   ],
   "source": [
    "import functools\n",
    "\n",
    "role_list = ['지음','엮음','그림','글','기획','해석','감수','평역','원작','저자','해설','옮김','편저','극본','소설']\n",
    "cond_list = [temp.apply(lambda x: role in x) for role in role_list]\n",
    "\n",
    "cond = functools.reduce(lambda x,y : x|y , cond_list)\n",
    "\n",
    "res=temp[~cond]\n",
    "res"
   ]
  },
  {
   "cell_type": "code",
   "execution_count": 11,
   "metadata": {},
   "outputs": [
    {
     "data": {
      "text/plain": [
       "19           조정래\n",
       "22     한국심장질환연구소\n",
       "24           조정래\n",
       "25           조정래\n",
       "28           김홍경\n",
       "36         김용운 외\n",
       "38         조이도우슨\n",
       "48          생명의삶\n",
       "52         귄터크랄만\n",
       "65     로이스톤M.로버츠\n",
       "72           조정래\n",
       "78           조정래\n",
       "83           조정래\n",
       "94           윤재근\n",
       "106       빌 하이벨스\n",
       "109       배리 클레어\n",
       "115      그레이엄 핸콕\n",
       "116      그레이엄 핸콕\n",
       "124          조정래\n",
       "147          정영택\n",
       "Name: Author, dtype: object"
      ]
     },
     "execution_count": 11,
     "metadata": {},
     "output_type": "execute_result"
    }
   ],
   "source": [
    "res.iloc[0:20]"
   ]
  },
  {
   "cell_type": "code",
   "execution_count": 12,
   "metadata": {},
   "outputs": [
    {
     "data": {
      "text/plain": [
       "173    한스 피터 마르틴 외\n",
       "180            편집부\n",
       "194            이덕일\n",
       "196            한철호\n",
       "221            김유미\n",
       "222          성낙수 외\n",
       "226            박경환\n",
       "228            진중권\n",
       "262         카미오 요코\n",
       "266          장영지 외\n",
       "279          강도운 외\n",
       "295         안은수 편역\n",
       "339         헨리 나우웬\n",
       "352            김용옥\n",
       "369            정찬용\n",
       "465         도몬 후유지\n",
       "473         페터 비트머\n",
       "477             금오\n",
       "493     하용조목사 편찬책임\n",
       "563        레프 똘스또이\n",
       "Name: Author, dtype: object"
      ]
     },
     "execution_count": 12,
     "metadata": {},
     "output_type": "execute_result"
    }
   ],
   "source": [
    "res.iloc[20:40]"
   ]
  },
  {
   "cell_type": "code",
   "execution_count": 13,
   "metadata": {},
   "outputs": [
    {
     "data": {
      "text/plain": [
       "605           존 로빈스\n",
       "617             윤평중\n",
       "641        볼프강 헤를레스\n",
       "654         오사카 미에코\n",
       "664             이덕일\n",
       "665             김홍경\n",
       "671             김수자\n",
       "674       베르나르 베르베르\n",
       "677          해리 벡위드\n",
       "679        토머스 프리드만\n",
       "867     도서출판 삼인 편집부\n",
       "913        야마오카 소하치\n",
       "914        야마오카 소하치\n",
       "915        야마오카 소하치\n",
       "916        야마오카 소하치\n",
       "917        야마오카 소하치\n",
       "1084       이자와 모토히코\n",
       "1085       이자와 모토히코\n",
       "1086       이자와 모토히코\n",
       "1133            김양현\n",
       "Name: Author, dtype: object"
      ]
     },
     "execution_count": 13,
     "metadata": {},
     "output_type": "execute_result"
    }
   ],
   "source": [
    "res.iloc[40:60]"
   ]
  },
  {
   "cell_type": "code",
   "execution_count": 14,
   "metadata": {},
   "outputs": [
    {
     "data": {
      "text/plain": [
       "1195                    이윤기 외 대담\n",
       "1424                      이병혁 역주\n",
       "1697                         김진명\n",
       "1951                     마쯔이 다다시\n",
       "1993               이루마 작곡, 서인 편곡\n",
       "2172                         안도현\n",
       "2971                    이병관 자원집필\n",
       "2978                         김하중\n",
       "3003                      장재석 편역\n",
       "3171                     두날개 편집부\n",
       "3174            서울대학교 TEPS 관리위원회\n",
       "3241                      ㈜티큐엠에스\n",
       "3548                         김하중\n",
       "3895    서울대학교 TEPS 관리위원회 기출문제 제공\n",
       "4375                     One (원)\n",
       "4651                    프리드리히 니체\n",
       "4875                         강윤혜\n",
       "4983             존슨 너새니얼 펄트, 박광호\n",
       "5387                     One (원)\n",
       "6164                    월간 수퍼레시피\n",
       "Name: Author, dtype: object"
      ]
     },
     "execution_count": 14,
     "metadata": {},
     "output_type": "execute_result"
    }
   ],
   "source": [
    "res.iloc[60:80]"
   ]
  },
  {
   "cell_type": "code",
   "execution_count": 38,
   "metadata": {},
   "outputs": [
    {
     "name": "stdout",
     "output_type": "stream",
     "text": [
      "['지음', '엮음', '그림', '글', '기획', '해석', '감수', '평역', '원작', '저자', '해설', '옮김', '편저', '극본', '소설', '대담', '작곡', '편곡', '제공', '편역', '집필', '책임']\n"
     ]
    },
    {
     "data": {
      "text/plain": [
       "22"
      ]
     },
     "execution_count": 38,
     "metadata": {},
     "output_type": "execute_result"
    }
   ],
   "source": [
    "add_role = ['대담','작곡','편곡','제공','편역','집필','책임']\n",
    "role_list = role_list + add_role\n",
    "print(role_list)\n",
    "len(role_list)"
   ]
  },
  {
   "cell_type": "markdown",
   "metadata": {},
   "source": [
    "- ~ 00, ~ 00 의 패턴을 인식해서 분리 후\n",
    "- 00 중에서 글, 지음 등을 제외하고는 기타 role에 dict로 넣음 ()\n",
    "    -마지막 단어가 정확히 00이 아니라 00이 마지막에 포함된 경우도 체크 해봐야 함\n",
    "- 00이 안 들어간 경우는 '지음'으로 간주\n",
    "\n",
    "**정리**\n",
    "1. ','로 분리\n",
    "2. 각 내용에서 띄어쓰기로 분리\n",
    "3. len > 1 이면 맨 뒤의 글자 확인 => 모든 리스트 뽑은 뒤 unique 처리 해서 role에 없는 것 확인 (외국이름 많을 듯)\n",
    "4. 만약 role이면 체크\n",
    "5. 만약 role이 아니면 앞의 그룹에 묶음\n",
    "6. 결과를 dict로 저장"
   ]
  },
  {
   "cell_type": "code",
   "execution_count": 17,
   "metadata": {},
   "outputs": [
    {
     "data": {
      "text/plain": [
       "0                                           [민병철 지음]\n",
       "1                           [IVP(한국기독학생회출판부) 편집부 엮음]\n",
       "2                                     [월터 A. 헨릭슨 지음]\n",
       "3                                           [조영래 지음]\n",
       "4                                  [프랜시스 M.코스그로브 지음]\n",
       "                            ...                     \n",
       "9323                [야마다 카네히토 지음, 아베 츠카사 그림, 서현아 옮김]\n",
       "9324    [네코쿠라게 지음, 시노 토우코 그림, 휴우가 나츠 원작, 나나오 이츠키 구성]\n",
       "9325                             [시와스 유키 지음, 최윤정 옮김]\n",
       "9326                                [강효미 지음, 유영근 그림]\n",
       "9327                            [송영관 지음, 송영관.류정훈 사진]\n",
       "Name: Author, Length: 9328, dtype: object"
      ]
     },
     "execution_count": 17,
     "metadata": {},
     "output_type": "execute_result"
    }
   ],
   "source": [
    "authors = bookinfo['Author'].str.split(',').apply(lambda x: list(map(str.strip,x)))\n",
    "authors"
   ]
  },
  {
   "cell_type": "code",
   "execution_count": 25,
   "metadata": {},
   "outputs": [],
   "source": [
    "import itertools\n",
    "\n",
    "authors_postfix = authors.apply(lambda x: list(map(lambda y : y.split(' ')[-1],x)))\n",
    "temp = list(authors_postfix.values)\n",
    "postfix_list = list(set(list(itertools.chain.from_iterable(temp))))"
   ]
  },
  {
   "cell_type": "code",
   "execution_count": 26,
   "metadata": {},
   "outputs": [
    {
     "data": {
      "text/plain": [
       "{0: [''],\n",
       " 1: ['글', '시', '역', '외', '램', '그'],\n",
       " 2: ['제공',\n",
       "  '버넷',\n",
       "  '소설',\n",
       "  '핸콕',\n",
       "  '요코',\n",
       "  '극본',\n",
       "  '강의',\n",
       "  '사진',\n",
       "  '구술',\n",
       "  '켈리',\n",
       "  '편역',\n",
       "  '정리',\n",
       "  '엮음',\n",
       "  '부록',\n",
       "  '편저',\n",
       "  '감수',\n",
       "  '교열',\n",
       "  '그림',\n",
       "  '역주',\n",
       "  '주해',\n",
       "  '판화',\n",
       "  '지음',\n",
       "  '펄트',\n",
       "  '에코',\n",
       "  '호그',\n",
       "  '김린',\n",
       "  '릭킴',\n",
       "  '연출',\n",
       "  '감역',\n",
       "  '서문',\n",
       "  '자문',\n",
       "  '옮김',\n",
       "  '방곤',\n",
       "  '편집',\n",
       "  '평역',\n",
       "  '배릿',\n",
       "  '만화',\n",
       "  '리스',\n",
       "  '법륜',\n",
       "  '사회',\n",
       "  '추천',\n",
       "  '해제',\n",
       "  '각본',\n",
       "  '조길',\n",
       "  '정민',\n",
       "  '저자',\n",
       "  '각색',\n",
       "  '원안',\n",
       "  '역자',\n",
       "  '영역',\n",
       "  '해설',\n",
       "  '쉥커',\n",
       "  '구성',\n",
       "  '캠벨',\n",
       "  '요리',\n",
       "  '기획',\n",
       "  '원작',\n",
       "  '금오',\n",
       "  '머리',\n",
       "  '지도',\n",
       "  '작곡',\n",
       "  '하연',\n",
       "  '니체',\n",
       "  '대담',\n",
       "  '편곡'],\n",
       " 3: ['클레어',\n",
       "  '이형주',\n",
       "  '이선재',\n",
       "  '정진욱',\n",
       "  '진중권',\n",
       "  '유호철',\n",
       "  '김양현',\n",
       "  '김선애',\n",
       "  '정재승',\n",
       "  '이옥향',\n",
       "  '캐릭터',\n",
       "  '김용섭',\n",
       "  '강윤석',\n",
       "  '홍종남',\n",
       "  '마사시',\n",
       "  '박광호',\n",
       "  '안도현',\n",
       "  '박경환',\n",
       "  '나우웬',\n",
       "  'NEW',\n",
       "  '김형국',\n",
       "  '김홍경',\n",
       "  '모리스',\n",
       "  '김유미',\n",
       "  '비트머',\n",
       "  '박완서',\n",
       "  '베니스',\n",
       "  '김용갑',\n",
       "  '홍세화',\n",
       "  '정호승',\n",
       "  '강윤혜',\n",
       "  '캔필드',\n",
       "  '디자인',\n",
       "  '이영훈',\n",
       "  '스토리',\n",
       "  \"선집'\",\n",
       "  '보트랭',\n",
       "  '김하중',\n",
       "  '미에코',\n",
       "  '강명재',\n",
       "  '정해동',\n",
       "  '구태회',\n",
       "  '양선옥',\n",
       "  '박경서',\n",
       "  '정영택',\n",
       "  '최원철',\n",
       "  '나오키',\n",
       "  '김용옥',\n",
       "  '엘리슨',\n",
       "  '편집부',\n",
       "  '조정래',\n",
       "  '전현정',\n",
       "  'R&D',\n",
       "  '조형진',\n",
       "  '윤재근',\n",
       "  '김종일',\n",
       "  '최정규',\n",
       "  '박동욱',\n",
       "  '안종욱',\n",
       "  '정승원',\n",
       "  '벡위드',\n",
       "  '박윤정',\n",
       "  '디렉터',\n",
       "  '애커만',\n",
       "  '홍연미',\n",
       "  '김수자',\n",
       "  '김기현',\n",
       "  '모나코',\n",
       "  '로빈스',\n",
       "  '윤평중',\n",
       "  '이미지',\n",
       "  '정경식',\n",
       "  '이현우',\n",
       "  '한철호',\n",
       "  '박수밀',\n",
       "  '박노자',\n",
       "  '후유지',\n",
       "  '(원)',\n",
       "  '이지희',\n",
       "  '박웅현',\n",
       "  '심재후',\n",
       "  '한상홍',\n",
       "  '김광용',\n",
       "  '김우경',\n",
       "  '이우신',\n",
       "  '정영목',\n",
       "  '샌더스',\n",
       "  '장석준',\n",
       "  '이정훈',\n",
       "  '이동숙',\n",
       "  '이어령',\n",
       "  '이종도',\n",
       "  '비덜프',\n",
       "  '하지메',\n",
       "  '카즈마',\n",
       "  '고영자',\n",
       "  '강헌구',\n",
       "  '송만철',\n",
       "  '사와코',\n",
       "  '양회석',\n",
       "  '데레사',\n",
       "  '이병련',\n",
       "  '이덕일',\n",
       "  '홍준호',\n",
       "  '풀어씀',\n",
       "  '다다시',\n",
       "  '총편집',\n",
       "  'B.)',\n",
       "  '최연희',\n",
       "  '박영배',\n",
       "  '김선형',\n",
       "  '글래스',\n",
       "  '정찬용',\n",
       "  '강승덕',\n",
       "  '권태운',\n",
       "  '최연화',\n",
       "  '김진명',\n",
       "  '문인수',\n",
       "  '배병철',\n",
       "  '소하치'],\n",
       " 4: ['엮고지음',\n",
       "  '옮겨엮음',\n",
       "  '일러스트',\n",
       "  '키요히코',\n",
       "  '하이벨스',\n",
       "  '안전길실',\n",
       "  '와이코프',\n",
       "  '자원집필',\n",
       "  '책임편집',\n",
       "  '소설구성',\n",
       "  '키키야마',\n",
       "  '쿠츄리에',\n",
       "  '시나리오',\n",
       "  'J.린치',\n",
       "  '스나이더',\n",
       "  '모토히코',\n",
       "  '생명의삶',\n",
       "  '헤를레스',\n",
       "  '글.사진',\n",
       "  '프리드만',\n",
       "  '똘스또이',\n",
       "  '콘티구성',\n",
       "  '블랜차드',\n",
       "  '편찬책임',\n",
       "  '글.그림',\n",
       "  '베르베르',\n",
       "  '글.삽화',\n",
       "  '기요사키',\n",
       "  '아시아팩'],\n",
       " 5: ['기획.제작',\n",
       "  '동영상강의',\n",
       "  '조이도우슨',\n",
       "  '엮음.사진',\n",
       "  '관리위원회',\n",
       "  '수퍼레시피',\n",
       "  '스프라이처',\n",
       "  '기획.채록',\n",
       "  '귄터크랄만',\n",
       "  '편집·해설'],\n",
       " 6: ['㈜티큐엠에스', 'Studio'],\n",
       " 7: ['국가인권위원회', '영진정보연구소', '고영웅.신중혜'],\n",
       " 8: ['사진.캘리그라피'],\n",
       " 9: ['Horstmann', '로이스톤M.로버츠', 'Cornelius', '한국심장질환연구소'],\n",
       " 10: [],\n",
       " 11: [],\n",
       " 12: ['일본초등학교국어교과서선']}"
      ]
     },
     "execution_count": 26,
     "metadata": {},
     "output_type": "execute_result"
    }
   ],
   "source": [
    "max_len = max(list(map(len,postfix_list)))\n",
    "postfix_dict = {key : [] for key in range(max_len+1)}\n",
    "for ele in postfix_list :\n",
    "    postfix_dict[len(ele)].append(ele)\n",
    "    \n",
    "postfix_dict"
   ]
  },
  {
   "cell_type": "code",
   "execution_count": 29,
   "metadata": {},
   "outputs": [
    {
     "name": "stdout",
     "output_type": "stream",
     "text": [
      "0 : 1\n",
      "1 : 6\n",
      "2 : 65\n",
      "3 : 120\n",
      "4 : 29\n",
      "5 : 10\n",
      "6 : 2\n",
      "7 : 3\n",
      "8 : 1\n",
      "9 : 4\n",
      "10 : 0\n",
      "11 : 0\n",
      "12 : 1\n"
     ]
    }
   ],
   "source": [
    "for key,val in postfix_dict.items():\n",
    "    print(key,\":\",len(val))"
   ]
  },
  {
   "cell_type": "markdown",
   "metadata": {},
   "source": [
    "- len = 2, 3에는 이름이 많이 포함되어있는 것으로 예상했음\n",
    "- len = 0, 1 인 경우는 어떤 경우들인지 raw 확인해봐야함"
   ]
  },
  {
   "cell_type": "code",
   "execution_count": 33,
   "metadata": {},
   "outputs": [
    {
     "data": {
      "text/plain": [
       "(9043    [지음, 그림, 옮김, 감수, ]\n",
       " Name: Author, dtype: object,\n",
       " 9043    [앨리스 제임스 외 지음, 페데리코 마리아니 외 그림, 송지혜 옮김, 마틴 폴리 외...\n",
       " Name: Author, dtype: object)"
      ]
     },
     "execution_count": 33,
     "metadata": {},
     "output_type": "execute_result"
    }
   ],
   "source": [
    "val = 0\n",
    "\n",
    "cand = set(postfix_dict[val])\n",
    "cond = authors_postfix.apply(lambda x : len(set(x).intersection(cand))>0)\n",
    "authors_postfix[cond],authors[cond]"
   ]
  },
  {
   "cell_type": "code",
   "execution_count": 37,
   "metadata": {},
   "outputs": [
    {
     "data": {
      "text/plain": [
       "array([list(['앨리스 제임스 외 지음', '페데리코 마리아니 외 그림', '송지혜 옮김', '마틴 폴리 외 감수', ''])],\n",
       "      dtype=object)"
      ]
     },
     "metadata": {},
     "output_type": "display_data"
    },
    {
     "data": {
      "text/plain": [
       "9043    앨리스 제임스 외 지음, 페데리코 마리아니 외 그림, 송지혜 옮김, 마틴 폴리 외 ...\n",
       "Name: Author, dtype: object"
      ]
     },
     "metadata": {},
     "output_type": "display_data"
    }
   ],
   "source": [
    "display(authors[cond].values)\n",
    "display(bookinfo.loc[cond,'Author'])"
   ]
  },
  {
   "cell_type": "code",
   "execution_count": 38,
   "metadata": {},
   "outputs": [
    {
     "data": {
      "text/plain": [
       "'앨리스 제임스 외 지음, 페데리코 마리아니 외 그림, 송지혜 옮김, 마틴 폴리 외 감수, '"
      ]
     },
     "execution_count": 38,
     "metadata": {},
     "output_type": "execute_result"
    }
   ],
   "source": [
    "temp = list(bookinfo.loc[cond,'Author'].values)[0]\n",
    "temp"
   ]
  },
  {
   "cell_type": "code",
   "execution_count": 49,
   "metadata": {},
   "outputs": [
    {
     "data": {
      "text/plain": [
       "(36                  [외]\n",
       " 173                 [외]\n",
       " 222                 [외]\n",
       " 266                 [외]\n",
       " 279                 [외]\n",
       " 886             [램, 지음]\n",
       " 5441        [지음, 옮김, 외]\n",
       " 6282    [지음, 그림, 옮김, 그]\n",
       " Name: Author, dtype: object,\n",
       " 36                                            [김용운 외]\n",
       " 173                                     [한스 피터 마르틴 외]\n",
       " 222                                           [성낙수 외]\n",
       " 266                                           [장영지 외]\n",
       " 279                                           [강도운 외]\n",
       " 886                                   [찰스 램, 메리 램 지음]\n",
       " 5441                      [토마 마티외 지음, 맹슬기 옮김, 권김현영 외]\n",
       " 6282    [샤를 피에르 보들레르 지음, 앙리 마티스 엮고 그림, 김인환 옮김, 정장진 그]\n",
       " Name: Author, dtype: object)"
      ]
     },
     "execution_count": 49,
     "metadata": {},
     "output_type": "execute_result"
    }
   ],
   "source": [
    "val =  1\n",
    "\n",
    "cand = set(postfix_dict[val])\n",
    "cand = set(['램','외','그'])\n",
    "cond = authors_postfix.apply(lambda x : len(set(x).intersection(cand))>0)\n",
    "authors_postfix[cond],authors[cond]"
   ]
  },
  {
   "cell_type": "code",
   "execution_count": 50,
   "metadata": {},
   "outputs": [
    {
     "data": {
      "text/plain": [
       "'한스 피터 마르틴 외'"
      ]
     },
     "execution_count": 50,
     "metadata": {},
     "output_type": "execute_result"
    }
   ],
   "source": [
    "temp = list(bookinfo.loc[cond,'Author'].values)[1]\n",
    "temp"
   ]
  },
  {
   "cell_type": "code",
   "execution_count": 51,
   "metadata": {},
   "outputs": [
    {
     "data": {
      "text/html": [
       "<div>\n",
       "<style scoped>\n",
       "    .dataframe tbody tr th:only-of-type {\n",
       "        vertical-align: middle;\n",
       "    }\n",
       "\n",
       "    .dataframe tbody tr th {\n",
       "        vertical-align: top;\n",
       "    }\n",
       "\n",
       "    .dataframe thead th {\n",
       "        text-align: right;\n",
       "    }\n",
       "</style>\n",
       "<table border=\"1\" class=\"dataframe\">\n",
       "  <thead>\n",
       "    <tr style=\"text-align: right;\">\n",
       "      <th></th>\n",
       "      <th>Rank</th>\n",
       "      <th>Partition</th>\n",
       "      <th>BName</th>\n",
       "      <th>ItemId</th>\n",
       "      <th>ISBN13</th>\n",
       "      <th>AddCode</th>\n",
       "      <th>Author</th>\n",
       "      <th>Publshr</th>\n",
       "      <th>Pdate</th>\n",
       "      <th>RglPrice</th>\n",
       "      <th>SlsPrice</th>\n",
       "      <th>Mileage</th>\n",
       "      <th>SalesPoint</th>\n",
       "      <th>Category</th>\n",
       "      <th>Sorce</th>\n",
       "    </tr>\n",
       "  </thead>\n",
       "  <tbody>\n",
       "    <tr>\n",
       "      <th>36</th>\n",
       "      <td>591.0</td>\n",
       "      <td>국내도서</td>\n",
       "      <td>엄마가 만드는 수학 천재</td>\n",
       "      <td>100010</td>\n",
       "      <td>9788934900238</td>\n",
       "      <td>NaN</td>\n",
       "      <td>김용운 외</td>\n",
       "      <td>김영사</td>\n",
       "      <td>1992-01-25</td>\n",
       "      <td>7900</td>\n",
       "      <td>7110</td>\n",
       "      <td>390점</td>\n",
       "      <td>441.0</td>\n",
       "      <td>좋은부모</td>\n",
       "      <td>2001년1월3주</td>\n",
       "    </tr>\n",
       "    <tr>\n",
       "      <th>173</th>\n",
       "      <td>468.0</td>\n",
       "      <td>국내도서</td>\n",
       "      <td>세계화의 덫</td>\n",
       "      <td>80205</td>\n",
       "      <td>9788985055895</td>\n",
       "      <td>NaN</td>\n",
       "      <td>한스 피터 마르틴 외</td>\n",
       "      <td>영림카디널</td>\n",
       "      <td>1997-11-10</td>\n",
       "      <td>9000</td>\n",
       "      <td>8100</td>\n",
       "      <td>450점</td>\n",
       "      <td>425.0</td>\n",
       "      <td>경제경영</td>\n",
       "      <td>2001년1월3주</td>\n",
       "    </tr>\n",
       "    <tr>\n",
       "      <th>222</th>\n",
       "      <td>250.0</td>\n",
       "      <td>국내도서</td>\n",
       "      <td>중학생이 알아야 할 동서양 고전</td>\n",
       "      <td>136763</td>\n",
       "      <td>9788935908240</td>\n",
       "      <td>4810.0</td>\n",
       "      <td>성낙수 외</td>\n",
       "      <td>신원문화사</td>\n",
       "      <td>1998-10-20</td>\n",
       "      <td>7000</td>\n",
       "      <td>6300</td>\n",
       "      <td>350점</td>\n",
       "      <td>142.0</td>\n",
       "      <td>청소년</td>\n",
       "      <td>2001년1월3주</td>\n",
       "    </tr>\n",
       "    <tr>\n",
       "      <th>266</th>\n",
       "      <td>597.0</td>\n",
       "      <td>국내도서</td>\n",
       "      <td>신 중국어 첫걸음 1 (교재 1 + 테이프3개)</td>\n",
       "      <td>197720</td>\n",
       "      <td>9788973647569</td>\n",
       "      <td>NaN</td>\n",
       "      <td>장영지 외</td>\n",
       "      <td>시사중국어사(시사에듀케이션)</td>\n",
       "      <td>1999-03-10</td>\n",
       "      <td>8800</td>\n",
       "      <td>7920</td>\n",
       "      <td>440점</td>\n",
       "      <td>1484.0</td>\n",
       "      <td>외국어</td>\n",
       "      <td>2005년2월1주</td>\n",
       "    </tr>\n",
       "    <tr>\n",
       "      <th>279</th>\n",
       "      <td>781.0</td>\n",
       "      <td>국내도서</td>\n",
       "      <td>나의 나무를 찾고 싶다</td>\n",
       "      <td>191635</td>\n",
       "      <td>NaN</td>\n",
       "      <td>NaN</td>\n",
       "      <td>강도운 외</td>\n",
       "      <td>새미</td>\n",
       "      <td>1999-05-10</td>\n",
       "      <td>5000</td>\n",
       "      <td>4750</td>\n",
       "      <td>150점</td>\n",
       "      <td>20.0</td>\n",
       "      <td>에세이</td>\n",
       "      <td>2001년1월3주</td>\n",
       "    </tr>\n",
       "    <tr>\n",
       "      <th>886</th>\n",
       "      <td>986.0</td>\n",
       "      <td>국내도서</td>\n",
       "      <td>세익스피어의 가장 재미있는 7가지 이야기</td>\n",
       "      <td>261247</td>\n",
       "      <td>9788987474175</td>\n",
       "      <td>NaN</td>\n",
       "      <td>찰스 램, 메리 램 지음</td>\n",
       "      <td>문화사랑</td>\n",
       "      <td>2000-12-01</td>\n",
       "      <td>6000</td>\n",
       "      <td>5400</td>\n",
       "      <td>300점</td>\n",
       "      <td>68.0</td>\n",
       "      <td>청소년</td>\n",
       "      <td>2001년1월3주</td>\n",
       "    </tr>\n",
       "    <tr>\n",
       "      <th>5441</th>\n",
       "      <td>235.0</td>\n",
       "      <td>국내도서</td>\n",
       "      <td>악어 프로젝트</td>\n",
       "      <td>74921030</td>\n",
       "      <td>9788998282752</td>\n",
       "      <td>3330.0</td>\n",
       "      <td>토마 마티외 지음, 맹슬기 옮김, 권김현영 외</td>\n",
       "      <td>푸른지식</td>\n",
       "      <td>2016-06-01</td>\n",
       "      <td>15000</td>\n",
       "      <td>13500</td>\n",
       "      <td>750점</td>\n",
       "      <td>6318.0</td>\n",
       "      <td>사회과학</td>\n",
       "      <td>2016년7월3주</td>\n",
       "    </tr>\n",
       "    <tr>\n",
       "      <th>6282</th>\n",
       "      <td>962.0</td>\n",
       "      <td>국내도서</td>\n",
       "      <td>악의 꽃 (앙리 마티스 에디션)</td>\n",
       "      <td>173345976</td>\n",
       "      <td>9788931011203</td>\n",
       "      <td>3860</td>\n",
       "      <td>샤를 피에르 보들레르 지음, 앙리 마티스 엮고 그림, 김인환 옮김, 정장진 그</td>\n",
       "      <td>문예출판사</td>\n",
       "      <td>2018-11-05</td>\n",
       "      <td>13000</td>\n",
       "      <td>11700</td>\n",
       "      <td>650점</td>\n",
       "      <td>4031.0</td>\n",
       "      <td>소설/시/희곡</td>\n",
       "      <td>2019년1월3주</td>\n",
       "    </tr>\n",
       "  </tbody>\n",
       "</table>\n",
       "</div>"
      ],
      "text/plain": [
       "       Rank Partition                       BName     ItemId         ISBN13  \\\n",
       "36    591.0      국내도서               엄마가 만드는 수학 천재     100010  9788934900238   \n",
       "173   468.0      국내도서                      세계화의 덫      80205  9788985055895   \n",
       "222   250.0      국내도서           중학생이 알아야 할 동서양 고전     136763  9788935908240   \n",
       "266   597.0      국내도서  신 중국어 첫걸음 1 (교재 1 + 테이프3개)     197720  9788973647569   \n",
       "279   781.0      국내도서                나의 나무를 찾고 싶다     191635            NaN   \n",
       "886   986.0      국내도서      세익스피어의 가장 재미있는 7가지 이야기     261247  9788987474175   \n",
       "5441  235.0      국내도서                     악어 프로젝트   74921030  9788998282752   \n",
       "6282  962.0      국내도서           악의 꽃 (앙리 마티스 에디션)  173345976  9788931011203   \n",
       "\n",
       "     AddCode                                       Author          Publshr  \\\n",
       "36       NaN                                        김용운 외              김영사   \n",
       "173      NaN                                  한스 피터 마르틴 외            영림카디널   \n",
       "222   4810.0                                        성낙수 외            신원문화사   \n",
       "266      NaN                                        장영지 외  시사중국어사(시사에듀케이션)   \n",
       "279      NaN                                        강도운 외               새미   \n",
       "886      NaN                                찰스 램, 메리 램 지음             문화사랑   \n",
       "5441  3330.0                    토마 마티외 지음, 맹슬기 옮김, 권김현영 외             푸른지식   \n",
       "6282    3860  샤를 피에르 보들레르 지음, 앙리 마티스 엮고 그림, 김인환 옮김, 정장진 그            문예출판사   \n",
       "\n",
       "           Pdate  RglPrice  SlsPrice Mileage  SalesPoint Category      Sorce  \n",
       "36    1992-01-25      7900      7110    390점       441.0     좋은부모  2001년1월3주  \n",
       "173   1997-11-10      9000      8100    450점       425.0     경제경영  2001년1월3주  \n",
       "222   1998-10-20      7000      6300    350점       142.0      청소년  2001년1월3주  \n",
       "266   1999-03-10      8800      7920    440점      1484.0      외국어  2005년2월1주  \n",
       "279   1999-05-10      5000      4750    150점        20.0      에세이  2001년1월3주  \n",
       "886   2000-12-01      6000      5400    300점        68.0      청소년  2001년1월3주  \n",
       "5441  2016-06-01     15000     13500    750점      6318.0     사회과학  2016년7월3주  \n",
       "6282  2018-11-05     13000     11700    650점      4031.0  소설/시/희곡  2019년1월3주  "
      ]
     },
     "execution_count": 51,
     "metadata": {},
     "output_type": "execute_result"
    }
   ],
   "source": [
    "bookinfo[cond]"
   ]
  },
  {
   "cell_type": "markdown",
   "metadata": {},
   "source": [
    "페이지에는 \n",
    "\n",
    "샤를 피에르 보들레르 (지은이),앙리 마티스 (엮은이),김인환 (옮긴이),정장진 (해설)\n",
    "\n",
    "로 되어있음.... ㅎ...... 크롤링 해야할 듯 ㅎㅎ 그 김에 다른 정보들도 같이 업데이트 하는게 좋을 듯.\n",
    "\n",
    "그러면 크롤링된 값을 기준으로 parsing 어떻게 할지 고민해봐야할 듯"
   ]
  },
  {
   "cell_type": "code",
   "execution_count": 44,
   "metadata": {},
   "outputs": [],
   "source": [
    "from bs4 import BeautifulSoup\n",
    "import requests\n",
    "import re\n",
    "\n",
    "\n",
    "selector = '#Ere_prod_allwrap > div.Ere_prod_topwrap > div.Ere_prod_titlewrap > div.left > div > ul > li.Ere_sub2_title'\n",
    "url_bookitem = 'https://www.aladin.co.kr/shop/wproduct.aspx?ItemId={}'\n",
    "book_id = 173345976\n",
    "\n",
    "url = url_bookitem.format(book_id) \n",
    "data = dict()\n",
    "r = requests.get(url)\n",
    "if r.status_code != 200: raise Exception('bad request')\n",
    "html=r.text\n",
    "soup=BeautifulSoup(html, 'lxml') #  BeautifulSoup 클래스의 인스턴스 생성\n",
    "table = soup.select_one(selector)\n",
    "#used_list = table.find_all('tr')\n",
    "#if len(used_list) <= 1 : null_used.append(book_id)\n",
    "#data,error_count = dict(), 0\n",
    "#for i in range(1,len(used_list)):\n",
    "#    content = used_list[i]\n",
    "#    try :\n",
    "#        data[i] = {\n",
    "#           key : func(content.select_one(selector))\n",
    "#           for key,(selector,func) in selector_dict.items()\n",
    "#        }\n",
    "#    except: error_count += 1\n",
    "#if data : data_dict[book_id] = data"
   ]
  },
  {
   "cell_type": "code",
   "execution_count": 45,
   "metadata": {},
   "outputs": [
    {
     "data": {
      "text/plain": [
       "[<a class=\"Ere_sub2_title\" href=\"/search/wsearchresult.aspx?AuthorSearch=%ec%83%a4%eb%a5%bc+%ed%94%bc%ec%97%90%eb%a5%b4+%eb%b3%b4%eb%93%a4%eb%a0%88%eb%a5%b4@19169&amp;BranchType=1\">샤를 피에르 보들레르</a>,\n",
       " '\\xa0(지은이),',\n",
       " <span class=\"Ere_PR10\"></span>,\n",
       " <a class=\"Ere_sub2_title\" href=\"/search/wsearchresult.aspx?AuthorSearch=%ec%95%99%eb%a6%ac+%eb%a7%88%ed%8b%b0%ec%8a%a4@3196633&amp;BranchType=1\">앙리 마티스</a>,\n",
       " '\\xa0(엮은이),',\n",
       " <span class=\"Ere_PR10\"></span>,\n",
       " <a class=\"Ere_sub2_title\" href=\"/search/wsearchresult.aspx?AuthorSearch=%ea%b9%80%ec%9d%b8%ed%99%98@67720&amp;BranchType=1\">김인환</a>,\n",
       " '\\xa0(옮긴이),',\n",
       " <span class=\"Ere_PR10\"></span>,\n",
       " <a class=\"Ere_sub2_title\" href=\"/search/wsearchresult.aspx?AuthorSearch=%ec%a0%95%ec%9e%a5%ec%a7%84@39947&amp;BranchType=1\">정장진</a>,\n",
       " '\\xa0(해설)',\n",
       " <span class=\"Ere_PR10\"></span>,\n",
       " <a class=\"Ere_sub2_title\" href=\"/search/wsearchresult.aspx?PublisherSearch=%eb%ac%b8%ec%98%88%ec%b6%9c%ed%8c%90%ec%82%ac@1692&amp;BranchType=1\">문예출판사</a>,\n",
       " <span class=\"Ere_PR10\"></span>,\n",
       " '2018-11-05',\n",
       " <span class=\"Ere_PR10\"></span>,\n",
       " <a class=\"Ere_sub2_title\" href=\"/search/wsearchresult.aspx?SearchTarget=Foreign&amp;SearchWord=Les+Fleurs+Du+Mal+Charles+Baudelaire\">원제 : Les Fleurs Du Mal (1857년)</a>]"
      ]
     },
     "execution_count": 45,
     "metadata": {},
     "output_type": "execute_result"
    }
   ],
   "source": [
    "table.contents"
   ]
  },
  {
   "cell_type": "code",
   "execution_count": 46,
   "metadata": {},
   "outputs": [
    {
     "data": {
      "text/plain": [
       "'샤를 피에르 보들레르\\xa0(지은이),앙리 마티스\\xa0(엮은이),김인환\\xa0(옮긴이),정장진\\xa0(해설)문예출판사2018-11-05원제 : Les Fleurs Du Mal (1857년)'"
      ]
     },
     "execution_count": 46,
     "metadata": {},
     "output_type": "execute_result"
    }
   ],
   "source": [
    "table.get_text()"
   ]
  },
  {
   "cell_type": "code",
   "execution_count": 47,
   "metadata": {},
   "outputs": [
    {
     "data": {
      "text/plain": [
       "<li class=\"Ere_sub2_title\"><a class=\"Ere_sub2_title\" href=\"/search/wsearchresult.aspx?AuthorSearch=%ec%9d%b4%eb%ac%b8%ec%97%b4@33070&amp;BranchType=1\">이문열</a> (지은이),<span class=\"Ere_PR10\"></span><a class=\"Ere_sub2_title\" href=\"/search/wsearchresult.aspx?AuthorSearch=%eb%82%98%ea%b4%80%ec%a4%91@8467&amp;BranchType=1\">나관중</a> (원작),<span class=\"Ere_PR10\"></span><a class=\"Ere_sub2_title\" href=\"/search/wsearchresult.aspx?AuthorSearch=%ec%a0%95%eb%ac%b8@7834755&amp;BranchType=1\">정문</a> (그림)<span class=\"Ere_PR10\"></span><a class=\"Ere_sub2_title\" href=\"/search/wsearchresult.aspx?PublisherSearch=%ec%95%8c%ec%97%90%ec%9d%b4%ec%b9%98%ec%bd%94%eb%a6%ac%ec%95%84(RHK)@63750&amp;BranchType=1\">알에이치코리아(RHK)</a><span class=\"Ere_PR10\"></span>2020-03-25</li>"
      ]
     },
     "execution_count": 47,
     "metadata": {},
     "output_type": "execute_result"
    }
   ],
   "source": [
    "book_id = 235927306\n",
    "\n",
    "url = url_bookitem.format(book_id) \n",
    "data = dict()\n",
    "r = requests.get(url)\n",
    "if r.status_code != 200: raise Exception('bad request')\n",
    "html=r.text\n",
    "soup=BeautifulSoup(html, 'lxml') #  BeautifulSoup 클래스의 인스턴스 생성\n",
    "table = soup.select_one(selector)\n",
    "table"
   ]
  },
  {
   "cell_type": "code",
   "execution_count": 48,
   "metadata": {},
   "outputs": [
    {
     "data": {
      "text/plain": [
       "'이문열\\xa0(지은이),나관중\\xa0(원작),정문\\xa0(그림)알에이치코리아(RHK)2020-03-25'"
      ]
     },
     "execution_count": 48,
     "metadata": {},
     "output_type": "execute_result"
    }
   ],
   "source": [
    "table.get_text()"
   ]
  },
  {
   "cell_type": "code",
   "execution_count": 52,
   "metadata": {},
   "outputs": [
    {
     "data": {
      "text/plain": [
       "'한스 페터 마르틴,하랄트 슈만\\xa0(지은이)영림카디널1997-11-10'"
      ]
     },
     "execution_count": 52,
     "metadata": {},
     "output_type": "execute_result"
    }
   ],
   "source": [
    "book_id =80205\n",
    "\n",
    "url = url_bookitem.format(book_id) \n",
    "data = dict()\n",
    "r = requests.get(url)\n",
    "if r.status_code != 200: raise Exception('bad request')\n",
    "html=r.text\n",
    "soup=BeautifulSoup(html, 'lxml') #  BeautifulSoup 클래스의 인스턴스 생성\n",
    "table = soup.select_one(selector)\n",
    "table.get_text()"
   ]
  },
  {
   "cell_type": "code",
   "execution_count": 53,
   "metadata": {},
   "outputs": [
    {
     "data": {
      "text/plain": [
       "[<a class=\"Ere_sub2_title\" href=\"/search/wsearchresult.aspx?AuthorSearch=%ed%95%9c%ec%8a%a4+%ed%8e%98%ed%84%b0+%eb%a7%88%eb%a5%b4%ed%8b%b4@50442&amp;BranchType=1\">한스 페터 마르틴</a>,\n",
       " ',',\n",
       " <span class=\"Ere_PR10\"></span>,\n",
       " <a class=\"Ere_sub2_title\" href=\"/search/wsearchresult.aspx?AuthorSearch=%ed%95%98%eb%9e%84%ed%8a%b8+%ec%8a%88%eb%a7%8c@197152&amp;BranchType=1\">하랄트 슈만</a>,\n",
       " '\\xa0(지은이)',\n",
       " <span class=\"Ere_PR10\"></span>,\n",
       " <a class=\"Ere_sub2_title\" href=\"/search/wsearchresult.aspx?PublisherSearch=%ec%98%81%eb%a6%bc%ec%b9%b4%eb%94%94%eb%84%90@3811&amp;BranchType=1\">영림카디널</a>,\n",
       " <span class=\"Ere_PR10\"></span>,\n",
       " '1997-11-10']"
      ]
     },
     "execution_count": 53,
     "metadata": {},
     "output_type": "execute_result"
    }
   ],
   "source": [
    "table.contents"
   ]
  },
  {
   "cell_type": "code",
   "execution_count": 58,
   "metadata": {},
   "outputs": [
    {
     "data": {
      "text/plain": [
       "[<a class=\"Ere_sub2_title\" href=\"/search/wsearchresult.aspx?AuthorSearch=%ed%95%9c%ec%8a%a4+%ed%8e%98%ed%84%b0+%eb%a7%88%eb%a5%b4%ed%8b%b4@50442&amp;BranchType=1\">한스 페터 마르틴</a>,\n",
       " ',',\n",
       " <span class=\"Ere_PR10\"></span>,\n",
       " <a class=\"Ere_sub2_title\" href=\"/search/wsearchresult.aspx?AuthorSearch=%ed%95%98%eb%9e%84%ed%8a%b8+%ec%8a%88%eb%a7%8c@197152&amp;BranchType=1\">하랄트 슈만</a>,\n",
       " '\\xa0(지은이)',\n",
       " <span class=\"Ere_PR10\"></span>,\n",
       " <a class=\"Ere_sub2_title\" href=\"/search/wsearchresult.aspx?PublisherSearch=%ec%98%81%eb%a6%bc%ec%b9%b4%eb%94%94%eb%84%90@3811&amp;BranchType=1\">영림카디널</a>,\n",
       " <span class=\"Ere_PR10\"></span>,\n",
       " '1997-11-10']"
      ]
     },
     "execution_count": 58,
     "metadata": {},
     "output_type": "execute_result"
    }
   ],
   "source": [
    "table.__dict__['contents']"
   ]
  },
  {
   "cell_type": "markdown",
   "metadata": {},
   "source": [
    "- 저자명의 경우\n",
    "- get_text() 한 다음에 \\xa0(000) 형태에 대해서 파싱하는 것이 제일 좋을 듯\n",
    "- 파싱한 결과물을 참여col에 넣고, 지은이 등에 있는 항목을 저자에 넣기\n",
    "    - 000에 들어간 것들을 리스팅하고 우선순위를 매기면 될 듯\n",
    "- 지금 단계에서도 간단하게 할 규칙을 정한다면:\n",
    "    - 맨 앞의 이름 하나 + 참여자가 복수인지 아닌지 bool column에"
   ]
  },
  {
   "cell_type": "code",
   "execution_count": 59,
   "metadata": {},
   "outputs": [
    {
     "data": {
      "text/plain": [
       "['클레어',\n",
       " '이형주',\n",
       " '이선재',\n",
       " '정진욱',\n",
       " '진중권',\n",
       " '유호철',\n",
       " '김양현',\n",
       " '김선애',\n",
       " '정재승',\n",
       " '이옥향',\n",
       " '캐릭터',\n",
       " '김용섭',\n",
       " '강윤석',\n",
       " '홍종남',\n",
       " '마사시',\n",
       " '박광호',\n",
       " '안도현',\n",
       " '박경환',\n",
       " '나우웬',\n",
       " 'NEW',\n",
       " '김형국',\n",
       " '김홍경',\n",
       " '모리스',\n",
       " '김유미',\n",
       " '비트머',\n",
       " '박완서',\n",
       " '베니스',\n",
       " '김용갑',\n",
       " '홍세화',\n",
       " '정호승']"
      ]
     },
     "execution_count": 59,
     "metadata": {},
     "output_type": "execute_result"
    }
   ],
   "source": [
    "val = 3\n",
    "\n",
    "cand = postfix_dict[val]\n",
    "cand[0:30]"
   ]
  },
  {
   "cell_type": "code",
   "execution_count": 60,
   "metadata": {},
   "outputs": [
    {
     "data": {
      "text/plain": [
       "['강윤혜',\n",
       " '캔필드',\n",
       " '디자인',\n",
       " '이영훈',\n",
       " '스토리',\n",
       " \"선집'\",\n",
       " '보트랭',\n",
       " '김하중',\n",
       " '미에코',\n",
       " '강명재',\n",
       " '정해동',\n",
       " '구태회',\n",
       " '양선옥',\n",
       " '박경서',\n",
       " '정영택',\n",
       " '최원철',\n",
       " '나오키',\n",
       " '김용옥',\n",
       " '엘리슨',\n",
       " '편집부',\n",
       " '조정래',\n",
       " '전현정',\n",
       " 'R&D',\n",
       " '조형진',\n",
       " '윤재근',\n",
       " '김종일',\n",
       " '최정규',\n",
       " '박동욱',\n",
       " '안종욱',\n",
       " '정승원']"
      ]
     },
     "execution_count": 60,
     "metadata": {},
     "output_type": "execute_result"
    }
   ],
   "source": [
    "cand[30:60]"
   ]
  },
  {
   "cell_type": "code",
   "execution_count": 61,
   "metadata": {},
   "outputs": [
    {
     "data": {
      "text/plain": [
       "['벡위드',\n",
       " '박윤정',\n",
       " '디렉터',\n",
       " '애커만',\n",
       " '홍연미',\n",
       " '김수자',\n",
       " '김기현',\n",
       " '모나코',\n",
       " '로빈스',\n",
       " '윤평중',\n",
       " '이미지',\n",
       " '정경식',\n",
       " '이현우',\n",
       " '한철호',\n",
       " '박수밀',\n",
       " '박노자',\n",
       " '후유지',\n",
       " '(원)',\n",
       " '이지희',\n",
       " '박웅현',\n",
       " '심재후',\n",
       " '한상홍',\n",
       " '김광용',\n",
       " '김우경',\n",
       " '이우신',\n",
       " '정영목',\n",
       " '샌더스',\n",
       " '장석준',\n",
       " '이정훈',\n",
       " '이동숙']"
      ]
     },
     "execution_count": 61,
     "metadata": {},
     "output_type": "execute_result"
    }
   ],
   "source": [
    "cand[60:90]"
   ]
  },
  {
   "cell_type": "code",
   "execution_count": 62,
   "metadata": {},
   "outputs": [
    {
     "data": {
      "text/plain": [
       "['이어령',\n",
       " '이종도',\n",
       " '비덜프',\n",
       " '하지메',\n",
       " '카즈마',\n",
       " '고영자',\n",
       " '강헌구',\n",
       " '송만철',\n",
       " '사와코',\n",
       " '양회석',\n",
       " '데레사',\n",
       " '이병련',\n",
       " '이덕일',\n",
       " '홍준호',\n",
       " '풀어씀',\n",
       " '다다시',\n",
       " '총편집',\n",
       " 'B.)',\n",
       " '최연희',\n",
       " '박영배',\n",
       " '김선형',\n",
       " '글래스',\n",
       " '정찬용',\n",
       " '강승덕',\n",
       " '권태운',\n",
       " '최연화',\n",
       " '김진명',\n",
       " '문인수',\n",
       " '배병철',\n",
       " '소하치']"
      ]
     },
     "execution_count": 62,
     "metadata": {},
     "output_type": "execute_result"
    }
   ],
   "source": [
    "cand[90:120]"
   ]
  },
  {
   "cell_type": "code",
   "execution_count": 64,
   "metadata": {},
   "outputs": [
    {
     "data": {
      "text/plain": [
       "(3325    [R&D, 강윤석, 김용갑, 김우경, 김선애, 김종일, 지음]\n",
       " 3326    [R&D, 강윤석, 김용갑, 김우경, 김선애, 김종일, 지음]\n",
       " 3757                             [R&D, 지음]\n",
       " 4375                                 [(원)]\n",
       " 5387                                 [(원)]\n",
       " 8401                         [지음, 옮김, 디렉터]\n",
       " 9121                             [지음, 선집']\n",
       " Name: Author, dtype: object,\n",
       " 3325            [길벗 R&D, 강윤석, 김용갑, 김우경, 김선애, 김종일, 김유홍 지음]\n",
       " 3326            [길벗 R&D, 강윤석, 김용갑, 김우경, 김선애, 김종일, 김유홍 지음]\n",
       " 3757                                   [길벗 R&D, 강윤석 외 지음]\n",
       " 4375                                            [One (원)]\n",
       " 5387                                            [One (원)]\n",
       " 8401              [이시즈카 신이치 지음, 장지연 옮김, Number 8 스토리 디렉터]\n",
       " 9121    [이나모리 가즈오 지음, 이나모리 라이브러리.다이아몬드사 '이나모리 가즈오 경영 강...\n",
       " Name: Author, dtype: object)"
      ]
     },
     "execution_count": 64,
     "metadata": {},
     "output_type": "execute_result"
    }
   ],
   "source": [
    "cand = set([\"선집'\",\"R&D\",'디렉터','(원)'])\n",
    "cond = authors_postfix.apply(lambda x : len(set(x).intersection(cand))>0)\n",
    "authors_postfix[cond],authors[cond]"
   ]
  },
  {
   "cell_type": "code",
   "execution_count": 67,
   "metadata": {},
   "outputs": [
    {
     "data": {
      "text/plain": [
       "\"이나모리 가즈오 지음, 이나모리 라이브러리.다이아몬드사 '이나모리 가즈오 경영 강연 선집'\""
      ]
     },
     "execution_count": 67,
     "metadata": {},
     "output_type": "execute_result"
    }
   ],
   "source": [
    "bookinfo.loc[cond,'Author'].iloc[-1]"
   ]
  },
  {
   "cell_type": "code",
   "execution_count": 68,
   "metadata": {},
   "outputs": [
    {
     "data": {
      "text/html": [
       "<div>\n",
       "<style scoped>\n",
       "    .dataframe tbody tr th:only-of-type {\n",
       "        vertical-align: middle;\n",
       "    }\n",
       "\n",
       "    .dataframe tbody tr th {\n",
       "        vertical-align: top;\n",
       "    }\n",
       "\n",
       "    .dataframe thead th {\n",
       "        text-align: right;\n",
       "    }\n",
       "</style>\n",
       "<table border=\"1\" class=\"dataframe\">\n",
       "  <thead>\n",
       "    <tr style=\"text-align: right;\">\n",
       "      <th></th>\n",
       "      <th>Rank</th>\n",
       "      <th>Partition</th>\n",
       "      <th>BName</th>\n",
       "      <th>ItemId</th>\n",
       "      <th>ISBN13</th>\n",
       "      <th>AddCode</th>\n",
       "      <th>Author</th>\n",
       "      <th>Publshr</th>\n",
       "      <th>Pdate</th>\n",
       "      <th>RglPrice</th>\n",
       "      <th>SlsPrice</th>\n",
       "      <th>Mileage</th>\n",
       "      <th>SalesPoint</th>\n",
       "      <th>Category</th>\n",
       "      <th>Sorce</th>\n",
       "    </tr>\n",
       "  </thead>\n",
       "  <tbody>\n",
       "    <tr>\n",
       "      <th>3325</th>\n",
       "      <td>373.0</td>\n",
       "      <td>국내도서</td>\n",
       "      <td>2012 시나공 컴퓨터활용능력 1급 필기 (2급 포함)</td>\n",
       "      <td>13426224</td>\n",
       "      <td>9788966182060</td>\n",
       "      <td>13000.0</td>\n",
       "      <td>길벗 R&amp;D, 강윤석, 김용갑, 김우경, 김선애, 김종일, 김유홍 지음</td>\n",
       "      <td>길벗</td>\n",
       "      <td>2011-10-10</td>\n",
       "      <td>26000</td>\n",
       "      <td>23400</td>\n",
       "      <td>1,300점</td>\n",
       "      <td>904.0</td>\n",
       "      <td>컴퓨터/모바일</td>\n",
       "      <td>2011년12월5주</td>\n",
       "    </tr>\n",
       "    <tr>\n",
       "      <th>3326</th>\n",
       "      <td>425.0</td>\n",
       "      <td>국내도서</td>\n",
       "      <td>2012 시나공 컴퓨터활용능력 2급 필기</td>\n",
       "      <td>13426275</td>\n",
       "      <td>9788966182077</td>\n",
       "      <td>13000.0</td>\n",
       "      <td>길벗 R&amp;D, 강윤석, 김용갑, 김우경, 김선애, 김종일, 김유홍 지음</td>\n",
       "      <td>길벗</td>\n",
       "      <td>2011-10-10</td>\n",
       "      <td>18000</td>\n",
       "      <td>16200</td>\n",
       "      <td>900점</td>\n",
       "      <td>1033.0</td>\n",
       "      <td>컴퓨터/모바일</td>\n",
       "      <td>2011년12월5주</td>\n",
       "    </tr>\n",
       "    <tr>\n",
       "      <th>3757</th>\n",
       "      <td>726.0</td>\n",
       "      <td>국내도서</td>\n",
       "      <td>2013 시나공 기출문제집 사무자동화산업기사 필기 (핵심요약 171 + 기출문제 1...</td>\n",
       "      <td>21251082</td>\n",
       "      <td>9788966184743</td>\n",
       "      <td>13000.0</td>\n",
       "      <td>길벗 R&amp;D, 강윤석 외 지음</td>\n",
       "      <td>길벗</td>\n",
       "      <td>2012-11-28</td>\n",
       "      <td>14000</td>\n",
       "      <td>12600</td>\n",
       "      <td>700점</td>\n",
       "      <td>408.0</td>\n",
       "      <td>컴퓨터/모바일</td>\n",
       "      <td>2013년4월4주</td>\n",
       "    </tr>\n",
       "    <tr>\n",
       "      <th>4375</th>\n",
       "      <td>980.0</td>\n",
       "      <td>국내도서</td>\n",
       "      <td>모브 사이코 100 : 1</td>\n",
       "      <td>48417984</td>\n",
       "      <td>9791155975671</td>\n",
       "      <td>0.0</td>\n",
       "      <td>One (원)</td>\n",
       "      <td>학산문화사(만화)</td>\n",
       "      <td>2014-10-30</td>\n",
       "      <td>4500</td>\n",
       "      <td>4050</td>\n",
       "      <td>220점</td>\n",
       "      <td>3618.0</td>\n",
       "      <td>만화</td>\n",
       "      <td>2016년7월3주</td>\n",
       "    </tr>\n",
       "    <tr>\n",
       "      <th>5387</th>\n",
       "      <td>397.0</td>\n",
       "      <td>국내도서</td>\n",
       "      <td>모브 사이코 100 : 11</td>\n",
       "      <td>83974706</td>\n",
       "      <td>9791125653530</td>\n",
       "      <td>7650.0</td>\n",
       "      <td>One (원)</td>\n",
       "      <td>학산문화사(만화)</td>\n",
       "      <td>2016-05-17</td>\n",
       "      <td>4500</td>\n",
       "      <td>4050</td>\n",
       "      <td>220점</td>\n",
       "      <td>2426.0</td>\n",
       "      <td>만화</td>\n",
       "      <td>2016년7월3주</td>\n",
       "    </tr>\n",
       "    <tr>\n",
       "      <th>8401</th>\n",
       "      <td>495.0</td>\n",
       "      <td>국내도서</td>\n",
       "      <td>블루 자이언트 익스플로러 3</td>\n",
       "      <td>293692027</td>\n",
       "      <td>9791168944015</td>\n",
       "      <td>NaN</td>\n",
       "      <td>이시즈카 신이치 지음, 장지연 옮김, Number 8 스토리 디렉터</td>\n",
       "      <td>대원씨아이(만화)</td>\n",
       "      <td>2022-04-29</td>\n",
       "      <td>6500</td>\n",
       "      <td>5850</td>\n",
       "      <td>320점</td>\n",
       "      <td>1073.0</td>\n",
       "      <td>만화</td>\n",
       "      <td>2022년5월2주</td>\n",
       "    </tr>\n",
       "    <tr>\n",
       "      <th>9121</th>\n",
       "      <td>188.0</td>\n",
       "      <td>국내도서</td>\n",
       "      <td>경영, 이나모리 가즈오 원점을 말하다</td>\n",
       "      <td>340822419</td>\n",
       "      <td>9791171176373</td>\n",
       "      <td>3320</td>\n",
       "      <td>이나모리 가즈오 지음, 이나모리 라이브러리.다이아몬드사 '이나모리 가즈오 경영 강연...</td>\n",
       "      <td>21세기북스</td>\n",
       "      <td>2024-06-26</td>\n",
       "      <td>39800</td>\n",
       "      <td>35820</td>\n",
       "      <td>1,990점</td>\n",
       "      <td>13015.0</td>\n",
       "      <td>경제경영</td>\n",
       "      <td>2024년7월2주</td>\n",
       "    </tr>\n",
       "  </tbody>\n",
       "</table>\n",
       "</div>"
      ],
      "text/plain": [
       "       Rank Partition                                              BName  \\\n",
       "3325  373.0      국내도서                     2012 시나공 컴퓨터활용능력 1급 필기 (2급 포함)   \n",
       "3326  425.0      국내도서                             2012 시나공 컴퓨터활용능력 2급 필기   \n",
       "3757  726.0      국내도서  2013 시나공 기출문제집 사무자동화산업기사 필기 (핵심요약 171 + 기출문제 1...   \n",
       "4375  980.0      국내도서                                     모브 사이코 100 : 1   \n",
       "5387  397.0      국내도서                                    모브 사이코 100 : 11   \n",
       "8401  495.0      국내도서                                    블루 자이언트 익스플로러 3   \n",
       "9121  188.0      국내도서                               경영, 이나모리 가즈오 원점을 말하다   \n",
       "\n",
       "         ItemId         ISBN13  AddCode  \\\n",
       "3325   13426224  9788966182060  13000.0   \n",
       "3326   13426275  9788966182077  13000.0   \n",
       "3757   21251082  9788966184743  13000.0   \n",
       "4375   48417984  9791155975671      0.0   \n",
       "5387   83974706  9791125653530   7650.0   \n",
       "8401  293692027  9791168944015      NaN   \n",
       "9121  340822419  9791171176373     3320   \n",
       "\n",
       "                                                 Author    Publshr  \\\n",
       "3325            길벗 R&D, 강윤석, 김용갑, 김우경, 김선애, 김종일, 김유홍 지음         길벗   \n",
       "3326            길벗 R&D, 강윤석, 김용갑, 김우경, 김선애, 김종일, 김유홍 지음         길벗   \n",
       "3757                                   길벗 R&D, 강윤석 외 지음         길벗   \n",
       "4375                                            One (원)  학산문화사(만화)   \n",
       "5387                                            One (원)  학산문화사(만화)   \n",
       "8401              이시즈카 신이치 지음, 장지연 옮김, Number 8 스토리 디렉터  대원씨아이(만화)   \n",
       "9121  이나모리 가즈오 지음, 이나모리 라이브러리.다이아몬드사 '이나모리 가즈오 경영 강연...     21세기북스   \n",
       "\n",
       "           Pdate  RglPrice  SlsPrice Mileage  SalesPoint Category       Sorce  \n",
       "3325  2011-10-10     26000     23400  1,300점       904.0  컴퓨터/모바일  2011년12월5주  \n",
       "3326  2011-10-10     18000     16200    900점      1033.0  컴퓨터/모바일  2011년12월5주  \n",
       "3757  2012-11-28     14000     12600    700점       408.0  컴퓨터/모바일   2013년4월4주  \n",
       "4375  2014-10-30      4500      4050    220점      3618.0       만화   2016년7월3주  \n",
       "5387  2016-05-17      4500      4050    220점      2426.0       만화   2016년7월3주  \n",
       "8401  2022-04-29      6500      5850    320점      1073.0       만화   2022년5월2주  \n",
       "9121  2024-06-26     39800     35820  1,990점     13015.0     경제경영   2024년7월2주  "
      ]
     },
     "execution_count": 68,
     "metadata": {},
     "output_type": "execute_result"
    }
   ],
   "source": [
    "bookinfo[cond]"
   ]
  },
  {
   "cell_type": "code",
   "execution_count": 69,
   "metadata": {},
   "outputs": [
    {
     "data": {
      "text/plain": [
       "\"이나모리 가즈오\\xa0(지은이),이나모리 라이브러리,다이아몬드사 '이나모리 가즈오 경영 강연 선집' 공동팀\\xa0(엮은이),양준호\\xa0(옮긴이)21세기북스2024-06-26원제 : 經營: 稻盛和夫、原點を語る\""
      ]
     },
     "execution_count": 69,
     "metadata": {},
     "output_type": "execute_result"
    }
   ],
   "source": [
    "book_id =340822419\n",
    "\n",
    "url = url_bookitem.format(book_id) \n",
    "data = dict()\n",
    "r = requests.get(url)\n",
    "if r.status_code != 200: raise Exception('bad request')\n",
    "html=r.text\n",
    "soup=BeautifulSoup(html, 'lxml') #  BeautifulSoup 클래스의 인스턴스 생성\n",
    "table = soup.select_one(selector)\n",
    "table.get_text()"
   ]
  },
  {
   "cell_type": "code",
   "execution_count": 70,
   "metadata": {},
   "outputs": [
    {
     "data": {
      "text/plain": [
       "'이시즈카 신이치\\xa0(지은이),장지연\\xa0(옮긴이),Number 8대원씨아이(만화)2022-04-29원제 : Blue Giant Explorer'"
      ]
     },
     "execution_count": 70,
     "metadata": {},
     "output_type": "execute_result"
    }
   ],
   "source": [
    "book_id =293692027\n",
    "\n",
    "url = url_bookitem.format(book_id) \n",
    "data = dict()\n",
    "r = requests.get(url)\n",
    "if r.status_code != 200: raise Exception('bad request')\n",
    "html=r.text\n",
    "soup=BeautifulSoup(html, 'lxml') #  BeautifulSoup 클래스의 인스턴스 생성\n",
    "table = soup.select_one(selector)\n",
    "table.get_text()"
   ]
  },
  {
   "cell_type": "markdown",
   "metadata": {},
   "source": [
    "- 페이지 확인 결과 : 스토리 디렉터 Number 8에 대해서 역할이 안써져있음\n",
    "- 출판사 이름 앞까지해서 자르는 것도 방법\n",
    "- selector로 구분 가능\n",
    "    - ```#Ere_prod_allwrap > div.Ere_prod_topwrap > div.Ere_prod_titlewrap > div.left > div > ul > li.Ere_sub2_title > a:nth-child(3)```\n",
    "    - ```#Ere_prod_allwrap > div.Ere_prod_topwrap > div.Ere_prod_titlewrap > div.left > div > ul > li.Ere_sub2_title > a:nth-child(5)```\n",
    "    - 등으로 되어있고, text에 ',' , '(옮긴이)', '(지은이),' , '' 등으로 되어있음"
   ]
  },
  {
   "cell_type": "code",
   "execution_count": 72,
   "metadata": {},
   "outputs": [
    {
     "data": {
      "text/plain": [
       "['엮고지음',\n",
       " '옮겨엮음',\n",
       " '일러스트',\n",
       " '키요히코',\n",
       " '하이벨스',\n",
       " '안전길실',\n",
       " '와이코프',\n",
       " '자원집필',\n",
       " '책임편집',\n",
       " '소설구성',\n",
       " '키키야마',\n",
       " '쿠츄리에',\n",
       " '시나리오',\n",
       " 'J.린치',\n",
       " '스나이더',\n",
       " '모토히코',\n",
       " '생명의삶',\n",
       " '헤를레스',\n",
       " '글.사진',\n",
       " '프리드만',\n",
       " '똘스또이',\n",
       " '콘티구성',\n",
       " '블랜차드',\n",
       " '편찬책임',\n",
       " '글.그림',\n",
       " '베르베르',\n",
       " '글.삽화',\n",
       " '기요사키',\n",
       " '아시아팩']"
      ]
     },
     "execution_count": 72,
     "metadata": {},
     "output_type": "execute_result"
    }
   ],
   "source": [
    "val = 4\n",
    "\n",
    "cand = postfix_dict[val]\n",
    "cand"
   ]
  },
  {
   "cell_type": "code",
   "execution_count": 74,
   "metadata": {},
   "outputs": [
    {
     "data": {
      "text/plain": [
       "['글', '시', '역', '외', '램', '그']"
      ]
     },
     "execution_count": 74,
     "metadata": {},
     "output_type": "execute_result"
    }
   ],
   "source": [
    "val = 1\n",
    "\n",
    "cand = postfix_dict[val]\n",
    "cand"
   ]
  },
  {
   "cell_type": "code",
   "execution_count": 77,
   "metadata": {},
   "outputs": [
    {
     "data": {
      "text/plain": [
       "['작곡', '하연', '니체', '대담', '편곡']"
      ]
     },
     "execution_count": 77,
     "metadata": {},
     "output_type": "execute_result"
    }
   ],
   "source": [
    "val = 2\n",
    "\n",
    "cand = postfix_dict[val]\n",
    "cand[60:]"
   ]
  },
  {
   "cell_type": "code",
   "execution_count": 78,
   "metadata": {},
   "outputs": [
    {
     "data": {
      "text/plain": [
       "['기획.제작',\n",
       " '동영상강의',\n",
       " '조이도우슨',\n",
       " '엮음.사진',\n",
       " '관리위원회',\n",
       " '수퍼레시피',\n",
       " '스프라이처',\n",
       " '기획.채록',\n",
       " '귄터크랄만',\n",
       " '편집·해설']"
      ]
     },
     "execution_count": 78,
     "metadata": {},
     "output_type": "execute_result"
    }
   ],
   "source": [
    "val = 5\n",
    "\n",
    "cand = postfix_dict[val]\n",
    "cand"
   ]
  },
  {
   "cell_type": "code",
   "execution_count": 79,
   "metadata": {},
   "outputs": [
    {
     "data": {
      "text/plain": [
       "['㈜티큐엠에스',\n",
       " 'Studio',\n",
       " '국가인권위원회',\n",
       " '영진정보연구소',\n",
       " '고영웅.신중혜',\n",
       " '사진.캘리그라피',\n",
       " 'Horstmann',\n",
       " '로이스톤M.로버츠',\n",
       " 'Cornelius',\n",
       " '한국심장질환연구소',\n",
       " '일본초등학교국어교과서선']"
      ]
     },
     "execution_count": 79,
     "metadata": {},
     "output_type": "execute_result"
    }
   ],
   "source": [
    "cand=[]\n",
    "for val in range(6,13):\n",
    "    cand.extend(postfix_dict[val])\n",
    "cand"
   ]
  },
  {
   "cell_type": "code",
   "execution_count": 81,
   "metadata": {},
   "outputs": [],
   "source": [
    "roles = [\n",
    "'글', '시', '역', '외',\n",
    "'제공',\n",
    "'소설',\n",
    "'극본',\n",
    "'강의',\n",
    "'사진',\n",
    "'구술',\n",
    "'정리',\n",
    "'엮음',\n",
    "'부록',\n",
    "'편저',\n",
    "'감수',\n",
    "'교열',\n",
    "'그림',\n",
    "'역주',\n",
    "'주해',\n",
    "'판화',\n",
    "'지음',\n",
    "'연출',\n",
    "'감역',\n",
    "'서문',\n",
    "'자문',\n",
    "'옮김',\n",
    "'편집',\n",
    "'평역',\n",
    "'만화',\n",
    "'사회',\n",
    "'추천',\n",
    "'해제',\n",
    "'각본',\n",
    "'저자',\n",
    "'각색',\n",
    "'원안',\n",
    "'역자',\n",
    "'영역',\n",
    "'해설',\n",
    "'구성',\n",
    "'요리',\n",
    "'기획',\n",
    "'원작',\n",
    "'머리',\n",
    "'지도',\n",
    "'작곡','대담','편곡',\n",
    "'디자인','스토리','디렉터','풀어씀','총편집','엮고지음',\n",
    "'옮겨엮음',\n",
    "'일러스트',\n",
    "'자원집필',\n",
    "'책임편집',\n",
    "'소설구성',\n",
    "'시나리오',\n",
    "'글.사진',\n",
    "'콘티구성',\n",
    "'편찬책임',\n",
    "'글.그림',\n",
    "'글.삽화',\n",
    "'기획.제작',\n",
    "'동영상강의',\n",
    "'엮음.사진',\n",
    "'관리위원회',\n",
    "'기획.채록',\n",
    "'편집·해설',\n",
    "'사진.캘리그라피'\n",
    "]"
   ]
  },
  {
   "cell_type": "code",
   "execution_count": 82,
   "metadata": {},
   "outputs": [],
   "source": [
    "def extract_author1(content:str):\n",
    "    ele0 = content.split(',')[0].strip()\n",
    "    temp = ele0.split(' ')\n",
    "    if temp[-1] not in roles: return ele0\n",
    "    else : return ' '.join(temp[:-1])"
   ]
  },
  {
   "cell_type": "markdown",
   "metadata": {},
   "source": [
    "#### 출판사"
   ]
  },
  {
   "cell_type": "code",
   "execution_count": 83,
   "metadata": {},
   "outputs": [
    {
     "data": {
      "text/plain": [
       "Publshr\n",
       "대원씨아이(만화)          220\n",
       "학산문화사(만화)          216\n",
       "문학동네               210\n",
       "서울미디어코믹스(서울문화사)    169\n",
       "민음사                167\n",
       "                  ... \n",
       "멘토                   1\n",
       "공감                   1\n",
       "탐                    1\n",
       "북돋움                  1\n",
       "머스트비                 1\n",
       "Name: count, Length: 1685, dtype: int64"
      ]
     },
     "execution_count": 83,
     "metadata": {},
     "output_type": "execute_result"
    }
   ],
   "source": [
    "bookinfo.Publshr.value_counts()"
   ]
  },
  {
   "cell_type": "code",
   "execution_count": 87,
   "metadata": {},
   "outputs": [
    {
     "data": {
      "image/png": "[encoded data removed]",
      "text/plain": [
       "<Figure size 640x480 with 1 Axes>"
      ]
     },
     "metadata": {
      "image/png": {
       "height": 491,
       "width": 651
      }
     },
     "output_type": "display_data"
    }
   ],
   "source": [
    "sns.histplot(bookinfo.Publshr.value_counts().values,bins=30);"
   ]
  },
  {
   "cell_type": "code",
   "execution_count": 88,
   "metadata": {},
   "outputs": [
    {
     "data": {
      "text/plain": [
       "Publshr\n",
       "대원씨아이(만화)          220\n",
       "학산문화사(만화)          216\n",
       "문학동네               210\n",
       "서울미디어코믹스(서울문화사)    169\n",
       "민음사                167\n",
       "                  ... \n",
       "보리                  11\n",
       "청림Life              11\n",
       "로크미디어               11\n",
       "해커스금융               11\n",
       "푸른역사                11\n",
       "Name: count, Length: 166, dtype: int64"
      ]
     },
     "execution_count": 88,
     "metadata": {},
     "output_type": "execute_result"
    }
   ],
   "source": [
    "stats = bookinfo.Publshr.value_counts()\n",
    "cond = stats > 10\n",
    "stats[cond]"
   ]
  },
  {
   "cell_type": "code",
   "execution_count": 94,
   "metadata": {},
   "outputs": [
    {
     "data": {
      "text/plain": [
       "Publshr\n",
       "대원씨아이(만화)          220\n",
       "학산문화사(만화)          216\n",
       "문학동네               210\n",
       "서울미디어코믹스(서울문화사)    169\n",
       "민음사                167\n",
       "                  ... \n",
       "학산문화사(라이트노벨)        22\n",
       "(주)YBM(와이비엠)        21\n",
       "한언출판사               21\n",
       "토네이도                20\n",
       "문학사상사               20\n",
       "Name: count, Length: 94, dtype: int64"
      ]
     },
     "execution_count": 94,
     "metadata": {},
     "output_type": "execute_result"
    }
   ],
   "source": [
    "stats = bookinfo.Publshr.value_counts()\n",
    "cond = stats >= 20\n",
    "stats[cond]"
   ]
  },
  {
   "cell_type": "code",
   "execution_count": 97,
   "metadata": {},
   "outputs": [
    {
     "data": {
      "text/plain": [
       "Publshr\n",
       "대원씨아이(만화)            220\n",
       "학산문화사(만화)            216\n",
       "문학동네                 210\n",
       "서울미디어코믹스(서울문화사)      169\n",
       "민음사                  167\n",
       "해커스어학연구소(Hackers)    146\n",
       "창비                   145\n",
       "길벗                   125\n",
       "위즈덤하우스               122\n",
       "김영사                  121\n",
       "영진.com(영진닷컴)          96\n",
       "문학과지성사                93\n",
       "열린책들                  87\n",
       "21세기북스                86\n",
       "디앤씨미디어(주)(D&C미디어)     81\n",
       "에스티앤북스(ST&BOOKS)      80\n",
       "㈜소미미디어                73\n",
       "에스티유니타스               71\n",
       "해냄                    64\n",
       "웅진지식하우스               62\n",
       "에듀윌                   61\n",
       "랜덤하우스코리아              58\n",
       "알에이치코리아(RHK)          56\n",
       "영상출판미디어(주)            52\n",
       "넥서스                   51\n",
       "두란노                   49\n",
       "한길사                   47\n",
       "한겨레출판                 46\n",
       "서울문화사                 46\n",
       "황금가지                  45\n",
       "은행나무                  45\n",
       "현대지능개발사               44\n",
       "까치                    43\n",
       "다산북스                  42\n",
       "메가스터디교육(공무원)          42\n",
       "비즈니스북스                39\n",
       "쌤앤파커스                 39\n",
       "시공사                   37\n",
       "사계절                   37\n",
       "와이비엠                  37\n",
       "윌북                    37\n",
       "한국경제신문                36\n",
       "바다출판사                 36\n",
       "대원씨아이(단행본)            35\n",
       "현대문학                  35\n",
       "시대고시기획                34\n",
       "돌베개                   32\n",
       "솔출판사                  32\n",
       "휴머니스트                 32\n",
       "예담                    31\n",
       "Name: count, dtype: int64"
      ]
     },
     "execution_count": 97,
     "metadata": {},
     "output_type": "execute_result"
    }
   ],
   "source": [
    "stats.iloc[0:50]"
   ]
  },
  {
   "cell_type": "markdown",
   "metadata": {},
   "source": [
    "- 상위 50위 기준으로 ths 만들어서 선택\n",
    "- 분류 별로 하는 것을 확인해보는 것도 가능할 듯\n",
    "- 출판사 명에 괄호가 있는 것 때문에 같은 출판사가 다르게 등록된 것은 없는지 확인"
   ]
  },
  {
   "cell_type": "markdown",
   "metadata": {},
   "source": [
    "#### 분류"
   ]
  },
  {
   "cell_type": "code",
   "execution_count": 84,
   "metadata": {},
   "outputs": [
    {
     "data": {
      "text/plain": [
       "Category\n",
       "소설/시/희곡      1735\n",
       "만화           1033\n",
       "수험서/자격증       850\n",
       "인문학           676\n",
       "에세이           609\n",
       "경제경영          603\n",
       "외국어           587\n",
       "자기계발          518\n",
       "사회과학          336\n",
       "좋은부모          305\n",
       "종교/역학         302\n",
       "컴퓨터/모바일       287\n",
       "청소년           253\n",
       "역사            220\n",
       "예술/대중문화       214\n",
       "건강/취미         201\n",
       "과학            187\n",
       "요리/살림         181\n",
       "여행             74\n",
       "대학교재/전문서적      65\n",
       "어린이            64\n",
       "유아             21\n",
       "달력/기타           4\n",
       "고전              3\n",
       "Name: count, dtype: int64"
      ]
     },
     "execution_count": 84,
     "metadata": {},
     "output_type": "execute_result"
    }
   ],
   "source": [
    "bookinfo.Category.value_counts()"
   ]
  },
  {
   "cell_type": "markdown",
   "metadata": {},
   "source": [
    "- token들 numbering할 때 제목, roles과 합쳐서 하면 될 듯"
   ]
  },
  {
   "cell_type": "markdown",
   "metadata": {},
   "source": [
    "#### 저서 명\n",
    "- \\[\\], \\(\\)로 되어있는 패턴들은 다 필터\n",
    "- 수합해서 내용 확인"
   ]
  },
  {
   "cell_type": "code",
   "execution_count": 186,
   "metadata": {},
   "outputs": [],
   "source": [
    "patterns=dict()\n",
    "patterns['['] = r'\\[+[^\\[\\]]+\\]+'\n",
    "patterns['{'] = r'\\{+[^\\{\\}]+\\}+'\n",
    "patterns['('] = r'\\(+[^\\(\\)]+\\)+'\n",
    "\n",
    "def re_iter_to_rslt(re_iter):\n",
    "    return {\n",
    "        m.start() : m.group()\n",
    "        for m in re_iter\n",
    "    }\n",
    "    \n",
    "def find_patterns(patterns,sentence):\n",
    "    return {\n",
    "        key : re_iter_to_rslt(re.finditer(pat,sentence.strip()))\n",
    "        for key,pat in patterns.items()\n",
    "    }"
   ]
  },
  {
   "cell_type": "code",
   "execution_count": 140,
   "metadata": {},
   "outputs": [],
   "source": [
    "sent = '[신간] 최고 인기 [[안녕하세요]] 환영합니다'\n",
    "temp = re.finditer(patterns['['],sent)"
   ]
  },
  {
   "cell_type": "code",
   "execution_count": 141,
   "metadata": {},
   "outputs": [
    {
     "data": {
      "text/plain": [
       "32"
      ]
     },
     "metadata": {},
     "output_type": "display_data"
    },
    {
     "data": {
      "text/plain": [
       "'[신간]'"
      ]
     },
     "metadata": {},
     "output_type": "display_data"
    },
    {
     "data": {
      "text/plain": [
       "()"
      ]
     },
     "metadata": {},
     "output_type": "display_data"
    },
    {
     "data": {
      "text/plain": [
       "{}"
      ]
     },
     "metadata": {},
     "output_type": "display_data"
    },
    {
     "data": {
      "text/plain": [
       "0"
      ]
     },
     "metadata": {},
     "output_type": "display_data"
    },
    {
     "data": {
      "text/plain": [
       "4"
      ]
     },
     "metadata": {},
     "output_type": "display_data"
    },
    {
     "data": {
      "text/plain": [
       "0"
      ]
     },
     "metadata": {},
     "output_type": "display_data"
    }
   ],
   "source": [
    "display(temp.__sizeof__())\n",
    "for m in temp:\n",
    "#    display(m.__dir__())\n",
    "    display(m.group())\n",
    "    display(m.groups())\n",
    "    display(m.groupdict())\n",
    "    display(m.start())\n",
    "    display(m.end())\n",
    "    display(m.pos)\n",
    "    break"
   ]
  },
  {
   "cell_type": "code",
   "execution_count": 146,
   "metadata": {},
   "outputs": [],
   "source": [
    "titles = bookinfo['BName']"
   ]
  },
  {
   "cell_type": "code",
   "execution_count": 187,
   "metadata": {},
   "outputs": [
    {
     "data": {
      "text/plain": [
       "{'[': {}, '{': {}, '(': {}}"
      ]
     },
     "metadata": {},
     "output_type": "display_data"
    },
    {
     "data": {
      "text/plain": [
       "[0, 0, 0]"
      ]
     },
     "metadata": {},
     "output_type": "display_data"
    },
    {
     "data": {
      "text/plain": [
       "0"
      ]
     },
     "metadata": {},
     "output_type": "display_data"
    }
   ],
   "source": [
    "import itertools\n",
    "\n",
    "temp = titles.apply(lambda x : find_patterns(patterns,x))\n",
    "display(temp.iloc[0])\n",
    "display(list(map(len,list(temp.iloc[0].values()))))\n",
    "display(sum(list(map(len,list(temp.iloc[0].values())))))"
   ]
  },
  {
   "cell_type": "code",
   "execution_count": 188,
   "metadata": {},
   "outputs": [
    {
     "data": {
      "text/plain": [
       "1"
      ]
     },
     "metadata": {},
     "output_type": "display_data"
    }
   ],
   "source": [
    "display(sum(map(len,temp.iloc[-1].values())))"
   ]
  },
  {
   "cell_type": "code",
   "execution_count": 189,
   "metadata": {},
   "outputs": [
    {
     "data": {
      "text/plain": [
       "67            {'[': {}, '{': {}, '(': {15: '(교재 + 테이프)'}}\n",
       "101                  {'[': {}, '{': {}, '(': {7: '(합본)'}}\n",
       "162                  {'[': {}, '{': {}, '(': {5: '(양장)'}}\n",
       "180            {'[': {}, '{': {}, '(': {7: '(교재 + 칠교판)'}}\n",
       "193        {'[': {}, '{': {}, '(': {12: '(교재 + 테이프 3개)'}}\n",
       "                              ...                        \n",
       "9286                 {'[': {}, '{': {}, '(': {7: '(양장)'}}\n",
       "9299    {'[': {}, '{': {}, '(': {14: '(기출지문 암기 App 이용쿠...\n",
       "9303             {'[': {}, '{': {}, '(': {13: '(최신개정판)'}}\n",
       "9306               {'[': {}, '{': {}, '(': {12: '(한정판)'}}\n",
       "9327               {'[': {}, '{': {}, '(': {13: '(양장본)'}}\n",
       "Name: BName, Length: 883, dtype: object"
      ]
     },
     "execution_count": 189,
     "metadata": {},
     "output_type": "execute_result"
    }
   ],
   "source": [
    "count_all_ele = lambda x: sum(map(len,x.values()))\n",
    "cond = temp.apply(count_all_ele)>0\n",
    "temp[cond]"
   ]
  },
  {
   "cell_type": "code",
   "execution_count": 211,
   "metadata": {},
   "outputs": [],
   "source": [
    "def clear_patterns(patterns:dict,sentence):\n",
    "    for pat in patterns.values() :\n",
    "        sentence = re.sub(pat,'',sentence).strip()\n",
    "        sentence = re.sub(r'\\s+',' ',sentence).strip()\n",
    "    return sentence"
   ]
  },
  {
   "cell_type": "code",
   "execution_count": 212,
   "metadata": {},
   "outputs": [
    {
     "data": {
      "text/plain": [
       "{'[': {0: '[신간]', 11: '[[안녕하세요]]', 27: '[(안녕)]'}, '{': {}, '(': {28: '(안녕)'}}"
      ]
     },
     "metadata": {},
     "output_type": "display_data"
    },
    {
     "data": {
      "text/plain": [
       "' 최고 인기  환영합니다 하세요'"
      ]
     },
     "execution_count": 212,
     "metadata": {},
     "output_type": "execute_result"
    }
   ],
   "source": [
    "sent = '[신간] 최고 인기 [[안녕하세요]] 환영합니다 [(안녕)]하세요'\n",
    "temp = re.finditer(patterns['['],sent)\n",
    "display(find_patterns(patterns,sent))\n",
    "re.sub(patterns['['],'',sent)"
   ]
  },
  {
   "cell_type": "code",
   "execution_count": 213,
   "metadata": {},
   "outputs": [
    {
     "data": {
      "text/plain": [
       "'최고 인기 환영합니다 하세요'"
      ]
     },
     "metadata": {},
     "output_type": "display_data"
    }
   ],
   "source": [
    "display(clear_patterns(patterns,sent))"
   ]
  },
  {
   "cell_type": "code",
   "execution_count": 214,
   "metadata": {},
   "outputs": [
    {
     "data": {
      "text/plain": [
       "0               민병철 생활영어 1\n",
       "1                  행복에의 초대\n",
       "2               훈련으로 되는 제자\n",
       "3                   전태일 평전\n",
       "4                    제자의 삶\n",
       "               ...        \n",
       "9323            장송의 프리렌 12\n",
       "9324            약사의 혼잣말 13\n",
       "9325      타몬 군 지금 어느 쪽?! 7\n",
       "9326           천재 의사 시건방 1\n",
       "9327    전지적 루이&후이 시점 (양장본)\n",
       "Name: BName, Length: 9328, dtype: object"
      ]
     },
     "metadata": {},
     "output_type": "display_data"
    },
    {
     "data": {
      "text/plain": [
       "0             민병철 생활영어 1\n",
       "1                행복에의 초대\n",
       "2             훈련으로 되는 제자\n",
       "3                 전태일 평전\n",
       "4                  제자의 삶\n",
       "              ...       \n",
       "9323          장송의 프리렌 12\n",
       "9324          약사의 혼잣말 13\n",
       "9325    타몬 군 지금 어느 쪽?! 7\n",
       "9326         천재 의사 시건방 1\n",
       "9327        전지적 루이&후이 시점\n",
       "Name: BName, Length: 9328, dtype: object"
      ]
     },
     "metadata": {},
     "output_type": "display_data"
    }
   ],
   "source": [
    "display(titles)\n",
    "display(titles.apply(lambda x : clear_patterns(patterns,x)))"
   ]
  },
  {
   "cell_type": "markdown",
   "metadata": {},
   "source": [
    "- 권 정보는 따로 분리 안해도 될 듯"
   ]
  },
  {
   "cell_type": "markdown",
   "metadata": {},
   "source": [
    "## 정리하여 적용\n",
    "- 저자명 : 1저자만 추출\n",
    "    - ```extract_author1``` 사용\n",
    "    - 공저자 등이 있는지에 대한 bool columns을 만듦\n",
    "- 도서명 : 괄호 안의 내용 분리\n",
    "    - 각 괄호 별로 들어있는 내용을 추출한 뒤 ', '.join\n",
    "- 출판사 : 상위 50개를 제외하고는 기타 처리\n",
    "- 대분류 : 별도의 처리 하지 않되 token 코퍼스에 추가"
   ]
  },
  {
   "cell_type": "code",
   "execution_count": 215,
   "metadata": {},
   "outputs": [
    {
     "data": {
      "text/html": [
       "<div>\n",
       "<style scoped>\n",
       "    .dataframe tbody tr th:only-of-type {\n",
       "        vertical-align: middle;\n",
       "    }\n",
       "\n",
       "    .dataframe tbody tr th {\n",
       "        vertical-align: top;\n",
       "    }\n",
       "\n",
       "    .dataframe thead th {\n",
       "        text-align: right;\n",
       "    }\n",
       "</style>\n",
       "<table border=\"1\" class=\"dataframe\">\n",
       "  <thead>\n",
       "    <tr style=\"text-align: right;\">\n",
       "      <th></th>\n",
       "      <th>Rank</th>\n",
       "      <th>Partition</th>\n",
       "      <th>BName</th>\n",
       "      <th>ItemId</th>\n",
       "      <th>ISBN13</th>\n",
       "      <th>AddCode</th>\n",
       "      <th>Author</th>\n",
       "      <th>Publshr</th>\n",
       "      <th>Pdate</th>\n",
       "      <th>RglPrice</th>\n",
       "      <th>SlsPrice</th>\n",
       "      <th>Mileage</th>\n",
       "      <th>SalesPoint</th>\n",
       "      <th>Category</th>\n",
       "      <th>Sorce</th>\n",
       "    </tr>\n",
       "  </thead>\n",
       "  <tbody>\n",
       "    <tr>\n",
       "      <th>0</th>\n",
       "      <td>322.0</td>\n",
       "      <td>국내도서</td>\n",
       "      <td>민병철 생활영어 1</td>\n",
       "      <td>54947</td>\n",
       "      <td>9788975121036</td>\n",
       "      <td>13740.0</td>\n",
       "      <td>민병철 지음</td>\n",
       "      <td>민병철스피킹웍스</td>\n",
       "      <td>1979-10-01</td>\n",
       "      <td>5500</td>\n",
       "      <td>4950</td>\n",
       "      <td>270점</td>\n",
       "      <td>177.0</td>\n",
       "      <td>외국어</td>\n",
       "      <td>2001년1월3주</td>\n",
       "    </tr>\n",
       "    <tr>\n",
       "      <th>1</th>\n",
       "      <td>767.0</td>\n",
       "      <td>국내도서</td>\n",
       "      <td>행복에의 초대</td>\n",
       "      <td>168173</td>\n",
       "      <td>9788932852218</td>\n",
       "      <td>93230.0</td>\n",
       "      <td>IVP(한국기독학생회출판부) 편집부 엮음</td>\n",
       "      <td>IVP</td>\n",
       "      <td>1979-12-01</td>\n",
       "      <td>2800</td>\n",
       "      <td>2660</td>\n",
       "      <td>20점</td>\n",
       "      <td>1960.0</td>\n",
       "      <td>종교/역학</td>\n",
       "      <td>2005년2월1주</td>\n",
       "    </tr>\n",
       "    <tr>\n",
       "      <th>2</th>\n",
       "      <td>449.0</td>\n",
       "      <td>국내도서</td>\n",
       "      <td>훈련으로 되는 제자</td>\n",
       "      <td>458277</td>\n",
       "      <td>9788937501791</td>\n",
       "      <td>NaN</td>\n",
       "      <td>월터 A. 헨릭슨 지음</td>\n",
       "      <td>네비게이토</td>\n",
       "      <td>1980-12-01</td>\n",
       "      <td>4500</td>\n",
       "      <td>4050</td>\n",
       "      <td>220점</td>\n",
       "      <td>552.0</td>\n",
       "      <td>종교/역학</td>\n",
       "      <td>2005년2월1주</td>\n",
       "    </tr>\n",
       "    <tr>\n",
       "      <th>3</th>\n",
       "      <td>490.0</td>\n",
       "      <td>국내도서</td>\n",
       "      <td>전태일 평전</td>\n",
       "      <td>128759</td>\n",
       "      <td>9788971990650</td>\n",
       "      <td>NaN</td>\n",
       "      <td>조영래 지음</td>\n",
       "      <td>돌베개</td>\n",
       "      <td>1983-06-01</td>\n",
       "      <td>6000</td>\n",
       "      <td>6000</td>\n",
       "      <td>60점</td>\n",
       "      <td>409.0</td>\n",
       "      <td>사회과학</td>\n",
       "      <td>2001년1월3주</td>\n",
       "    </tr>\n",
       "    <tr>\n",
       "      <th>4</th>\n",
       "      <td>300.0</td>\n",
       "      <td>국내도서</td>\n",
       "      <td>제자의 삶</td>\n",
       "      <td>131488</td>\n",
       "      <td>9788937502590</td>\n",
       "      <td>3230.0</td>\n",
       "      <td>프랜시스 M.코스그로브 지음</td>\n",
       "      <td>네비게이토</td>\n",
       "      <td>1984-07-01</td>\n",
       "      <td>12000</td>\n",
       "      <td>12000</td>\n",
       "      <td>360점</td>\n",
       "      <td>1110.0</td>\n",
       "      <td>종교/역학</td>\n",
       "      <td>2005년2월1주</td>\n",
       "    </tr>\n",
       "    <tr>\n",
       "      <th>...</th>\n",
       "      <td>...</td>\n",
       "      <td>...</td>\n",
       "      <td>...</td>\n",
       "      <td>...</td>\n",
       "      <td>...</td>\n",
       "      <td>...</td>\n",
       "      <td>...</td>\n",
       "      <td>...</td>\n",
       "      <td>...</td>\n",
       "      <td>...</td>\n",
       "      <td>...</td>\n",
       "      <td>...</td>\n",
       "      <td>...</td>\n",
       "      <td>...</td>\n",
       "      <td>...</td>\n",
       "    </tr>\n",
       "    <tr>\n",
       "      <th>9323</th>\n",
       "      <td>68.0</td>\n",
       "      <td>국내도서</td>\n",
       "      <td>장송의 프리렌 12</td>\n",
       "      <td>342597187</td>\n",
       "      <td>9791141131623</td>\n",
       "      <td>NaN</td>\n",
       "      <td>야마다 카네히토 지음, 아베 츠카사 그림, 서현아 옮김</td>\n",
       "      <td>학산문화사(만화)</td>\n",
       "      <td>2024-07-25</td>\n",
       "      <td>6000</td>\n",
       "      <td>5400</td>\n",
       "      <td>300점</td>\n",
       "      <td>10530.0</td>\n",
       "      <td>만화</td>\n",
       "      <td>2024년7월2주</td>\n",
       "    </tr>\n",
       "    <tr>\n",
       "      <th>9324</th>\n",
       "      <td>138.0</td>\n",
       "      <td>국내도서</td>\n",
       "      <td>약사의 혼잣말 13</td>\n",
       "      <td>342597589</td>\n",
       "      <td>9791141137175</td>\n",
       "      <td>NaN</td>\n",
       "      <td>네코쿠라게 지음, 시노 토우코 그림, 휴우가 나츠 원작, 나나오 이츠키 구성</td>\n",
       "      <td>학산문화사(만화)</td>\n",
       "      <td>2024-07-25</td>\n",
       "      <td>6000</td>\n",
       "      <td>5400</td>\n",
       "      <td>300점</td>\n",
       "      <td>5870.0</td>\n",
       "      <td>만화</td>\n",
       "      <td>2024년7월2주</td>\n",
       "    </tr>\n",
       "    <tr>\n",
       "      <th>9325</th>\n",
       "      <td>129.0</td>\n",
       "      <td>국내도서</td>\n",
       "      <td>타몬 군 지금 어느 쪽?! 7</td>\n",
       "      <td>342597714</td>\n",
       "      <td>9791141131678</td>\n",
       "      <td>NaN</td>\n",
       "      <td>시와스 유키 지음, 최윤정 옮김</td>\n",
       "      <td>학산문화사(만화)</td>\n",
       "      <td>2024-07-25</td>\n",
       "      <td>6000</td>\n",
       "      <td>5400</td>\n",
       "      <td>300점</td>\n",
       "      <td>6370.0</td>\n",
       "      <td>만화</td>\n",
       "      <td>2024년7월2주</td>\n",
       "    </tr>\n",
       "    <tr>\n",
       "      <th>9326</th>\n",
       "      <td>209.0</td>\n",
       "      <td>국내도서</td>\n",
       "      <td>천재 의사 시건방 1</td>\n",
       "      <td>342388828</td>\n",
       "      <td>9791160342147</td>\n",
       "      <td>74810</td>\n",
       "      <td>강효미 지음, 유영근 그림</td>\n",
       "      <td>머스트비</td>\n",
       "      <td>2024-07-31</td>\n",
       "      <td>13000</td>\n",
       "      <td>11700</td>\n",
       "      <td>650점</td>\n",
       "      <td>8190.0</td>\n",
       "      <td>어린이</td>\n",
       "      <td>2024년7월2주</td>\n",
       "    </tr>\n",
       "    <tr>\n",
       "      <th>9327</th>\n",
       "      <td>1.0</td>\n",
       "      <td>국내도서</td>\n",
       "      <td>전지적 루이&amp;후이 시점 (양장본)</td>\n",
       "      <td>342594262</td>\n",
       "      <td>9791171712373</td>\n",
       "      <td>3810</td>\n",
       "      <td>송영관 지음, 송영관.류정훈 사진</td>\n",
       "      <td>위즈덤하우스</td>\n",
       "      <td>2024-07-31</td>\n",
       "      <td>25000</td>\n",
       "      <td>22500</td>\n",
       "      <td>1,250점</td>\n",
       "      <td>89930.0</td>\n",
       "      <td>에세이</td>\n",
       "      <td>2024년7월2주</td>\n",
       "    </tr>\n",
       "  </tbody>\n",
       "</table>\n",
       "<p>9328 rows × 15 columns</p>\n",
       "</div>"
      ],
      "text/plain": [
       "       Rank Partition               BName     ItemId         ISBN13  AddCode  \\\n",
       "0     322.0      국내도서          민병철 생활영어 1      54947  9788975121036  13740.0   \n",
       "1     767.0      국내도서             행복에의 초대     168173  9788932852218  93230.0   \n",
       "2     449.0      국내도서          훈련으로 되는 제자     458277  9788937501791      NaN   \n",
       "3     490.0      국내도서              전태일 평전     128759  9788971990650      NaN   \n",
       "4     300.0      국내도서               제자의 삶     131488  9788937502590   3230.0   \n",
       "...     ...       ...                 ...        ...            ...      ...   \n",
       "9323   68.0      국내도서          장송의 프리렌 12  342597187  9791141131623      NaN   \n",
       "9324  138.0      국내도서          약사의 혼잣말 13  342597589  9791141137175      NaN   \n",
       "9325  129.0      국내도서    타몬 군 지금 어느 쪽?! 7  342597714  9791141131678      NaN   \n",
       "9326  209.0      국내도서         천재 의사 시건방 1  342388828  9791160342147    74810   \n",
       "9327    1.0      국내도서  전지적 루이&후이 시점 (양장본)  342594262  9791171712373     3810   \n",
       "\n",
       "                                          Author    Publshr       Pdate  \\\n",
       "0                                         민병철 지음   민병철스피킹웍스  1979-10-01   \n",
       "1                         IVP(한국기독학생회출판부) 편집부 엮음        IVP  1979-12-01   \n",
       "2                                   월터 A. 헨릭슨 지음      네비게이토  1980-12-01   \n",
       "3                                         조영래 지음        돌베개  1983-06-01   \n",
       "4                                프랜시스 M.코스그로브 지음      네비게이토  1984-07-01   \n",
       "...                                          ...        ...         ...   \n",
       "9323              야마다 카네히토 지음, 아베 츠카사 그림, 서현아 옮김  학산문화사(만화)  2024-07-25   \n",
       "9324  네코쿠라게 지음, 시노 토우코 그림, 휴우가 나츠 원작, 나나오 이츠키 구성  학산문화사(만화)  2024-07-25   \n",
       "9325                           시와스 유키 지음, 최윤정 옮김  학산문화사(만화)  2024-07-25   \n",
       "9326                              강효미 지음, 유영근 그림       머스트비  2024-07-31   \n",
       "9327                          송영관 지음, 송영관.류정훈 사진     위즈덤하우스  2024-07-31   \n",
       "\n",
       "      RglPrice  SlsPrice Mileage  SalesPoint Category      Sorce  \n",
       "0         5500      4950    270점       177.0      외국어  2001년1월3주  \n",
       "1         2800      2660     20점      1960.0    종교/역학  2005년2월1주  \n",
       "2         4500      4050    220점       552.0    종교/역학  2005년2월1주  \n",
       "3         6000      6000     60점       409.0     사회과학  2001년1월3주  \n",
       "4        12000     12000    360점      1110.0    종교/역학  2005년2월1주  \n",
       "...        ...       ...     ...         ...      ...        ...  \n",
       "9323      6000      5400    300점     10530.0       만화  2024년7월2주  \n",
       "9324      6000      5400    300점      5870.0       만화  2024년7월2주  \n",
       "9325      6000      5400    300점      6370.0       만화  2024년7월2주  \n",
       "9326     13000     11700    650점      8190.0      어린이  2024년7월2주  \n",
       "9327     25000     22500  1,250점     89930.0      에세이  2024년7월2주  \n",
       "\n",
       "[9328 rows x 15 columns]"
      ]
     },
     "execution_count": 215,
     "metadata": {},
     "output_type": "execute_result"
    }
   ],
   "source": [
    "bookinfo"
   ]
  },
  {
   "cell_type": "code",
   "execution_count": 217,
   "metadata": {},
   "outputs": [
    {
     "data": {
      "text/plain": [
       "Index(['Rank', 'Partition', 'BName', 'ItemId', 'ISBN13', 'AddCode', 'Author',\n",
       "       'Publshr', 'Pdate', 'RglPrice', 'SlsPrice', 'Mileage', 'SalesPoint',\n",
       "       'Category', 'Sorce'],\n",
       "      dtype='object')"
      ]
     },
     "execution_count": 217,
     "metadata": {},
     "output_type": "execute_result"
    }
   ],
   "source": [
    "bookinfo.columns"
   ]
  },
  {
   "cell_type": "code",
   "execution_count": 231,
   "metadata": {},
   "outputs": [],
   "source": [
    "bookinfo_processed = bookinfo.copy()\n",
    "cols = ['Rank','BName','ItemId','Author',\n",
    "       'Publshr','Pdate','RglPrice','SlsPrice','SalesPoint',\n",
    "       'Category','Sorce'] \n",
    "bookinfo_processed = bookinfo_processed[cols]"
   ]
  },
  {
   "cell_type": "code",
   "execution_count": 232,
   "metadata": {},
   "outputs": [
    {
     "data": {
      "text/html": [
       "<div>\n",
       "<style scoped>\n",
       "    .dataframe tbody tr th:only-of-type {\n",
       "        vertical-align: middle;\n",
       "    }\n",
       "\n",
       "    .dataframe tbody tr th {\n",
       "        vertical-align: top;\n",
       "    }\n",
       "\n",
       "    .dataframe thead th {\n",
       "        text-align: right;\n",
       "    }\n",
       "</style>\n",
       "<table border=\"1\" class=\"dataframe\">\n",
       "  <thead>\n",
       "    <tr style=\"text-align: right;\">\n",
       "      <th></th>\n",
       "      <th>Rank</th>\n",
       "      <th>BName</th>\n",
       "      <th>ItemId</th>\n",
       "      <th>Author</th>\n",
       "      <th>Publshr</th>\n",
       "      <th>Pdate</th>\n",
       "      <th>RglPrice</th>\n",
       "      <th>SlsPrice</th>\n",
       "      <th>SalesPoint</th>\n",
       "      <th>Category</th>\n",
       "      <th>Sorce</th>\n",
       "      <th>BName_sub</th>\n",
       "    </tr>\n",
       "  </thead>\n",
       "  <tbody>\n",
       "    <tr>\n",
       "      <th>0</th>\n",
       "      <td>322.0</td>\n",
       "      <td>민병철 생활영어 1</td>\n",
       "      <td>54947</td>\n",
       "      <td>민병철 지음</td>\n",
       "      <td>민병철스피킹웍스</td>\n",
       "      <td>1979-10-01</td>\n",
       "      <td>5500</td>\n",
       "      <td>4950</td>\n",
       "      <td>177.0</td>\n",
       "      <td>외국어</td>\n",
       "      <td>2001년1월3주</td>\n",
       "      <td></td>\n",
       "    </tr>\n",
       "    <tr>\n",
       "      <th>1</th>\n",
       "      <td>767.0</td>\n",
       "      <td>행복에의 초대</td>\n",
       "      <td>168173</td>\n",
       "      <td>IVP(한국기독학생회출판부) 편집부 엮음</td>\n",
       "      <td>IVP</td>\n",
       "      <td>1979-12-01</td>\n",
       "      <td>2800</td>\n",
       "      <td>2660</td>\n",
       "      <td>1960.0</td>\n",
       "      <td>종교/역학</td>\n",
       "      <td>2005년2월1주</td>\n",
       "      <td></td>\n",
       "    </tr>\n",
       "    <tr>\n",
       "      <th>2</th>\n",
       "      <td>449.0</td>\n",
       "      <td>훈련으로 되는 제자</td>\n",
       "      <td>458277</td>\n",
       "      <td>월터 A. 헨릭슨 지음</td>\n",
       "      <td>네비게이토</td>\n",
       "      <td>1980-12-01</td>\n",
       "      <td>4500</td>\n",
       "      <td>4050</td>\n",
       "      <td>552.0</td>\n",
       "      <td>종교/역학</td>\n",
       "      <td>2005년2월1주</td>\n",
       "      <td></td>\n",
       "    </tr>\n",
       "    <tr>\n",
       "      <th>3</th>\n",
       "      <td>490.0</td>\n",
       "      <td>전태일 평전</td>\n",
       "      <td>128759</td>\n",
       "      <td>조영래 지음</td>\n",
       "      <td>돌베개</td>\n",
       "      <td>1983-06-01</td>\n",
       "      <td>6000</td>\n",
       "      <td>6000</td>\n",
       "      <td>409.0</td>\n",
       "      <td>사회과학</td>\n",
       "      <td>2001년1월3주</td>\n",
       "      <td></td>\n",
       "    </tr>\n",
       "    <tr>\n",
       "      <th>4</th>\n",
       "      <td>300.0</td>\n",
       "      <td>제자의 삶</td>\n",
       "      <td>131488</td>\n",
       "      <td>프랜시스 M.코스그로브 지음</td>\n",
       "      <td>네비게이토</td>\n",
       "      <td>1984-07-01</td>\n",
       "      <td>12000</td>\n",
       "      <td>12000</td>\n",
       "      <td>1110.0</td>\n",
       "      <td>종교/역학</td>\n",
       "      <td>2005년2월1주</td>\n",
       "      <td></td>\n",
       "    </tr>\n",
       "    <tr>\n",
       "      <th>...</th>\n",
       "      <td>...</td>\n",
       "      <td>...</td>\n",
       "      <td>...</td>\n",
       "      <td>...</td>\n",
       "      <td>...</td>\n",
       "      <td>...</td>\n",
       "      <td>...</td>\n",
       "      <td>...</td>\n",
       "      <td>...</td>\n",
       "      <td>...</td>\n",
       "      <td>...</td>\n",
       "      <td>...</td>\n",
       "    </tr>\n",
       "    <tr>\n",
       "      <th>9323</th>\n",
       "      <td>68.0</td>\n",
       "      <td>장송의 프리렌 12</td>\n",
       "      <td>342597187</td>\n",
       "      <td>야마다 카네히토 지음, 아베 츠카사 그림, 서현아 옮김</td>\n",
       "      <td>학산문화사(만화)</td>\n",
       "      <td>2024-07-25</td>\n",
       "      <td>6000</td>\n",
       "      <td>5400</td>\n",
       "      <td>10530.0</td>\n",
       "      <td>만화</td>\n",
       "      <td>2024년7월2주</td>\n",
       "      <td></td>\n",
       "    </tr>\n",
       "    <tr>\n",
       "      <th>9324</th>\n",
       "      <td>138.0</td>\n",
       "      <td>약사의 혼잣말 13</td>\n",
       "      <td>342597589</td>\n",
       "      <td>네코쿠라게 지음, 시노 토우코 그림, 휴우가 나츠 원작, 나나오 이츠키 구성</td>\n",
       "      <td>학산문화사(만화)</td>\n",
       "      <td>2024-07-25</td>\n",
       "      <td>6000</td>\n",
       "      <td>5400</td>\n",
       "      <td>5870.0</td>\n",
       "      <td>만화</td>\n",
       "      <td>2024년7월2주</td>\n",
       "      <td></td>\n",
       "    </tr>\n",
       "    <tr>\n",
       "      <th>9325</th>\n",
       "      <td>129.0</td>\n",
       "      <td>타몬 군 지금 어느 쪽?! 7</td>\n",
       "      <td>342597714</td>\n",
       "      <td>시와스 유키 지음, 최윤정 옮김</td>\n",
       "      <td>학산문화사(만화)</td>\n",
       "      <td>2024-07-25</td>\n",
       "      <td>6000</td>\n",
       "      <td>5400</td>\n",
       "      <td>6370.0</td>\n",
       "      <td>만화</td>\n",
       "      <td>2024년7월2주</td>\n",
       "      <td></td>\n",
       "    </tr>\n",
       "    <tr>\n",
       "      <th>9326</th>\n",
       "      <td>209.0</td>\n",
       "      <td>천재 의사 시건방 1</td>\n",
       "      <td>342388828</td>\n",
       "      <td>강효미 지음, 유영근 그림</td>\n",
       "      <td>머스트비</td>\n",
       "      <td>2024-07-31</td>\n",
       "      <td>13000</td>\n",
       "      <td>11700</td>\n",
       "      <td>8190.0</td>\n",
       "      <td>어린이</td>\n",
       "      <td>2024년7월2주</td>\n",
       "      <td></td>\n",
       "    </tr>\n",
       "    <tr>\n",
       "      <th>9327</th>\n",
       "      <td>1.0</td>\n",
       "      <td>전지적 루이&amp;후이 시점</td>\n",
       "      <td>342594262</td>\n",
       "      <td>송영관 지음, 송영관.류정훈 사진</td>\n",
       "      <td>위즈덤하우스</td>\n",
       "      <td>2024-07-31</td>\n",
       "      <td>25000</td>\n",
       "      <td>22500</td>\n",
       "      <td>89930.0</td>\n",
       "      <td>에세이</td>\n",
       "      <td>2024년7월2주</td>\n",
       "      <td>(양장본)</td>\n",
       "    </tr>\n",
       "  </tbody>\n",
       "</table>\n",
       "<p>9328 rows × 12 columns</p>\n",
       "</div>"
      ],
      "text/plain": [
       "       Rank             BName     ItemId  \\\n",
       "0     322.0        민병철 생활영어 1      54947   \n",
       "1     767.0           행복에의 초대     168173   \n",
       "2     449.0        훈련으로 되는 제자     458277   \n",
       "3     490.0            전태일 평전     128759   \n",
       "4     300.0             제자의 삶     131488   \n",
       "...     ...               ...        ...   \n",
       "9323   68.0        장송의 프리렌 12  342597187   \n",
       "9324  138.0        약사의 혼잣말 13  342597589   \n",
       "9325  129.0  타몬 군 지금 어느 쪽?! 7  342597714   \n",
       "9326  209.0       천재 의사 시건방 1  342388828   \n",
       "9327    1.0      전지적 루이&후이 시점  342594262   \n",
       "\n",
       "                                          Author    Publshr       Pdate  \\\n",
       "0                                         민병철 지음   민병철스피킹웍스  1979-10-01   \n",
       "1                         IVP(한국기독학생회출판부) 편집부 엮음        IVP  1979-12-01   \n",
       "2                                   월터 A. 헨릭슨 지음      네비게이토  1980-12-01   \n",
       "3                                         조영래 지음        돌베개  1983-06-01   \n",
       "4                                프랜시스 M.코스그로브 지음      네비게이토  1984-07-01   \n",
       "...                                          ...        ...         ...   \n",
       "9323              야마다 카네히토 지음, 아베 츠카사 그림, 서현아 옮김  학산문화사(만화)  2024-07-25   \n",
       "9324  네코쿠라게 지음, 시노 토우코 그림, 휴우가 나츠 원작, 나나오 이츠키 구성  학산문화사(만화)  2024-07-25   \n",
       "9325                           시와스 유키 지음, 최윤정 옮김  학산문화사(만화)  2024-07-25   \n",
       "9326                              강효미 지음, 유영근 그림       머스트비  2024-07-31   \n",
       "9327                          송영관 지음, 송영관.류정훈 사진     위즈덤하우스  2024-07-31   \n",
       "\n",
       "      RglPrice  SlsPrice  SalesPoint Category      Sorce BName_sub  \n",
       "0         5500      4950       177.0      외국어  2001년1월3주            \n",
       "1         2800      2660      1960.0    종교/역학  2005년2월1주            \n",
       "2         4500      4050       552.0    종교/역학  2005년2월1주            \n",
       "3         6000      6000       409.0     사회과학  2001년1월3주            \n",
       "4        12000     12000      1110.0    종교/역학  2005년2월1주            \n",
       "...        ...       ...         ...      ...        ...       ...  \n",
       "9323      6000      5400     10530.0       만화  2024년7월2주            \n",
       "9324      6000      5400      5870.0       만화  2024년7월2주            \n",
       "9325      6000      5400      6370.0       만화  2024년7월2주            \n",
       "9326     13000     11700      8190.0      어린이  2024년7월2주            \n",
       "9327     25000     22500     89930.0      에세이  2024년7월2주     (양장본)  \n",
       "\n",
       "[9328 rows x 12 columns]"
      ]
     },
     "execution_count": 232,
     "metadata": {},
     "output_type": "execute_result"
    }
   ],
   "source": [
    "import itertools\n",
    "\n",
    "titles = bookinfo['BName']\n",
    "temp = titles.apply(lambda x : find_patterns(patterns,x))\n",
    "temp2 = pd.DataFrame(data = [np.nan]*len(temp),index = temp.index)\n",
    "for parens in patterns.keys():\n",
    "    temp2[f'con_{parens}'] = temp.apply(lambda x: ', '.join(list(x[parens].values())))\n",
    "\n",
    "paren_cols = list(map(lambda x : f'con_{x}',patterns.keys()))\n",
    "bookinfo_processed['BName_sub'] = temp2[paren_cols].apply(lambda x : ', '.join(\n",
    "    (filter(lambda y : y !='',x))),axis=1)\n",
    "bookinfo_processed['BName'] = titles.apply(lambda x : clear_patterns(patterns,x))\n",
    "\n",
    "bookinfo_processed"
   ]
  },
  {
   "cell_type": "code",
   "execution_count": 241,
   "metadata": {},
   "outputs": [
    {
     "data": {
      "text/plain": [
       "BName_sub\n",
       "                      8445\n",
       "(양장)                    50\n",
       "(반양장)                   27\n",
       "(무선)                    22\n",
       "(스프링)                   20\n",
       "                      ... \n",
       "(2014~2015년 최신개정판)       1\n",
       "(2015년용)                 1\n",
       "(2014년)                  1\n",
       "(60만 부 기념 스페셜 에디션)       1\n",
       "(2024 하편)                1\n",
       "Name: count, Length: 493, dtype: int64"
      ]
     },
     "execution_count": 241,
     "metadata": {},
     "output_type": "execute_result"
    }
   ],
   "source": [
    "bookinfo_processed['BName_sub'].value_counts()"
   ]
  },
  {
   "cell_type": "code",
   "execution_count": 238,
   "metadata": {},
   "outputs": [
    {
     "data": {
      "text/plain": [
       "52"
      ]
     },
     "execution_count": 238,
     "metadata": {},
     "output_type": "execute_result"
    }
   ],
   "source": [
    "k = 50\n",
    "stats = bookinfo['Publshr'].value_counts().sort_values(ascending=False)\n",
    "top_k_val = stats.iloc[k]\n",
    "publs_top_k = list(stats[stats >= top_k_val].index)\n",
    "len(publs_top_k)\n",
    "#top k 정하는 것은 완전 합본 후에 정해야 함"
   ]
  },
  {
   "cell_type": "code",
   "execution_count": 240,
   "metadata": {},
   "outputs": [
    {
     "data": {
      "text/plain": [
       "53"
      ]
     },
     "metadata": {},
     "output_type": "display_data"
    },
    {
     "data": {
      "text/plain": [
       "Publshr\n",
       "기타 출판사               5576\n",
       "대원씨아이(만화)             220\n",
       "학산문화사(만화)             216\n",
       "문학동네                  210\n",
       "서울미디어코믹스(서울문화사)       169\n",
       "민음사                   167\n",
       "해커스어학연구소(Hackers)     146\n",
       "창비                    145\n",
       "길벗                    125\n",
       "위즈덤하우스                122\n",
       "김영사                   121\n",
       "영진.com(영진닷컴)           96\n",
       "문학과지성사                 93\n",
       "열린책들                   87\n",
       "21세기북스                 86\n",
       "디앤씨미디어(주)(D&C미디어)      81\n",
       "에스티앤북스(ST&BOOKS)       80\n",
       "㈜소미미디어                 73\n",
       "에스티유니타스                71\n",
       "해냄                     64\n",
       "웅진지식하우스                62\n",
       "에듀윌                    61\n",
       "랜덤하우스코리아               58\n",
       "알에이치코리아(RHK)           56\n",
       "영상출판미디어(주)             52\n",
       "넥서스                    51\n",
       "두란노                    49\n",
       "한길사                    47\n",
       "서울문화사                  46\n",
       "한겨레출판                  46\n",
       "은행나무                   45\n",
       "황금가지                   45\n",
       "현대지능개발사                44\n",
       "까치                     43\n",
       "다산북스                   42\n",
       "메가스터디교육(공무원)           42\n",
       "비즈니스북스                 39\n",
       "쌤앤파커스                  39\n",
       "시공사                    37\n",
       "윌북                     37\n",
       "사계절                    37\n",
       "와이비엠                   37\n",
       "바다출판사                  36\n",
       "한국경제신문                 36\n",
       "대원씨아이(단행본)             35\n",
       "현대문학                   35\n",
       "시대고시기획                 34\n",
       "휴머니스트                  32\n",
       "돌베개                    32\n",
       "솔출판사                   32\n",
       "길벗이지톡                  31\n",
       "예담                     31\n",
       "해커스공무원                 31\n",
       "Name: count, dtype: int64"
      ]
     },
     "metadata": {},
     "output_type": "display_data"
    }
   ],
   "source": [
    "cond_etc = ~(bookinfo['Publshr'].isin(publs_top_k))\n",
    "bookinfo_processed.loc[cond_etc,'Publshr'] =  '기타 출판사'\n",
    "display(len(bookinfo_processed['Publshr'].unique()))\n",
    "display(bookinfo_processed['Publshr'].value_counts())"
   ]
  },
  {
   "cell_type": "code",
   "execution_count": 242,
   "metadata": {},
   "outputs": [
    {
     "data": {
      "text/html": [
       "<div>\n",
       "<style scoped>\n",
       "    .dataframe tbody tr th:only-of-type {\n",
       "        vertical-align: middle;\n",
       "    }\n",
       "\n",
       "    .dataframe tbody tr th {\n",
       "        vertical-align: top;\n",
       "    }\n",
       "\n",
       "    .dataframe thead th {\n",
       "        text-align: right;\n",
       "    }\n",
       "</style>\n",
       "<table border=\"1\" class=\"dataframe\">\n",
       "  <thead>\n",
       "    <tr style=\"text-align: right;\">\n",
       "      <th></th>\n",
       "      <th>Rank</th>\n",
       "      <th>BName</th>\n",
       "      <th>ItemId</th>\n",
       "      <th>Author</th>\n",
       "      <th>Publshr</th>\n",
       "      <th>Pdate</th>\n",
       "      <th>RglPrice</th>\n",
       "      <th>SlsPrice</th>\n",
       "      <th>SalesPoint</th>\n",
       "      <th>Category</th>\n",
       "      <th>Sorce</th>\n",
       "      <th>BName_sub</th>\n",
       "      <th>Author_mul</th>\n",
       "    </tr>\n",
       "  </thead>\n",
       "  <tbody>\n",
       "    <tr>\n",
       "      <th>0</th>\n",
       "      <td>322.0</td>\n",
       "      <td>민병철 생활영어 1</td>\n",
       "      <td>54947</td>\n",
       "      <td>민병철</td>\n",
       "      <td>기타 출판사</td>\n",
       "      <td>1979-10-01</td>\n",
       "      <td>5500</td>\n",
       "      <td>4950</td>\n",
       "      <td>177.0</td>\n",
       "      <td>외국어</td>\n",
       "      <td>2001년1월3주</td>\n",
       "      <td></td>\n",
       "      <td>False</td>\n",
       "    </tr>\n",
       "    <tr>\n",
       "      <th>1</th>\n",
       "      <td>767.0</td>\n",
       "      <td>행복에의 초대</td>\n",
       "      <td>168173</td>\n",
       "      <td>IVP(한국기독학생회출판부) 편집부</td>\n",
       "      <td>기타 출판사</td>\n",
       "      <td>1979-12-01</td>\n",
       "      <td>2800</td>\n",
       "      <td>2660</td>\n",
       "      <td>1960.0</td>\n",
       "      <td>종교/역학</td>\n",
       "      <td>2005년2월1주</td>\n",
       "      <td></td>\n",
       "      <td>False</td>\n",
       "    </tr>\n",
       "    <tr>\n",
       "      <th>2</th>\n",
       "      <td>449.0</td>\n",
       "      <td>훈련으로 되는 제자</td>\n",
       "      <td>458277</td>\n",
       "      <td>월터 A. 헨릭슨</td>\n",
       "      <td>기타 출판사</td>\n",
       "      <td>1980-12-01</td>\n",
       "      <td>4500</td>\n",
       "      <td>4050</td>\n",
       "      <td>552.0</td>\n",
       "      <td>종교/역학</td>\n",
       "      <td>2005년2월1주</td>\n",
       "      <td></td>\n",
       "      <td>False</td>\n",
       "    </tr>\n",
       "    <tr>\n",
       "      <th>3</th>\n",
       "      <td>490.0</td>\n",
       "      <td>전태일 평전</td>\n",
       "      <td>128759</td>\n",
       "      <td>조영래</td>\n",
       "      <td>돌베개</td>\n",
       "      <td>1983-06-01</td>\n",
       "      <td>6000</td>\n",
       "      <td>6000</td>\n",
       "      <td>409.0</td>\n",
       "      <td>사회과학</td>\n",
       "      <td>2001년1월3주</td>\n",
       "      <td></td>\n",
       "      <td>False</td>\n",
       "    </tr>\n",
       "    <tr>\n",
       "      <th>4</th>\n",
       "      <td>300.0</td>\n",
       "      <td>제자의 삶</td>\n",
       "      <td>131488</td>\n",
       "      <td>프랜시스 M.코스그로브</td>\n",
       "      <td>기타 출판사</td>\n",
       "      <td>1984-07-01</td>\n",
       "      <td>12000</td>\n",
       "      <td>12000</td>\n",
       "      <td>1110.0</td>\n",
       "      <td>종교/역학</td>\n",
       "      <td>2005년2월1주</td>\n",
       "      <td></td>\n",
       "      <td>False</td>\n",
       "    </tr>\n",
       "    <tr>\n",
       "      <th>...</th>\n",
       "      <td>...</td>\n",
       "      <td>...</td>\n",
       "      <td>...</td>\n",
       "      <td>...</td>\n",
       "      <td>...</td>\n",
       "      <td>...</td>\n",
       "      <td>...</td>\n",
       "      <td>...</td>\n",
       "      <td>...</td>\n",
       "      <td>...</td>\n",
       "      <td>...</td>\n",
       "      <td>...</td>\n",
       "      <td>...</td>\n",
       "    </tr>\n",
       "    <tr>\n",
       "      <th>9323</th>\n",
       "      <td>68.0</td>\n",
       "      <td>장송의 프리렌 12</td>\n",
       "      <td>342597187</td>\n",
       "      <td>야마다 카네히토</td>\n",
       "      <td>학산문화사(만화)</td>\n",
       "      <td>2024-07-25</td>\n",
       "      <td>6000</td>\n",
       "      <td>5400</td>\n",
       "      <td>10530.0</td>\n",
       "      <td>만화</td>\n",
       "      <td>2024년7월2주</td>\n",
       "      <td></td>\n",
       "      <td>True</td>\n",
       "    </tr>\n",
       "    <tr>\n",
       "      <th>9324</th>\n",
       "      <td>138.0</td>\n",
       "      <td>약사의 혼잣말 13</td>\n",
       "      <td>342597589</td>\n",
       "      <td>네코쿠라게</td>\n",
       "      <td>학산문화사(만화)</td>\n",
       "      <td>2024-07-25</td>\n",
       "      <td>6000</td>\n",
       "      <td>5400</td>\n",
       "      <td>5870.0</td>\n",
       "      <td>만화</td>\n",
       "      <td>2024년7월2주</td>\n",
       "      <td></td>\n",
       "      <td>True</td>\n",
       "    </tr>\n",
       "    <tr>\n",
       "      <th>9325</th>\n",
       "      <td>129.0</td>\n",
       "      <td>타몬 군 지금 어느 쪽?! 7</td>\n",
       "      <td>342597714</td>\n",
       "      <td>시와스 유키</td>\n",
       "      <td>학산문화사(만화)</td>\n",
       "      <td>2024-07-25</td>\n",
       "      <td>6000</td>\n",
       "      <td>5400</td>\n",
       "      <td>6370.0</td>\n",
       "      <td>만화</td>\n",
       "      <td>2024년7월2주</td>\n",
       "      <td></td>\n",
       "      <td>True</td>\n",
       "    </tr>\n",
       "    <tr>\n",
       "      <th>9326</th>\n",
       "      <td>209.0</td>\n",
       "      <td>천재 의사 시건방 1</td>\n",
       "      <td>342388828</td>\n",
       "      <td>강효미</td>\n",
       "      <td>기타 출판사</td>\n",
       "      <td>2024-07-31</td>\n",
       "      <td>13000</td>\n",
       "      <td>11700</td>\n",
       "      <td>8190.0</td>\n",
       "      <td>어린이</td>\n",
       "      <td>2024년7월2주</td>\n",
       "      <td></td>\n",
       "      <td>True</td>\n",
       "    </tr>\n",
       "    <tr>\n",
       "      <th>9327</th>\n",
       "      <td>1.0</td>\n",
       "      <td>전지적 루이&amp;후이 시점</td>\n",
       "      <td>342594262</td>\n",
       "      <td>송영관</td>\n",
       "      <td>위즈덤하우스</td>\n",
       "      <td>2024-07-31</td>\n",
       "      <td>25000</td>\n",
       "      <td>22500</td>\n",
       "      <td>89930.0</td>\n",
       "      <td>에세이</td>\n",
       "      <td>2024년7월2주</td>\n",
       "      <td>(양장본)</td>\n",
       "      <td>True</td>\n",
       "    </tr>\n",
       "  </tbody>\n",
       "</table>\n",
       "<p>9328 rows × 13 columns</p>\n",
       "</div>"
      ],
      "text/plain": [
       "       Rank             BName     ItemId               Author    Publshr  \\\n",
       "0     322.0        민병철 생활영어 1      54947                  민병철     기타 출판사   \n",
       "1     767.0           행복에의 초대     168173  IVP(한국기독학생회출판부) 편집부     기타 출판사   \n",
       "2     449.0        훈련으로 되는 제자     458277            월터 A. 헨릭슨     기타 출판사   \n",
       "3     490.0            전태일 평전     128759                  조영래        돌베개   \n",
       "4     300.0             제자의 삶     131488         프랜시스 M.코스그로브     기타 출판사   \n",
       "...     ...               ...        ...                  ...        ...   \n",
       "9323   68.0        장송의 프리렌 12  342597187             야마다 카네히토  학산문화사(만화)   \n",
       "9324  138.0        약사의 혼잣말 13  342597589                네코쿠라게  학산문화사(만화)   \n",
       "9325  129.0  타몬 군 지금 어느 쪽?! 7  342597714               시와스 유키  학산문화사(만화)   \n",
       "9326  209.0       천재 의사 시건방 1  342388828                  강효미     기타 출판사   \n",
       "9327    1.0      전지적 루이&후이 시점  342594262                  송영관     위즈덤하우스   \n",
       "\n",
       "           Pdate  RglPrice  SlsPrice  SalesPoint Category      Sorce  \\\n",
       "0     1979-10-01      5500      4950       177.0      외국어  2001년1월3주   \n",
       "1     1979-12-01      2800      2660      1960.0    종교/역학  2005년2월1주   \n",
       "2     1980-12-01      4500      4050       552.0    종교/역학  2005년2월1주   \n",
       "3     1983-06-01      6000      6000       409.0     사회과학  2001년1월3주   \n",
       "4     1984-07-01     12000     12000      1110.0    종교/역학  2005년2월1주   \n",
       "...          ...       ...       ...         ...      ...        ...   \n",
       "9323  2024-07-25      6000      5400     10530.0       만화  2024년7월2주   \n",
       "9324  2024-07-25      6000      5400      5870.0       만화  2024년7월2주   \n",
       "9325  2024-07-25      6000      5400      6370.0       만화  2024년7월2주   \n",
       "9326  2024-07-31     13000     11700      8190.0      어린이  2024년7월2주   \n",
       "9327  2024-07-31     25000     22500     89930.0      에세이  2024년7월2주   \n",
       "\n",
       "     BName_sub  Author_mul  \n",
       "0                    False  \n",
       "1                    False  \n",
       "2                    False  \n",
       "3                    False  \n",
       "4                    False  \n",
       "...        ...         ...  \n",
       "9323                  True  \n",
       "9324                  True  \n",
       "9325                  True  \n",
       "9326                  True  \n",
       "9327     (양장본)        True  \n",
       "\n",
       "[9328 rows x 13 columns]"
      ]
     },
     "execution_count": 242,
     "metadata": {},
     "output_type": "execute_result"
    }
   ],
   "source": [
    "authors = bookinfo['Author']\n",
    "cond_mul = authors.str.split(',').apply(len) > 1\n",
    "bookinfo_processed['Author'] = authors.apply(extract_author1)\n",
    "bookinfo_processed['Author_mul'] = cond_mul\n",
    "\n",
    "bookinfo_processed"
   ]
  },
  {
   "cell_type": "code",
   "execution_count": 245,
   "metadata": {},
   "outputs": [
    {
     "data": {
      "text/plain": [
       "['Rank',\n",
       " 'BName',\n",
       " 'BName_sub',\n",
       " 'ItemId',\n",
       " 'Author',\n",
       " 'Author_mul',\n",
       " 'Publshr',\n",
       " 'Pdate',\n",
       " 'RglPrice',\n",
       " 'SlsPrice',\n",
       " 'SalesPoint',\n",
       " 'Category',\n",
       " 'Sorce']"
      ]
     },
     "metadata": {},
     "output_type": "display_data"
    },
    {
     "data": {
      "text/html": [
       "<div>\n",
       "<style scoped>\n",
       "    .dataframe tbody tr th:only-of-type {\n",
       "        vertical-align: middle;\n",
       "    }\n",
       "\n",
       "    .dataframe tbody tr th {\n",
       "        vertical-align: top;\n",
       "    }\n",
       "\n",
       "    .dataframe thead th {\n",
       "        text-align: right;\n",
       "    }\n",
       "</style>\n",
       "<table border=\"1\" class=\"dataframe\">\n",
       "  <thead>\n",
       "    <tr style=\"text-align: right;\">\n",
       "      <th></th>\n",
       "      <th>Rank</th>\n",
       "      <th>BName</th>\n",
       "      <th>BName_sub</th>\n",
       "      <th>ItemId</th>\n",
       "      <th>Author</th>\n",
       "      <th>Author_mul</th>\n",
       "      <th>Publshr</th>\n",
       "      <th>Pdate</th>\n",
       "      <th>RglPrice</th>\n",
       "      <th>SlsPrice</th>\n",
       "      <th>SalesPoint</th>\n",
       "      <th>Category</th>\n",
       "      <th>Sorce</th>\n",
       "    </tr>\n",
       "  </thead>\n",
       "  <tbody>\n",
       "    <tr>\n",
       "      <th>0</th>\n",
       "      <td>322.0</td>\n",
       "      <td>민병철 생활영어 1</td>\n",
       "      <td></td>\n",
       "      <td>54947</td>\n",
       "      <td>민병철</td>\n",
       "      <td>False</td>\n",
       "      <td>기타 출판사</td>\n",
       "      <td>1979-10-01</td>\n",
       "      <td>5500</td>\n",
       "      <td>4950</td>\n",
       "      <td>177.0</td>\n",
       "      <td>외국어</td>\n",
       "      <td>2001년1월3주</td>\n",
       "    </tr>\n",
       "    <tr>\n",
       "      <th>1</th>\n",
       "      <td>767.0</td>\n",
       "      <td>행복에의 초대</td>\n",
       "      <td></td>\n",
       "      <td>168173</td>\n",
       "      <td>IVP(한국기독학생회출판부) 편집부</td>\n",
       "      <td>False</td>\n",
       "      <td>기타 출판사</td>\n",
       "      <td>1979-12-01</td>\n",
       "      <td>2800</td>\n",
       "      <td>2660</td>\n",
       "      <td>1960.0</td>\n",
       "      <td>종교/역학</td>\n",
       "      <td>2005년2월1주</td>\n",
       "    </tr>\n",
       "    <tr>\n",
       "      <th>2</th>\n",
       "      <td>449.0</td>\n",
       "      <td>훈련으로 되는 제자</td>\n",
       "      <td></td>\n",
       "      <td>458277</td>\n",
       "      <td>월터 A. 헨릭슨</td>\n",
       "      <td>False</td>\n",
       "      <td>기타 출판사</td>\n",
       "      <td>1980-12-01</td>\n",
       "      <td>4500</td>\n",
       "      <td>4050</td>\n",
       "      <td>552.0</td>\n",
       "      <td>종교/역학</td>\n",
       "      <td>2005년2월1주</td>\n",
       "    </tr>\n",
       "    <tr>\n",
       "      <th>3</th>\n",
       "      <td>490.0</td>\n",
       "      <td>전태일 평전</td>\n",
       "      <td></td>\n",
       "      <td>128759</td>\n",
       "      <td>조영래</td>\n",
       "      <td>False</td>\n",
       "      <td>돌베개</td>\n",
       "      <td>1983-06-01</td>\n",
       "      <td>6000</td>\n",
       "      <td>6000</td>\n",
       "      <td>409.0</td>\n",
       "      <td>사회과학</td>\n",
       "      <td>2001년1월3주</td>\n",
       "    </tr>\n",
       "    <tr>\n",
       "      <th>4</th>\n",
       "      <td>300.0</td>\n",
       "      <td>제자의 삶</td>\n",
       "      <td></td>\n",
       "      <td>131488</td>\n",
       "      <td>프랜시스 M.코스그로브</td>\n",
       "      <td>False</td>\n",
       "      <td>기타 출판사</td>\n",
       "      <td>1984-07-01</td>\n",
       "      <td>12000</td>\n",
       "      <td>12000</td>\n",
       "      <td>1110.0</td>\n",
       "      <td>종교/역학</td>\n",
       "      <td>2005년2월1주</td>\n",
       "    </tr>\n",
       "    <tr>\n",
       "      <th>...</th>\n",
       "      <td>...</td>\n",
       "      <td>...</td>\n",
       "      <td>...</td>\n",
       "      <td>...</td>\n",
       "      <td>...</td>\n",
       "      <td>...</td>\n",
       "      <td>...</td>\n",
       "      <td>...</td>\n",
       "      <td>...</td>\n",
       "      <td>...</td>\n",
       "      <td>...</td>\n",
       "      <td>...</td>\n",
       "      <td>...</td>\n",
       "    </tr>\n",
       "    <tr>\n",
       "      <th>9323</th>\n",
       "      <td>68.0</td>\n",
       "      <td>장송의 프리렌 12</td>\n",
       "      <td></td>\n",
       "      <td>342597187</td>\n",
       "      <td>야마다 카네히토</td>\n",
       "      <td>True</td>\n",
       "      <td>학산문화사(만화)</td>\n",
       "      <td>2024-07-25</td>\n",
       "      <td>6000</td>\n",
       "      <td>5400</td>\n",
       "      <td>10530.0</td>\n",
       "      <td>만화</td>\n",
       "      <td>2024년7월2주</td>\n",
       "    </tr>\n",
       "    <tr>\n",
       "      <th>9324</th>\n",
       "      <td>138.0</td>\n",
       "      <td>약사의 혼잣말 13</td>\n",
       "      <td></td>\n",
       "      <td>342597589</td>\n",
       "      <td>네코쿠라게</td>\n",
       "      <td>True</td>\n",
       "      <td>학산문화사(만화)</td>\n",
       "      <td>2024-07-25</td>\n",
       "      <td>6000</td>\n",
       "      <td>5400</td>\n",
       "      <td>5870.0</td>\n",
       "      <td>만화</td>\n",
       "      <td>2024년7월2주</td>\n",
       "    </tr>\n",
       "    <tr>\n",
       "      <th>9325</th>\n",
       "      <td>129.0</td>\n",
       "      <td>타몬 군 지금 어느 쪽?! 7</td>\n",
       "      <td></td>\n",
       "      <td>342597714</td>\n",
       "      <td>시와스 유키</td>\n",
       "      <td>True</td>\n",
       "      <td>학산문화사(만화)</td>\n",
       "      <td>2024-07-25</td>\n",
       "      <td>6000</td>\n",
       "      <td>5400</td>\n",
       "      <td>6370.0</td>\n",
       "      <td>만화</td>\n",
       "      <td>2024년7월2주</td>\n",
       "    </tr>\n",
       "    <tr>\n",
       "      <th>9326</th>\n",
       "      <td>209.0</td>\n",
       "      <td>천재 의사 시건방 1</td>\n",
       "      <td></td>\n",
       "      <td>342388828</td>\n",
       "      <td>강효미</td>\n",
       "      <td>True</td>\n",
       "      <td>기타 출판사</td>\n",
       "      <td>2024-07-31</td>\n",
       "      <td>13000</td>\n",
       "      <td>11700</td>\n",
       "      <td>8190.0</td>\n",
       "      <td>어린이</td>\n",
       "      <td>2024년7월2주</td>\n",
       "    </tr>\n",
       "    <tr>\n",
       "      <th>9327</th>\n",
       "      <td>1.0</td>\n",
       "      <td>전지적 루이&amp;후이 시점</td>\n",
       "      <td>(양장본)</td>\n",
       "      <td>342594262</td>\n",
       "      <td>송영관</td>\n",
       "      <td>True</td>\n",
       "      <td>위즈덤하우스</td>\n",
       "      <td>2024-07-31</td>\n",
       "      <td>25000</td>\n",
       "      <td>22500</td>\n",
       "      <td>89930.0</td>\n",
       "      <td>에세이</td>\n",
       "      <td>2024년7월2주</td>\n",
       "    </tr>\n",
       "  </tbody>\n",
       "</table>\n",
       "<p>9328 rows × 13 columns</p>\n",
       "</div>"
      ],
      "text/plain": [
       "       Rank             BName BName_sub     ItemId               Author  \\\n",
       "0     322.0        민병철 생활영어 1                54947                  민병철   \n",
       "1     767.0           행복에의 초대               168173  IVP(한국기독학생회출판부) 편집부   \n",
       "2     449.0        훈련으로 되는 제자               458277            월터 A. 헨릭슨   \n",
       "3     490.0            전태일 평전               128759                  조영래   \n",
       "4     300.0             제자의 삶               131488         프랜시스 M.코스그로브   \n",
       "...     ...               ...       ...        ...                  ...   \n",
       "9323   68.0        장송의 프리렌 12            342597187             야마다 카네히토   \n",
       "9324  138.0        약사의 혼잣말 13            342597589                네코쿠라게   \n",
       "9325  129.0  타몬 군 지금 어느 쪽?! 7            342597714               시와스 유키   \n",
       "9326  209.0       천재 의사 시건방 1            342388828                  강효미   \n",
       "9327    1.0      전지적 루이&후이 시점     (양장본)  342594262                  송영관   \n",
       "\n",
       "      Author_mul    Publshr       Pdate  RglPrice  SlsPrice  SalesPoint  \\\n",
       "0          False     기타 출판사  1979-10-01      5500      4950       177.0   \n",
       "1          False     기타 출판사  1979-12-01      2800      2660      1960.0   \n",
       "2          False     기타 출판사  1980-12-01      4500      4050       552.0   \n",
       "3          False        돌베개  1983-06-01      6000      6000       409.0   \n",
       "4          False     기타 출판사  1984-07-01     12000     12000      1110.0   \n",
       "...          ...        ...         ...       ...       ...         ...   \n",
       "9323        True  학산문화사(만화)  2024-07-25      6000      5400     10530.0   \n",
       "9324        True  학산문화사(만화)  2024-07-25      6000      5400      5870.0   \n",
       "9325        True  학산문화사(만화)  2024-07-25      6000      5400      6370.0   \n",
       "9326        True     기타 출판사  2024-07-31     13000     11700      8190.0   \n",
       "9327        True     위즈덤하우스  2024-07-31     25000     22500     89930.0   \n",
       "\n",
       "     Category      Sorce  \n",
       "0         외국어  2001년1월3주  \n",
       "1       종교/역학  2005년2월1주  \n",
       "2       종교/역학  2005년2월1주  \n",
       "3        사회과학  2001년1월3주  \n",
       "4       종교/역학  2005년2월1주  \n",
       "...       ...        ...  \n",
       "9323       만화  2024년7월2주  \n",
       "9324       만화  2024년7월2주  \n",
       "9325       만화  2024년7월2주  \n",
       "9326      어린이  2024년7월2주  \n",
       "9327      에세이  2024년7월2주  \n",
       "\n",
       "[9328 rows x 13 columns]"
      ]
     },
     "metadata": {},
     "output_type": "display_data"
    }
   ],
   "source": [
    "new_cols = cols.copy()\n",
    "new_cols.insert(4,'Author_mul')\n",
    "new_cols.insert(2,'BName_sub')\n",
    "display(new_cols)\n",
    "bookinfo_processed = bookinfo_processed[new_cols]\n",
    "display(bookinfo_processed)"
   ]
  },
  {
   "cell_type": "code",
   "execution_count": 247,
   "metadata": {},
   "outputs": [],
   "source": [
    "file_name = 'bookinfo_ver0.csv'\n",
    "save_path = os.path.join(PRJCT_PATH,'processed',file_name)\n",
    "bookinfo_processed.to_csv(save_path,index=False)"
   ]
  },
  {
   "cell_type": "code",
   "execution_count": null,
   "metadata": {},
   "outputs": [],
   "source": []
  }
 ],
 "metadata": {
  "kernelspec": {
   "display_name": "EST_PRJ",
   "language": "python",
   "name": "python3"
  },
  "language_info": {
   "codemirror_mode": {
    "name": "ipython",
    "version": 3
   },
   "file_extension": ".py",
   "mimetype": "text/x-python",
   "name": "python",
   "nbconvert_exporter": "python",
   "pygments_lexer": "ipython3",
   "version": "3.8.12"
  },
  "orig_nbformat": 4
 },
 "nbformat": 4,
 "nbformat_minor": 2
}

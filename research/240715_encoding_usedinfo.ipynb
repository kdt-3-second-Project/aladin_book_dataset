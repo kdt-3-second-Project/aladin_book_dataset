{
 "cells": [
  {
   "cell_type": "markdown",
   "metadata": {},
   "source": [
    "## 요약\n",
    "- quality : '균일가' 와 '하'는 '하'로 통일\n",
    "- delivery_fee : 모두 2500원\n",
    "- store : 앞의 '중고매장' 제거 후 인코딩\n",
    "    - 인코딩 방식 : 가장 높은 빈도수를 가진 단어부터 1부터 양의 정수를 대응"
   ]
  },
  {
   "cell_type": "code",
   "execution_count": 5,
   "metadata": {},
   "outputs": [],
   "source": [
    "import numpy as np\n",
    "import pandas as pd\n",
    "import seaborn as sns\n",
    "import matplotlib as mpl\n",
    "import matplotlib.pyplot as plt\n",
    "import matplotlib_inline.backend_inline\n",
    "\n",
    "# 그래프의 폰트 출력을 선명하게 (svg, retina 등이 있음)\n",
    "matplotlib_inline.backend_inline.set_matplotlib_formats(\"png2x\")\n",
    "# 테마 설정: \"default\", \"classic\", \"dark_background\", \"fivethirtyeight\", \"seaborn\"\n",
    "mpl.style.use(\"default\")\n",
    "# 이미지가 레이아웃 안으로 들어오도록 함\n",
    "# https://matplotlib.org/stable/users/explain/axes/constrainedlayout_guide.html\n",
    "mpl.rcParams.update({\"figure.constrained_layout.use\": True})\n",
    "\n",
    "#font, line, marker 등의 배율 설정: paper, notebook, talk, poster\n",
    "sns.set_context(\"paper\") \n",
    "#배색 설정: tab10, Set2, Accent, husl\n",
    "sns.set_palette(\"Set2\") \n",
    "#눈금, 배경, 격자 설정: ticks, white, whitegrid, dark, darkgrid\n",
    "# withegrid: 눈금을 그리고, 각 축의 눈금을 제거\n",
    "sns.set_style(\"whitegrid\") "
   ]
  },
  {
   "cell_type": "code",
   "execution_count": 6,
   "metadata": {},
   "outputs": [],
   "source": [
    "# 로컬에서 \n",
    "\n",
    "plt.rc(\"font\", family = \"D2Coding\")\n",
    "plt.rcParams[\"axes.unicode_minus\"] = False"
   ]
  },
  {
   "cell_type": "code",
   "execution_count": 7,
   "metadata": {},
   "outputs": [],
   "source": [
    "import os, natsort, re\n",
    "from tqdm import tqdm\n",
    "import time, random"
   ]
  },
  {
   "cell_type": "code",
   "execution_count": 8,
   "metadata": {},
   "outputs": [],
   "source": [
    "PRJCT_PATH = '/home/doeun/code/AI/ESTSOFT2024/workspace/2.project_text/aladin_usedbook/'\n",
    "save_dir = 'processed/usedbook_data/concatted'\n",
    "date = 240711\n",
    "file_name = f'usedproduct_unused_filtered_{date}_concatted.csv'"
   ]
  },
  {
   "cell_type": "code",
   "execution_count": 9,
   "metadata": {},
   "outputs": [
    {
     "data": {
      "text/html": [
       "<div>\n",
       "<style scoped>\n",
       "    .dataframe tbody tr th:only-of-type {\n",
       "        vertical-align: middle;\n",
       "    }\n",
       "\n",
       "    .dataframe tbody tr th {\n",
       "        vertical-align: top;\n",
       "    }\n",
       "\n",
       "    .dataframe thead th {\n",
       "        text-align: right;\n",
       "    }\n",
       "</style>\n",
       "<table border=\"1\" class=\"dataframe\">\n",
       "  <thead>\n",
       "    <tr style=\"text-align: right;\">\n",
       "      <th></th>\n",
       "      <th>ItemId</th>\n",
       "      <th>used_idx</th>\n",
       "      <th>delivery_fee</th>\n",
       "      <th>price</th>\n",
       "      <th>quality</th>\n",
       "      <th>store</th>\n",
       "      <th>url</th>\n",
       "    </tr>\n",
       "  </thead>\n",
       "  <tbody>\n",
       "    <tr>\n",
       "      <th>0</th>\n",
       "      <td>1000152</td>\n",
       "      <td>1</td>\n",
       "      <td>2500</td>\n",
       "      <td>7300</td>\n",
       "      <td>중</td>\n",
       "      <td>중고매장인천청라점</td>\n",
       "      <td>https://www.aladin.co.kr/shop/wproduct.aspx?It...</td>\n",
       "    </tr>\n",
       "    <tr>\n",
       "      <th>1</th>\n",
       "      <td>1000152</td>\n",
       "      <td>10</td>\n",
       "      <td>2500</td>\n",
       "      <td>7400</td>\n",
       "      <td>중</td>\n",
       "      <td>중고매장범계점</td>\n",
       "      <td>https://www.aladin.co.kr/shop/wproduct.aspx?It...</td>\n",
       "    </tr>\n",
       "    <tr>\n",
       "      <th>2</th>\n",
       "      <td>1000152</td>\n",
       "      <td>11</td>\n",
       "      <td>2500</td>\n",
       "      <td>7400</td>\n",
       "      <td>중</td>\n",
       "      <td>중고매장부산서면역점</td>\n",
       "      <td>https://www.aladin.co.kr/shop/wproduct.aspx?It...</td>\n",
       "    </tr>\n",
       "    <tr>\n",
       "      <th>3</th>\n",
       "      <td>1000152</td>\n",
       "      <td>12</td>\n",
       "      <td>2500</td>\n",
       "      <td>7700</td>\n",
       "      <td>상</td>\n",
       "      <td>중고매장동대구역점</td>\n",
       "      <td>https://www.aladin.co.kr/shop/wproduct.aspx?It...</td>\n",
       "    </tr>\n",
       "    <tr>\n",
       "      <th>4</th>\n",
       "      <td>1000152</td>\n",
       "      <td>13</td>\n",
       "      <td>2500</td>\n",
       "      <td>7700</td>\n",
       "      <td>상</td>\n",
       "      <td>중고매장범계점</td>\n",
       "      <td>https://www.aladin.co.kr/shop/wproduct.aspx?It...</td>\n",
       "    </tr>\n",
       "    <tr>\n",
       "      <th>...</th>\n",
       "      <td>...</td>\n",
       "      <td>...</td>\n",
       "      <td>...</td>\n",
       "      <td>...</td>\n",
       "      <td>...</td>\n",
       "      <td>...</td>\n",
       "      <td>...</td>\n",
       "    </tr>\n",
       "    <tr>\n",
       "      <th>70234</th>\n",
       "      <td>999466</td>\n",
       "      <td>5</td>\n",
       "      <td>2500</td>\n",
       "      <td>5000</td>\n",
       "      <td>중</td>\n",
       "      <td>중고매장수유점</td>\n",
       "      <td>https://www.aladin.co.kr/shop/wproduct.aspx?It...</td>\n",
       "    </tr>\n",
       "    <tr>\n",
       "      <th>70235</th>\n",
       "      <td>999466</td>\n",
       "      <td>6</td>\n",
       "      <td>2500</td>\n",
       "      <td>5000</td>\n",
       "      <td>중</td>\n",
       "      <td>중고매장광주충장로점</td>\n",
       "      <td>https://www.aladin.co.kr/shop/wproduct.aspx?It...</td>\n",
       "    </tr>\n",
       "    <tr>\n",
       "      <th>70236</th>\n",
       "      <td>999466</td>\n",
       "      <td>7</td>\n",
       "      <td>2500</td>\n",
       "      <td>5000</td>\n",
       "      <td>중</td>\n",
       "      <td>중고매장연신내점</td>\n",
       "      <td>https://www.aladin.co.kr/shop/wproduct.aspx?It...</td>\n",
       "    </tr>\n",
       "    <tr>\n",
       "      <th>70237</th>\n",
       "      <td>999466</td>\n",
       "      <td>8</td>\n",
       "      <td>2500</td>\n",
       "      <td>5000</td>\n",
       "      <td>중</td>\n",
       "      <td>중고매장평택점</td>\n",
       "      <td>https://www.aladin.co.kr/shop/wproduct.aspx?It...</td>\n",
       "    </tr>\n",
       "    <tr>\n",
       "      <th>70238</th>\n",
       "      <td>999466</td>\n",
       "      <td>9</td>\n",
       "      <td>2500</td>\n",
       "      <td>5000</td>\n",
       "      <td>중</td>\n",
       "      <td>중고매장수지점</td>\n",
       "      <td>https://www.aladin.co.kr/shop/wproduct.aspx?It...</td>\n",
       "    </tr>\n",
       "  </tbody>\n",
       "</table>\n",
       "<p>70239 rows × 7 columns</p>\n",
       "</div>"
      ],
      "text/plain": [
       "        ItemId  used_idx  delivery_fee  price quality       store  \\\n",
       "0      1000152         1          2500   7300       중   중고매장인천청라점   \n",
       "1      1000152        10          2500   7400       중     중고매장범계점   \n",
       "2      1000152        11          2500   7400       중  중고매장부산서면역점   \n",
       "3      1000152        12          2500   7700       상   중고매장동대구역점   \n",
       "4      1000152        13          2500   7700       상     중고매장범계점   \n",
       "...        ...       ...           ...    ...     ...         ...   \n",
       "70234   999466         5          2500   5000       중     중고매장수유점   \n",
       "70235   999466         6          2500   5000       중  중고매장광주충장로점   \n",
       "70236   999466         7          2500   5000       중    중고매장연신내점   \n",
       "70237   999466         8          2500   5000       중     중고매장평택점   \n",
       "70238   999466         9          2500   5000       중     중고매장수지점   \n",
       "\n",
       "                                                     url  \n",
       "0      https://www.aladin.co.kr/shop/wproduct.aspx?It...  \n",
       "1      https://www.aladin.co.kr/shop/wproduct.aspx?It...  \n",
       "2      https://www.aladin.co.kr/shop/wproduct.aspx?It...  \n",
       "3      https://www.aladin.co.kr/shop/wproduct.aspx?It...  \n",
       "4      https://www.aladin.co.kr/shop/wproduct.aspx?It...  \n",
       "...                                                  ...  \n",
       "70234  https://www.aladin.co.kr/shop/wproduct.aspx?It...  \n",
       "70235  https://www.aladin.co.kr/shop/wproduct.aspx?It...  \n",
       "70236  https://www.aladin.co.kr/shop/wproduct.aspx?It...  \n",
       "70237  https://www.aladin.co.kr/shop/wproduct.aspx?It...  \n",
       "70238  https://www.aladin.co.kr/shop/wproduct.aspx?It...  \n",
       "\n",
       "[70239 rows x 7 columns]"
      ]
     },
     "execution_count": 9,
     "metadata": {},
     "output_type": "execute_result"
    }
   ],
   "source": [
    "file_path = os.path.join(PRJCT_PATH,save_dir,file_name)\n",
    "usedbook_data = pd.read_csv(file_path)\n",
    "usedbook_data"
   ]
  },
  {
   "cell_type": "code",
   "execution_count": 65,
   "metadata": {},
   "outputs": [
    {
     "name": "stdout",
     "output_type": "stream",
     "text": [
      "<class 'pandas.core.frame.DataFrame'>\n",
      "RangeIndex: 70239 entries, 0 to 70238\n",
      "Data columns (total 7 columns):\n",
      " #   Column        Non-Null Count  Dtype \n",
      "---  ------        --------------  ----- \n",
      " 0   ItemId        70239 non-null  int64 \n",
      " 1   used_idx      70239 non-null  int64 \n",
      " 2   delivery_fee  70239 non-null  int64 \n",
      " 3   price         70239 non-null  int64 \n",
      " 4   quality       70239 non-null  object\n",
      " 5   store         70239 non-null  object\n",
      " 6   url           70239 non-null  object\n",
      "dtypes: int64(4), object(3)\n",
      "memory usage: 3.8+ MB\n"
     ]
    }
   ],
   "source": [
    "rslt = usedbook_data.copy()\n",
    "usedbook_data.info()"
   ]
  },
  {
   "cell_type": "code",
   "execution_count": 10,
   "metadata": {},
   "outputs": [
    {
     "data": {
      "text/html": [
       "<div>\n",
       "<style scoped>\n",
       "    .dataframe tbody tr th:only-of-type {\n",
       "        vertical-align: middle;\n",
       "    }\n",
       "\n",
       "    .dataframe tbody tr th {\n",
       "        vertical-align: top;\n",
       "    }\n",
       "\n",
       "    .dataframe thead th {\n",
       "        text-align: right;\n",
       "    }\n",
       "</style>\n",
       "<table border=\"1\" class=\"dataframe\">\n",
       "  <thead>\n",
       "    <tr style=\"text-align: right;\">\n",
       "      <th></th>\n",
       "      <th>ItemId</th>\n",
       "      <th>used_idx</th>\n",
       "      <th>delivery_fee</th>\n",
       "      <th>price</th>\n",
       "      <th>quality</th>\n",
       "      <th>store</th>\n",
       "      <th>url</th>\n",
       "    </tr>\n",
       "  </thead>\n",
       "  <tbody>\n",
       "    <tr>\n",
       "      <th>0</th>\n",
       "      <td>1000152</td>\n",
       "      <td>1</td>\n",
       "      <td>2500</td>\n",
       "      <td>7300</td>\n",
       "      <td>중</td>\n",
       "      <td>중고매장인천청라점</td>\n",
       "      <td>https://www.aladin.co.kr/shop/wproduct.aspx?It...</td>\n",
       "    </tr>\n",
       "    <tr>\n",
       "      <th>1</th>\n",
       "      <td>1000152</td>\n",
       "      <td>10</td>\n",
       "      <td>2500</td>\n",
       "      <td>7400</td>\n",
       "      <td>중</td>\n",
       "      <td>중고매장범계점</td>\n",
       "      <td>https://www.aladin.co.kr/shop/wproduct.aspx?It...</td>\n",
       "    </tr>\n",
       "    <tr>\n",
       "      <th>2</th>\n",
       "      <td>1000152</td>\n",
       "      <td>11</td>\n",
       "      <td>2500</td>\n",
       "      <td>7400</td>\n",
       "      <td>중</td>\n",
       "      <td>중고매장부산서면역점</td>\n",
       "      <td>https://www.aladin.co.kr/shop/wproduct.aspx?It...</td>\n",
       "    </tr>\n",
       "    <tr>\n",
       "      <th>3</th>\n",
       "      <td>1000152</td>\n",
       "      <td>12</td>\n",
       "      <td>2500</td>\n",
       "      <td>7700</td>\n",
       "      <td>상</td>\n",
       "      <td>중고매장동대구역점</td>\n",
       "      <td>https://www.aladin.co.kr/shop/wproduct.aspx?It...</td>\n",
       "    </tr>\n",
       "    <tr>\n",
       "      <th>4</th>\n",
       "      <td>1000152</td>\n",
       "      <td>13</td>\n",
       "      <td>2500</td>\n",
       "      <td>7700</td>\n",
       "      <td>상</td>\n",
       "      <td>중고매장범계점</td>\n",
       "      <td>https://www.aladin.co.kr/shop/wproduct.aspx?It...</td>\n",
       "    </tr>\n",
       "    <tr>\n",
       "      <th>5</th>\n",
       "      <td>1000152</td>\n",
       "      <td>14</td>\n",
       "      <td>2500</td>\n",
       "      <td>7700</td>\n",
       "      <td>상</td>\n",
       "      <td>중고매장범계점</td>\n",
       "      <td>https://www.aladin.co.kr/shop/wproduct.aspx?It...</td>\n",
       "    </tr>\n",
       "    <tr>\n",
       "      <th>6</th>\n",
       "      <td>1000152</td>\n",
       "      <td>15</td>\n",
       "      <td>2500</td>\n",
       "      <td>7700</td>\n",
       "      <td>중</td>\n",
       "      <td>중고매장인천청라점</td>\n",
       "      <td>https://www.aladin.co.kr/shop/wproduct.aspx?It...</td>\n",
       "    </tr>\n",
       "    <tr>\n",
       "      <th>7</th>\n",
       "      <td>1000152</td>\n",
       "      <td>2</td>\n",
       "      <td>2500</td>\n",
       "      <td>7400</td>\n",
       "      <td>중</td>\n",
       "      <td>중고매장목동점</td>\n",
       "      <td>https://www.aladin.co.kr/shop/wproduct.aspx?It...</td>\n",
       "    </tr>\n",
       "    <tr>\n",
       "      <th>8</th>\n",
       "      <td>1000152</td>\n",
       "      <td>3</td>\n",
       "      <td>2500</td>\n",
       "      <td>7400</td>\n",
       "      <td>중</td>\n",
       "      <td>중고매장동탄점</td>\n",
       "      <td>https://www.aladin.co.kr/shop/wproduct.aspx?It...</td>\n",
       "    </tr>\n",
       "    <tr>\n",
       "      <th>9</th>\n",
       "      <td>1000152</td>\n",
       "      <td>4</td>\n",
       "      <td>2500</td>\n",
       "      <td>7400</td>\n",
       "      <td>중</td>\n",
       "      <td>중고매장목동점</td>\n",
       "      <td>https://www.aladin.co.kr/shop/wproduct.aspx?It...</td>\n",
       "    </tr>\n",
       "    <tr>\n",
       "      <th>10</th>\n",
       "      <td>1000152</td>\n",
       "      <td>5</td>\n",
       "      <td>2500</td>\n",
       "      <td>7400</td>\n",
       "      <td>중</td>\n",
       "      <td>중고매장동탄점</td>\n",
       "      <td>https://www.aladin.co.kr/shop/wproduct.aspx?It...</td>\n",
       "    </tr>\n",
       "    <tr>\n",
       "      <th>11</th>\n",
       "      <td>1000152</td>\n",
       "      <td>6</td>\n",
       "      <td>2500</td>\n",
       "      <td>7400</td>\n",
       "      <td>중</td>\n",
       "      <td>중고매장잠실새내역점</td>\n",
       "      <td>https://www.aladin.co.kr/shop/wproduct.aspx?It...</td>\n",
       "    </tr>\n",
       "    <tr>\n",
       "      <th>12</th>\n",
       "      <td>1000152</td>\n",
       "      <td>7</td>\n",
       "      <td>2500</td>\n",
       "      <td>7400</td>\n",
       "      <td>중</td>\n",
       "      <td>중고매장강서홈플러스점</td>\n",
       "      <td>https://www.aladin.co.kr/shop/wproduct.aspx?It...</td>\n",
       "    </tr>\n",
       "    <tr>\n",
       "      <th>13</th>\n",
       "      <td>1000152</td>\n",
       "      <td>8</td>\n",
       "      <td>2500</td>\n",
       "      <td>7400</td>\n",
       "      <td>중</td>\n",
       "      <td>중고매장범계점</td>\n",
       "      <td>https://www.aladin.co.kr/shop/wproduct.aspx?It...</td>\n",
       "    </tr>\n",
       "    <tr>\n",
       "      <th>14</th>\n",
       "      <td>1000152</td>\n",
       "      <td>9</td>\n",
       "      <td>2500</td>\n",
       "      <td>7400</td>\n",
       "      <td>중</td>\n",
       "      <td>중고매장인천청라점</td>\n",
       "      <td>https://www.aladin.co.kr/shop/wproduct.aspx?It...</td>\n",
       "    </tr>\n",
       "  </tbody>\n",
       "</table>\n",
       "</div>"
      ],
      "text/plain": [
       "     ItemId  used_idx  delivery_fee  price quality        store  \\\n",
       "0   1000152         1          2500   7300       중    중고매장인천청라점   \n",
       "1   1000152        10          2500   7400       중      중고매장범계점   \n",
       "2   1000152        11          2500   7400       중   중고매장부산서면역점   \n",
       "3   1000152        12          2500   7700       상    중고매장동대구역점   \n",
       "4   1000152        13          2500   7700       상      중고매장범계점   \n",
       "5   1000152        14          2500   7700       상      중고매장범계점   \n",
       "6   1000152        15          2500   7700       중    중고매장인천청라점   \n",
       "7   1000152         2          2500   7400       중      중고매장목동점   \n",
       "8   1000152         3          2500   7400       중      중고매장동탄점   \n",
       "9   1000152         4          2500   7400       중      중고매장목동점   \n",
       "10  1000152         5          2500   7400       중      중고매장동탄점   \n",
       "11  1000152         6          2500   7400       중   중고매장잠실새내역점   \n",
       "12  1000152         7          2500   7400       중  중고매장강서홈플러스점   \n",
       "13  1000152         8          2500   7400       중      중고매장범계점   \n",
       "14  1000152         9          2500   7400       중    중고매장인천청라점   \n",
       "\n",
       "                                                  url  \n",
       "0   https://www.aladin.co.kr/shop/wproduct.aspx?It...  \n",
       "1   https://www.aladin.co.kr/shop/wproduct.aspx?It...  \n",
       "2   https://www.aladin.co.kr/shop/wproduct.aspx?It...  \n",
       "3   https://www.aladin.co.kr/shop/wproduct.aspx?It...  \n",
       "4   https://www.aladin.co.kr/shop/wproduct.aspx?It...  \n",
       "5   https://www.aladin.co.kr/shop/wproduct.aspx?It...  \n",
       "6   https://www.aladin.co.kr/shop/wproduct.aspx?It...  \n",
       "7   https://www.aladin.co.kr/shop/wproduct.aspx?It...  \n",
       "8   https://www.aladin.co.kr/shop/wproduct.aspx?It...  \n",
       "9   https://www.aladin.co.kr/shop/wproduct.aspx?It...  \n",
       "10  https://www.aladin.co.kr/shop/wproduct.aspx?It...  \n",
       "11  https://www.aladin.co.kr/shop/wproduct.aspx?It...  \n",
       "12  https://www.aladin.co.kr/shop/wproduct.aspx?It...  \n",
       "13  https://www.aladin.co.kr/shop/wproduct.aspx?It...  \n",
       "14  https://www.aladin.co.kr/shop/wproduct.aspx?It...  "
      ]
     },
     "execution_count": 10,
     "metadata": {},
     "output_type": "execute_result"
    }
   ],
   "source": [
    "usedbook_data[usedbook_data['ItemId'] == 1000152]"
   ]
  },
  {
   "cell_type": "code",
   "execution_count": 11,
   "metadata": {},
   "outputs": [
    {
     "data": {
      "text/plain": [
       "quality\n",
       "중      28617\n",
       "상      22940\n",
       "최상     17248\n",
       "균일가     1431\n",
       "하          3\n",
       "Name: count, dtype: int64"
      ]
     },
     "execution_count": 11,
     "metadata": {},
     "output_type": "execute_result"
    }
   ],
   "source": [
    "usedbook_data['quality'].value_counts()"
   ]
  },
  {
   "cell_type": "code",
   "execution_count": 34,
   "metadata": {},
   "outputs": [
    {
     "name": "stdout",
     "output_type": "stream",
     "text": [
      "1431\n"
     ]
    },
    {
     "data": {
      "text/html": [
       "<div>\n",
       "<style scoped>\n",
       "    .dataframe tbody tr th:only-of-type {\n",
       "        vertical-align: middle;\n",
       "    }\n",
       "\n",
       "    .dataframe tbody tr th {\n",
       "        vertical-align: top;\n",
       "    }\n",
       "\n",
       "    .dataframe thead th {\n",
       "        text-align: right;\n",
       "    }\n",
       "</style>\n",
       "<table border=\"1\" class=\"dataframe\">\n",
       "  <thead>\n",
       "    <tr style=\"text-align: right;\">\n",
       "      <th></th>\n",
       "      <th>ItemId</th>\n",
       "      <th>used_idx</th>\n",
       "      <th>delivery_fee</th>\n",
       "      <th>price</th>\n",
       "      <th>quality</th>\n",
       "      <th>store</th>\n",
       "      <th>url</th>\n",
       "    </tr>\n",
       "  </thead>\n",
       "  <tbody>\n",
       "    <tr>\n",
       "      <th>92</th>\n",
       "      <td>11152918</td>\n",
       "      <td>1</td>\n",
       "      <td>2500</td>\n",
       "      <td>1000</td>\n",
       "      <td>균일가</td>\n",
       "      <td>중고매장수원시청역점</td>\n",
       "      <td>https://www.aladin.co.kr/shop/wproduct.aspx?It...</td>\n",
       "    </tr>\n",
       "    <tr>\n",
       "      <th>121</th>\n",
       "      <td>11836705</td>\n",
       "      <td>1</td>\n",
       "      <td>2500</td>\n",
       "      <td>2400</td>\n",
       "      <td>균일가</td>\n",
       "      <td>중고매장범계점</td>\n",
       "      <td>https://www.aladin.co.kr/shop/wproduct.aspx?It...</td>\n",
       "    </tr>\n",
       "    <tr>\n",
       "      <th>151</th>\n",
       "      <td>12113440</td>\n",
       "      <td>1</td>\n",
       "      <td>2500</td>\n",
       "      <td>1200</td>\n",
       "      <td>균일가</td>\n",
       "      <td>중고매장대전시청역점</td>\n",
       "      <td>https://www.aladin.co.kr/shop/wproduct.aspx?It...</td>\n",
       "    </tr>\n",
       "    <tr>\n",
       "      <th>280</th>\n",
       "      <td>13489473</td>\n",
       "      <td>1</td>\n",
       "      <td>2500</td>\n",
       "      <td>1500</td>\n",
       "      <td>균일가</td>\n",
       "      <td>중고매장분당야탑점</td>\n",
       "      <td>https://www.aladin.co.kr/shop/wproduct.aspx?It...</td>\n",
       "    </tr>\n",
       "    <tr>\n",
       "      <th>287</th>\n",
       "      <td>13489473</td>\n",
       "      <td>2</td>\n",
       "      <td>2500</td>\n",
       "      <td>1500</td>\n",
       "      <td>균일가</td>\n",
       "      <td>중고매장대전시청역점</td>\n",
       "      <td>https://www.aladin.co.kr/shop/wproduct.aspx?It...</td>\n",
       "    </tr>\n",
       "    <tr>\n",
       "      <th>...</th>\n",
       "      <td>...</td>\n",
       "      <td>...</td>\n",
       "      <td>...</td>\n",
       "      <td>...</td>\n",
       "      <td>...</td>\n",
       "      <td>...</td>\n",
       "      <td>...</td>\n",
       "    </tr>\n",
       "    <tr>\n",
       "      <th>70098</th>\n",
       "      <td>86973423</td>\n",
       "      <td>1</td>\n",
       "      <td>2500</td>\n",
       "      <td>800</td>\n",
       "      <td>균일가</td>\n",
       "      <td>중고매장대전시청역점</td>\n",
       "      <td>https://www.aladin.co.kr/shop/wproduct.aspx?It...</td>\n",
       "    </tr>\n",
       "    <tr>\n",
       "      <th>70172</th>\n",
       "      <td>891474</td>\n",
       "      <td>1</td>\n",
       "      <td>2500</td>\n",
       "      <td>1500</td>\n",
       "      <td>균일가</td>\n",
       "      <td>중고매장수원시청역점</td>\n",
       "      <td>https://www.aladin.co.kr/shop/wproduct.aspx?It...</td>\n",
       "    </tr>\n",
       "    <tr>\n",
       "      <th>70173</th>\n",
       "      <td>891474</td>\n",
       "      <td>2</td>\n",
       "      <td>2500</td>\n",
       "      <td>1500</td>\n",
       "      <td>균일가</td>\n",
       "      <td>중고매장전주점</td>\n",
       "      <td>https://www.aladin.co.kr/shop/wproduct.aspx?It...</td>\n",
       "    </tr>\n",
       "    <tr>\n",
       "      <th>70174</th>\n",
       "      <td>891474</td>\n",
       "      <td>3</td>\n",
       "      <td>2500</td>\n",
       "      <td>1500</td>\n",
       "      <td>균일가</td>\n",
       "      <td>중고매장대구동성로점</td>\n",
       "      <td>https://www.aladin.co.kr/shop/wproduct.aspx?It...</td>\n",
       "    </tr>\n",
       "    <tr>\n",
       "      <th>70175</th>\n",
       "      <td>891474</td>\n",
       "      <td>4</td>\n",
       "      <td>2500</td>\n",
       "      <td>1500</td>\n",
       "      <td>균일가</td>\n",
       "      <td>중고매장대구동성로점</td>\n",
       "      <td>https://www.aladin.co.kr/shop/wproduct.aspx?It...</td>\n",
       "    </tr>\n",
       "  </tbody>\n",
       "</table>\n",
       "<p>1431 rows × 7 columns</p>\n",
       "</div>"
      ],
      "text/plain": [
       "         ItemId  used_idx  delivery_fee  price quality       store  \\\n",
       "92     11152918         1          2500   1000     균일가  중고매장수원시청역점   \n",
       "121    11836705         1          2500   2400     균일가     중고매장범계점   \n",
       "151    12113440         1          2500   1200     균일가  중고매장대전시청역점   \n",
       "280    13489473         1          2500   1500     균일가   중고매장분당야탑점   \n",
       "287    13489473         2          2500   1500     균일가  중고매장대전시청역점   \n",
       "...         ...       ...           ...    ...     ...         ...   \n",
       "70098  86973423         1          2500    800     균일가  중고매장대전시청역점   \n",
       "70172    891474         1          2500   1500     균일가  중고매장수원시청역점   \n",
       "70173    891474         2          2500   1500     균일가     중고매장전주점   \n",
       "70174    891474         3          2500   1500     균일가  중고매장대구동성로점   \n",
       "70175    891474         4          2500   1500     균일가  중고매장대구동성로점   \n",
       "\n",
       "                                                     url  \n",
       "92     https://www.aladin.co.kr/shop/wproduct.aspx?It...  \n",
       "121    https://www.aladin.co.kr/shop/wproduct.aspx?It...  \n",
       "151    https://www.aladin.co.kr/shop/wproduct.aspx?It...  \n",
       "280    https://www.aladin.co.kr/shop/wproduct.aspx?It...  \n",
       "287    https://www.aladin.co.kr/shop/wproduct.aspx?It...  \n",
       "...                                                  ...  \n",
       "70098  https://www.aladin.co.kr/shop/wproduct.aspx?It...  \n",
       "70172  https://www.aladin.co.kr/shop/wproduct.aspx?It...  \n",
       "70173  https://www.aladin.co.kr/shop/wproduct.aspx?It...  \n",
       "70174  https://www.aladin.co.kr/shop/wproduct.aspx?It...  \n",
       "70175  https://www.aladin.co.kr/shop/wproduct.aspx?It...  \n",
       "\n",
       "[1431 rows x 7 columns]"
      ]
     },
     "execution_count": 34,
     "metadata": {},
     "output_type": "execute_result"
    }
   ],
   "source": [
    "cond = usedbook_data['quality']=='균일가'\n",
    "print(np.sum(cond))\n",
    "usedbook_data[cond]"
   ]
  },
  {
   "cell_type": "code",
   "execution_count": 36,
   "metadata": {},
   "outputs": [
    {
     "data": {
      "text/plain": [
       "(4476, False)"
      ]
     },
     "execution_count": 36,
     "metadata": {},
     "output_type": "execute_result"
    }
   ],
   "source": [
    "cond = usedbook_data['quality']=='균일가'\n",
    "uniform_price = list(usedbook_data.loc[cond,'ItemId'].unique())\n",
    "cond2 = usedbook_data['ItemId'].isin(uniform_price)\n",
    "np.sum(cond2), np.sum(cond2) == np.sum(cond)"
   ]
  },
  {
   "cell_type": "code",
   "execution_count": 37,
   "metadata": {},
   "outputs": [
    {
     "name": "stdout",
     "output_type": "stream",
     "text": [
      "518\n"
     ]
    },
    {
     "data": {
      "text/html": [
       "<div>\n",
       "<style scoped>\n",
       "    .dataframe tbody tr th:only-of-type {\n",
       "        vertical-align: middle;\n",
       "    }\n",
       "\n",
       "    .dataframe tbody tr th {\n",
       "        vertical-align: top;\n",
       "    }\n",
       "\n",
       "    .dataframe thead th {\n",
       "        text-align: right;\n",
       "    }\n",
       "</style>\n",
       "<table border=\"1\" class=\"dataframe\">\n",
       "  <thead>\n",
       "    <tr style=\"text-align: right;\">\n",
       "      <th></th>\n",
       "      <th>ItemId</th>\n",
       "      <th>used_idx</th>\n",
       "      <th>delivery_fee</th>\n",
       "      <th>price</th>\n",
       "      <th>quality</th>\n",
       "      <th>store</th>\n",
       "      <th>url</th>\n",
       "    </tr>\n",
       "  </thead>\n",
       "  <tbody>\n",
       "    <tr>\n",
       "      <th>121</th>\n",
       "      <td>11836705</td>\n",
       "      <td>1</td>\n",
       "      <td>2500</td>\n",
       "      <td>2400</td>\n",
       "      <td>균일가</td>\n",
       "      <td>중고매장범계점</td>\n",
       "      <td>https://www.aladin.co.kr/shop/wproduct.aspx?It...</td>\n",
       "    </tr>\n",
       "    <tr>\n",
       "      <th>122</th>\n",
       "      <td>11836705</td>\n",
       "      <td>10</td>\n",
       "      <td>2500</td>\n",
       "      <td>6700</td>\n",
       "      <td>중</td>\n",
       "      <td>중고매장분당서현점</td>\n",
       "      <td>https://www.aladin.co.kr/shop/wproduct.aspx?It...</td>\n",
       "    </tr>\n",
       "    <tr>\n",
       "      <th>123</th>\n",
       "      <td>11836705</td>\n",
       "      <td>11</td>\n",
       "      <td>2500</td>\n",
       "      <td>6700</td>\n",
       "      <td>중</td>\n",
       "      <td>중고매장의정부홈플러스점</td>\n",
       "      <td>https://www.aladin.co.kr/shop/wproduct.aspx?It...</td>\n",
       "    </tr>\n",
       "    <tr>\n",
       "      <th>124</th>\n",
       "      <td>11836705</td>\n",
       "      <td>12</td>\n",
       "      <td>2500</td>\n",
       "      <td>7000</td>\n",
       "      <td>상</td>\n",
       "      <td>중고매장부산센텀점</td>\n",
       "      <td>https://www.aladin.co.kr/shop/wproduct.aspx?It...</td>\n",
       "    </tr>\n",
       "    <tr>\n",
       "      <th>125</th>\n",
       "      <td>11836705</td>\n",
       "      <td>13</td>\n",
       "      <td>2500</td>\n",
       "      <td>7000</td>\n",
       "      <td>상</td>\n",
       "      <td>중고매장부산서면역점</td>\n",
       "      <td>https://www.aladin.co.kr/shop/wproduct.aspx?It...</td>\n",
       "    </tr>\n",
       "    <tr>\n",
       "      <th>...</th>\n",
       "      <td>...</td>\n",
       "      <td>...</td>\n",
       "      <td>...</td>\n",
       "      <td>...</td>\n",
       "      <td>...</td>\n",
       "      <td>...</td>\n",
       "      <td>...</td>\n",
       "    </tr>\n",
       "    <tr>\n",
       "      <th>70047</th>\n",
       "      <td>8674040</td>\n",
       "      <td>3</td>\n",
       "      <td>2500</td>\n",
       "      <td>1500</td>\n",
       "      <td>균일가</td>\n",
       "      <td>중고매장광주충장로점</td>\n",
       "      <td>https://www.aladin.co.kr/shop/wproduct.aspx?It...</td>\n",
       "    </tr>\n",
       "    <tr>\n",
       "      <th>70048</th>\n",
       "      <td>8674040</td>\n",
       "      <td>4</td>\n",
       "      <td>2500</td>\n",
       "      <td>1500</td>\n",
       "      <td>균일가</td>\n",
       "      <td>중고매장전주점</td>\n",
       "      <td>https://www.aladin.co.kr/shop/wproduct.aspx?It...</td>\n",
       "    </tr>\n",
       "    <tr>\n",
       "      <th>70049</th>\n",
       "      <td>8674040</td>\n",
       "      <td>5</td>\n",
       "      <td>2500</td>\n",
       "      <td>5000</td>\n",
       "      <td>최상</td>\n",
       "      <td>중고매장동탄2하나로마트점</td>\n",
       "      <td>https://www.aladin.co.kr/shop/wproduct.aspx?It...</td>\n",
       "    </tr>\n",
       "    <tr>\n",
       "      <th>70051</th>\n",
       "      <td>86800662</td>\n",
       "      <td>1</td>\n",
       "      <td>2500</td>\n",
       "      <td>800</td>\n",
       "      <td>균일가</td>\n",
       "      <td>중고매장영등포점</td>\n",
       "      <td>https://www.aladin.co.kr/shop/wproduct.aspx?It...</td>\n",
       "    </tr>\n",
       "    <tr>\n",
       "      <th>70052</th>\n",
       "      <td>86800662</td>\n",
       "      <td>2</td>\n",
       "      <td>2500</td>\n",
       "      <td>3900</td>\n",
       "      <td>상</td>\n",
       "      <td>중고매장일산점</td>\n",
       "      <td>https://www.aladin.co.kr/shop/wproduct.aspx?It...</td>\n",
       "    </tr>\n",
       "  </tbody>\n",
       "</table>\n",
       "<p>4271 rows × 7 columns</p>\n",
       "</div>"
      ],
      "text/plain": [
       "         ItemId  used_idx  delivery_fee  price quality          store  \\\n",
       "121    11836705         1          2500   2400     균일가        중고매장범계점   \n",
       "122    11836705        10          2500   6700       중      중고매장분당서현점   \n",
       "123    11836705        11          2500   6700       중   중고매장의정부홈플러스점   \n",
       "124    11836705        12          2500   7000       상      중고매장부산센텀점   \n",
       "125    11836705        13          2500   7000       상     중고매장부산서면역점   \n",
       "...         ...       ...           ...    ...     ...            ...   \n",
       "70047   8674040         3          2500   1500     균일가     중고매장광주충장로점   \n",
       "70048   8674040         4          2500   1500     균일가        중고매장전주점   \n",
       "70049   8674040         5          2500   5000      최상  중고매장동탄2하나로마트점   \n",
       "70051  86800662         1          2500    800     균일가       중고매장영등포점   \n",
       "70052  86800662         2          2500   3900       상        중고매장일산점   \n",
       "\n",
       "                                                     url  \n",
       "121    https://www.aladin.co.kr/shop/wproduct.aspx?It...  \n",
       "122    https://www.aladin.co.kr/shop/wproduct.aspx?It...  \n",
       "123    https://www.aladin.co.kr/shop/wproduct.aspx?It...  \n",
       "124    https://www.aladin.co.kr/shop/wproduct.aspx?It...  \n",
       "125    https://www.aladin.co.kr/shop/wproduct.aspx?It...  \n",
       "...                                                  ...  \n",
       "70047  https://www.aladin.co.kr/shop/wproduct.aspx?It...  \n",
       "70048  https://www.aladin.co.kr/shop/wproduct.aspx?It...  \n",
       "70049  https://www.aladin.co.kr/shop/wproduct.aspx?It...  \n",
       "70051  https://www.aladin.co.kr/shop/wproduct.aspx?It...  \n",
       "70052  https://www.aladin.co.kr/shop/wproduct.aspx?It...  \n",
       "\n",
       "[4271 rows x 7 columns]"
      ]
     },
     "execution_count": 37,
     "metadata": {},
     "output_type": "execute_result"
    }
   ],
   "source": [
    "samples = list(usedbook_data.loc[cond2 & (~cond),'ItemId'].unique())\n",
    "print(len(samples))\n",
    "cond3 = usedbook_data['ItemId'].isin(samples)\n",
    "usedbook_data[cond3]"
   ]
  },
  {
   "cell_type": "code",
   "execution_count": 39,
   "metadata": {},
   "outputs": [
    {
     "data": {
      "text/plain": [
       "'https://www.aladin.co.kr/shop/wproduct.aspx?ItemId=222138761'"
      ]
     },
     "execution_count": 39,
     "metadata": {},
     "output_type": "execute_result"
    }
   ],
   "source": [
    "usedbook_data['url'].loc[70047]"
   ]
  },
  {
   "cell_type": "code",
   "execution_count": 41,
   "metadata": {},
   "outputs": [
    {
     "data": {
      "text/plain": [
       "'https://www.aladin.co.kr/shop/wproduct.aspx?ItemId=326493888'"
      ]
     },
     "execution_count": 41,
     "metadata": {},
     "output_type": "execute_result"
    }
   ],
   "source": [
    "usedbook_data.loc[cond3,'url'].iloc[0]"
   ]
  },
  {
   "cell_type": "markdown",
   "metadata": {},
   "source": [
    "- 균일가라고 되어있는 경우 상품 페이지에는 중으로 되어있지만, 같은 상품의 중 등급 보다는 싼 것으로 추측됨\n",
    "- 같은 책 같은 등급이면 가격이 같은지 확인 필요"
   ]
  },
  {
   "cell_type": "code",
   "execution_count": 53,
   "metadata": {},
   "outputs": [
    {
     "data": {
      "text/html": [
       "<div>\n",
       "<style scoped>\n",
       "    .dataframe tbody tr th:only-of-type {\n",
       "        vertical-align: middle;\n",
       "    }\n",
       "\n",
       "    .dataframe tbody tr th {\n",
       "        vertical-align: top;\n",
       "    }\n",
       "\n",
       "    .dataframe thead th {\n",
       "        text-align: right;\n",
       "    }\n",
       "</style>\n",
       "<table border=\"1\" class=\"dataframe\">\n",
       "  <thead>\n",
       "    <tr style=\"text-align: right;\">\n",
       "      <th></th>\n",
       "      <th>ItemId</th>\n",
       "      <th>used_idx</th>\n",
       "      <th>delivery_fee</th>\n",
       "      <th>price</th>\n",
       "      <th>quality</th>\n",
       "      <th>store</th>\n",
       "      <th>url</th>\n",
       "    </tr>\n",
       "  </thead>\n",
       "  <tbody>\n",
       "    <tr>\n",
       "      <th>0</th>\n",
       "      <td>1000152</td>\n",
       "      <td>1</td>\n",
       "      <td>2500</td>\n",
       "      <td>7300</td>\n",
       "      <td>중</td>\n",
       "      <td>중고매장인천청라점</td>\n",
       "      <td>https://www.aladin.co.kr/shop/wproduct.aspx?It...</td>\n",
       "    </tr>\n",
       "    <tr>\n",
       "      <th>6</th>\n",
       "      <td>1000152</td>\n",
       "      <td>15</td>\n",
       "      <td>2500</td>\n",
       "      <td>7700</td>\n",
       "      <td>중</td>\n",
       "      <td>중고매장인천청라점</td>\n",
       "      <td>https://www.aladin.co.kr/shop/wproduct.aspx?It...</td>\n",
       "    </tr>\n",
       "    <tr>\n",
       "      <th>26</th>\n",
       "      <td>101158454</td>\n",
       "      <td>6</td>\n",
       "      <td>2500</td>\n",
       "      <td>9000</td>\n",
       "      <td>상</td>\n",
       "      <td>중고매장동대구역점</td>\n",
       "      <td>https://www.aladin.co.kr/shop/wproduct.aspx?It...</td>\n",
       "    </tr>\n",
       "    <tr>\n",
       "      <th>45</th>\n",
       "      <td>1030987</td>\n",
       "      <td>1</td>\n",
       "      <td>2500</td>\n",
       "      <td>5200</td>\n",
       "      <td>중</td>\n",
       "      <td>중고매장마산합성점</td>\n",
       "      <td>https://www.aladin.co.kr/shop/wproduct.aspx?It...</td>\n",
       "    </tr>\n",
       "    <tr>\n",
       "      <th>48</th>\n",
       "      <td>1030987</td>\n",
       "      <td>12</td>\n",
       "      <td>2500</td>\n",
       "      <td>6200</td>\n",
       "      <td>상</td>\n",
       "      <td>중고매장부산서면동보점</td>\n",
       "      <td>https://www.aladin.co.kr/shop/wproduct.aspx?It...</td>\n",
       "    </tr>\n",
       "    <tr>\n",
       "      <th>...</th>\n",
       "      <td>...</td>\n",
       "      <td>...</td>\n",
       "      <td>...</td>\n",
       "      <td>...</td>\n",
       "      <td>...</td>\n",
       "      <td>...</td>\n",
       "      <td>...</td>\n",
       "    </tr>\n",
       "    <tr>\n",
       "      <th>70200</th>\n",
       "      <td>964118</td>\n",
       "      <td>4</td>\n",
       "      <td>2500</td>\n",
       "      <td>5800</td>\n",
       "      <td>중</td>\n",
       "      <td>중고매장청주점</td>\n",
       "      <td>https://www.aladin.co.kr/shop/wproduct.aspx?It...</td>\n",
       "    </tr>\n",
       "    <tr>\n",
       "      <th>70201</th>\n",
       "      <td>964118</td>\n",
       "      <td>5</td>\n",
       "      <td>2500</td>\n",
       "      <td>6200</td>\n",
       "      <td>중</td>\n",
       "      <td>중고매장청주점</td>\n",
       "      <td>https://www.aladin.co.kr/shop/wproduct.aspx?It...</td>\n",
       "    </tr>\n",
       "    <tr>\n",
       "      <th>70210</th>\n",
       "      <td>99386523</td>\n",
       "      <td>10</td>\n",
       "      <td>2500</td>\n",
       "      <td>11600</td>\n",
       "      <td>상</td>\n",
       "      <td>중고매장인천구월점</td>\n",
       "      <td>https://www.aladin.co.kr/shop/wproduct.aspx?It...</td>\n",
       "    </tr>\n",
       "    <tr>\n",
       "      <th>70218</th>\n",
       "      <td>99386523</td>\n",
       "      <td>4</td>\n",
       "      <td>2500</td>\n",
       "      <td>11400</td>\n",
       "      <td>상</td>\n",
       "      <td>중고매장동탄2하나로마트점</td>\n",
       "      <td>https://www.aladin.co.kr/shop/wproduct.aspx?It...</td>\n",
       "    </tr>\n",
       "    <tr>\n",
       "      <th>70224</th>\n",
       "      <td>999466</td>\n",
       "      <td>1</td>\n",
       "      <td>2500</td>\n",
       "      <td>4000</td>\n",
       "      <td>상</td>\n",
       "      <td>중고매장동탄2하나로마트점</td>\n",
       "      <td>https://www.aladin.co.kr/shop/wproduct.aspx?It...</td>\n",
       "    </tr>\n",
       "  </tbody>\n",
       "</table>\n",
       "<p>13770 rows × 7 columns</p>\n",
       "</div>"
      ],
      "text/plain": [
       "          ItemId  used_idx  delivery_fee  price quality          store  \\\n",
       "0        1000152         1          2500   7300       중      중고매장인천청라점   \n",
       "6        1000152        15          2500   7700       중      중고매장인천청라점   \n",
       "26     101158454         6          2500   9000       상      중고매장동대구역점   \n",
       "45       1030987         1          2500   5200       중      중고매장마산합성점   \n",
       "48       1030987        12          2500   6200       상    중고매장부산서면동보점   \n",
       "...          ...       ...           ...    ...     ...            ...   \n",
       "70200     964118         4          2500   5800       중        중고매장청주점   \n",
       "70201     964118         5          2500   6200       중        중고매장청주점   \n",
       "70210   99386523        10          2500  11600       상      중고매장인천구월점   \n",
       "70218   99386523         4          2500  11400       상  중고매장동탄2하나로마트점   \n",
       "70224     999466         1          2500   4000       상  중고매장동탄2하나로마트점   \n",
       "\n",
       "                                                     url  \n",
       "0      https://www.aladin.co.kr/shop/wproduct.aspx?It...  \n",
       "6      https://www.aladin.co.kr/shop/wproduct.aspx?It...  \n",
       "26     https://www.aladin.co.kr/shop/wproduct.aspx?It...  \n",
       "45     https://www.aladin.co.kr/shop/wproduct.aspx?It...  \n",
       "48     https://www.aladin.co.kr/shop/wproduct.aspx?It...  \n",
       "...                                                  ...  \n",
       "70200  https://www.aladin.co.kr/shop/wproduct.aspx?It...  \n",
       "70201  https://www.aladin.co.kr/shop/wproduct.aspx?It...  \n",
       "70210  https://www.aladin.co.kr/shop/wproduct.aspx?It...  \n",
       "70218  https://www.aladin.co.kr/shop/wproduct.aspx?It...  \n",
       "70224  https://www.aladin.co.kr/shop/wproduct.aspx?It...  \n",
       "\n",
       "[13770 rows x 7 columns]"
      ]
     },
     "execution_count": 53,
     "metadata": {},
     "output_type": "execute_result"
    }
   ],
   "source": [
    "cond4 = usedbook_data[['ItemId','quality','price']].duplicated(keep=False)\n",
    "cond5 = usedbook_data[['ItemId','quality']].duplicated(keep=False)\n",
    "samples = usedbook_data.loc[(~cond4) & cond5]\n",
    "samples"
   ]
  },
  {
   "cell_type": "code",
   "execution_count": 62,
   "metadata": {},
   "outputs": [
    {
     "name": "stdout",
     "output_type": "stream",
     "text": [
      "Index([ 24425383,    437487, 178930531,  80482028, 178978199,   1030979,\n",
      "          429793, 293274240, 284106373,   4409983,\n",
      "       ...\n",
      "       272108582, 271837169, 271241877, 270255034, 269949898, 269150989,\n",
      "       266812921, 263668470, 259678485,    999466],\n",
      "      dtype='int64', name='ItemId', length=1111)\n"
     ]
    },
    {
     "data": {
      "text/html": [
       "<div>\n",
       "<style scoped>\n",
       "    .dataframe tbody tr th:only-of-type {\n",
       "        vertical-align: middle;\n",
       "    }\n",
       "\n",
       "    .dataframe tbody tr th {\n",
       "        vertical-align: top;\n",
       "    }\n",
       "\n",
       "    .dataframe thead th {\n",
       "        text-align: right;\n",
       "    }\n",
       "</style>\n",
       "<table border=\"1\" class=\"dataframe\">\n",
       "  <thead>\n",
       "    <tr style=\"text-align: right;\">\n",
       "      <th></th>\n",
       "      <th>ItemId</th>\n",
       "      <th>used_idx</th>\n",
       "      <th>delivery_fee</th>\n",
       "      <th>price</th>\n",
       "      <th>quality</th>\n",
       "      <th>store</th>\n",
       "      <th>url</th>\n",
       "    </tr>\n",
       "  </thead>\n",
       "  <tbody>\n",
       "    <tr>\n",
       "      <th>26</th>\n",
       "      <td>101158454</td>\n",
       "      <td>6</td>\n",
       "      <td>2500</td>\n",
       "      <td>9000</td>\n",
       "      <td>상</td>\n",
       "      <td>중고매장동대구역점</td>\n",
       "      <td>https://www.aladin.co.kr/shop/wproduct.aspx?It...</td>\n",
       "    </tr>\n",
       "    <tr>\n",
       "      <th>85</th>\n",
       "      <td>111002610</td>\n",
       "      <td>3</td>\n",
       "      <td>2500</td>\n",
       "      <td>6800</td>\n",
       "      <td>중</td>\n",
       "      <td>중고매장부산 경성대.부경대역점</td>\n",
       "      <td>https://www.aladin.co.kr/shop/wproduct.aspx?It...</td>\n",
       "    </tr>\n",
       "    <tr>\n",
       "      <th>155</th>\n",
       "      <td>12113440</td>\n",
       "      <td>4</td>\n",
       "      <td>2500</td>\n",
       "      <td>5800</td>\n",
       "      <td>중</td>\n",
       "      <td>중고매장광주상무점</td>\n",
       "      <td>https://www.aladin.co.kr/shop/wproduct.aspx?It...</td>\n",
       "    </tr>\n",
       "    <tr>\n",
       "      <th>168</th>\n",
       "      <td>124596419</td>\n",
       "      <td>11</td>\n",
       "      <td>2500</td>\n",
       "      <td>6800</td>\n",
       "      <td>중</td>\n",
       "      <td>중고매장수지점</td>\n",
       "      <td>https://www.aladin.co.kr/shop/wproduct.aspx?It...</td>\n",
       "    </tr>\n",
       "    <tr>\n",
       "      <th>336</th>\n",
       "      <td>137406765</td>\n",
       "      <td>7</td>\n",
       "      <td>2500</td>\n",
       "      <td>8300</td>\n",
       "      <td>상</td>\n",
       "      <td>중고매장인천계산홈플러스점</td>\n",
       "      <td>https://www.aladin.co.kr/shop/wproduct.aspx?It...</td>\n",
       "    </tr>\n",
       "    <tr>\n",
       "      <th>...</th>\n",
       "      <td>...</td>\n",
       "      <td>...</td>\n",
       "      <td>...</td>\n",
       "      <td>...</td>\n",
       "      <td>...</td>\n",
       "      <td>...</td>\n",
       "      <td>...</td>\n",
       "    </tr>\n",
       "    <tr>\n",
       "      <th>70133</th>\n",
       "      <td>87494533</td>\n",
       "      <td>15</td>\n",
       "      <td>2500</td>\n",
       "      <td>14300</td>\n",
       "      <td>상</td>\n",
       "      <td>중고매장광주충장로점</td>\n",
       "      <td>https://www.aladin.co.kr/shop/wproduct.aspx?It...</td>\n",
       "    </tr>\n",
       "    <tr>\n",
       "      <th>70151</th>\n",
       "      <td>88196345</td>\n",
       "      <td>4</td>\n",
       "      <td>2500</td>\n",
       "      <td>7300</td>\n",
       "      <td>중</td>\n",
       "      <td>중고매장부산센텀점</td>\n",
       "      <td>https://www.aladin.co.kr/shop/wproduct.aspx?It...</td>\n",
       "    </tr>\n",
       "    <tr>\n",
       "      <th>70166</th>\n",
       "      <td>8906368</td>\n",
       "      <td>4</td>\n",
       "      <td>2500</td>\n",
       "      <td>5600</td>\n",
       "      <td>중</td>\n",
       "      <td>중고매장부산서면동보점</td>\n",
       "      <td>https://www.aladin.co.kr/shop/wproduct.aspx?It...</td>\n",
       "    </tr>\n",
       "    <tr>\n",
       "      <th>70178</th>\n",
       "      <td>93675</td>\n",
       "      <td>11</td>\n",
       "      <td>2500</td>\n",
       "      <td>4500</td>\n",
       "      <td>중</td>\n",
       "      <td>중고매장부산 경성대.부경대역점</td>\n",
       "      <td>https://www.aladin.co.kr/shop/wproduct.aspx?It...</td>\n",
       "    </tr>\n",
       "    <tr>\n",
       "      <th>70224</th>\n",
       "      <td>999466</td>\n",
       "      <td>1</td>\n",
       "      <td>2500</td>\n",
       "      <td>4000</td>\n",
       "      <td>상</td>\n",
       "      <td>중고매장동탄2하나로마트점</td>\n",
       "      <td>https://www.aladin.co.kr/shop/wproduct.aspx?It...</td>\n",
       "    </tr>\n",
       "  </tbody>\n",
       "</table>\n",
       "<p>1111 rows × 7 columns</p>\n",
       "</div>"
      ],
      "text/plain": [
       "          ItemId  used_idx  delivery_fee  price quality             store  \\\n",
       "26     101158454         6          2500   9000       상         중고매장동대구역점   \n",
       "85     111002610         3          2500   6800       중  중고매장부산 경성대.부경대역점   \n",
       "155     12113440         4          2500   5800       중         중고매장광주상무점   \n",
       "168    124596419        11          2500   6800       중           중고매장수지점   \n",
       "336    137406765         7          2500   8300       상     중고매장인천계산홈플러스점   \n",
       "...          ...       ...           ...    ...     ...               ...   \n",
       "70133   87494533        15          2500  14300       상        중고매장광주충장로점   \n",
       "70151   88196345         4          2500   7300       중         중고매장부산센텀점   \n",
       "70166    8906368         4          2500   5600       중       중고매장부산서면동보점   \n",
       "70178      93675        11          2500   4500       중  중고매장부산 경성대.부경대역점   \n",
       "70224     999466         1          2500   4000       상     중고매장동탄2하나로마트점   \n",
       "\n",
       "                                                     url  \n",
       "26     https://www.aladin.co.kr/shop/wproduct.aspx?It...  \n",
       "85     https://www.aladin.co.kr/shop/wproduct.aspx?It...  \n",
       "155    https://www.aladin.co.kr/shop/wproduct.aspx?It...  \n",
       "168    https://www.aladin.co.kr/shop/wproduct.aspx?It...  \n",
       "336    https://www.aladin.co.kr/shop/wproduct.aspx?It...  \n",
       "...                                                  ...  \n",
       "70133  https://www.aladin.co.kr/shop/wproduct.aspx?It...  \n",
       "70151  https://www.aladin.co.kr/shop/wproduct.aspx?It...  \n",
       "70166  https://www.aladin.co.kr/shop/wproduct.aspx?It...  \n",
       "70178  https://www.aladin.co.kr/shop/wproduct.aspx?It...  \n",
       "70224  https://www.aladin.co.kr/shop/wproduct.aspx?It...  \n",
       "\n",
       "[1111 rows x 7 columns]"
      ]
     },
     "execution_count": 62,
     "metadata": {},
     "output_type": "execute_result"
    }
   ],
   "source": [
    "targets = (samples['ItemId'].value_counts()[samples['ItemId'].value_counts() == 1]).index\n",
    "print(targets)\n",
    "cond = samples['ItemId'].isin(targets)\n",
    "samples[cond]"
   ]
  },
  {
   "cell_type": "code",
   "execution_count": 63,
   "metadata": {},
   "outputs": [
    {
     "data": {
      "text/plain": [
       "'https://www.aladin.co.kr/shop/wproduct.aspx?ItemId=294888947'"
      ]
     },
     "execution_count": 63,
     "metadata": {},
     "output_type": "execute_result"
    }
   ],
   "source": [
    "samples[cond].iloc[-1,-1]"
   ]
  },
  {
   "cell_type": "markdown",
   "metadata": {},
   "source": [
    "- 아마도 가격이 같은 중고도서가 둘 다른게 하나 이런 식일 가능성이 높음\n",
    "    - 일부 확인 결과 맞았음\n",
    "- 같은 등급, 같은 매점임에도 가격이 크게 차이나는 경우가 있었음(Id : 999466)\n",
    "    - 이 경우 상인데도 중보다 저렴했음\n",
    "- 등급이 중인 물품 중 중간값에 대해서, 편차 확인을 하고 싶었으나 어떻게 정리하면 좋을지 잘 떠오르지 않는 상태"
   ]
  },
  {
   "cell_type": "code",
   "execution_count": null,
   "metadata": {},
   "outputs": [],
   "source": [
    "sample2= usedbook_data[cond3]\n",
    "usedbook_data[cond3]"
   ]
  },
  {
   "cell_type": "code",
   "execution_count": 31,
   "metadata": {},
   "outputs": [
    {
     "data": {
      "text/html": [
       "<div>\n",
       "<style scoped>\n",
       "    .dataframe tbody tr th:only-of-type {\n",
       "        vertical-align: middle;\n",
       "    }\n",
       "\n",
       "    .dataframe tbody tr th {\n",
       "        vertical-align: top;\n",
       "    }\n",
       "\n",
       "    .dataframe thead th {\n",
       "        text-align: right;\n",
       "    }\n",
       "</style>\n",
       "<table border=\"1\" class=\"dataframe\">\n",
       "  <thead>\n",
       "    <tr style=\"text-align: right;\">\n",
       "      <th></th>\n",
       "      <th>ItemId</th>\n",
       "      <th>used_idx</th>\n",
       "      <th>delivery_fee</th>\n",
       "      <th>price</th>\n",
       "      <th>quality</th>\n",
       "      <th>store</th>\n",
       "      <th>url</th>\n",
       "    </tr>\n",
       "  </thead>\n",
       "  <tbody>\n",
       "    <tr>\n",
       "      <th>27239</th>\n",
       "      <td>82298602</td>\n",
       "      <td>1</td>\n",
       "      <td>2500</td>\n",
       "      <td>1000</td>\n",
       "      <td>하</td>\n",
       "      <td>중고매장수지점</td>\n",
       "      <td>https://www.aladin.co.kr/shop/wproduct.aspx?It...</td>\n",
       "    </tr>\n",
       "    <tr>\n",
       "      <th>44600</th>\n",
       "      <td>25729908</td>\n",
       "      <td>1</td>\n",
       "      <td>2500</td>\n",
       "      <td>2000</td>\n",
       "      <td>하</td>\n",
       "      <td>중고매장수지점</td>\n",
       "      <td>https://www.aladin.co.kr/shop/wproduct.aspx?It...</td>\n",
       "    </tr>\n",
       "    <tr>\n",
       "      <th>44601</th>\n",
       "      <td>25729908</td>\n",
       "      <td>2</td>\n",
       "      <td>2500</td>\n",
       "      <td>2000</td>\n",
       "      <td>하</td>\n",
       "      <td>중고매장수지점</td>\n",
       "      <td>https://www.aladin.co.kr/shop/wproduct.aspx?It...</td>\n",
       "    </tr>\n",
       "  </tbody>\n",
       "</table>\n",
       "</div>"
      ],
      "text/plain": [
       "         ItemId  used_idx  delivery_fee  price quality    store  \\\n",
       "27239  82298602         1          2500   1000       하  중고매장수지점   \n",
       "44600  25729908         1          2500   2000       하  중고매장수지점   \n",
       "44601  25729908         2          2500   2000       하  중고매장수지점   \n",
       "\n",
       "                                                     url  \n",
       "27239  https://www.aladin.co.kr/shop/wproduct.aspx?It...  \n",
       "44600  https://www.aladin.co.kr/shop/wproduct.aspx?It...  \n",
       "44601  https://www.aladin.co.kr/shop/wproduct.aspx?It...  "
      ]
     },
     "metadata": {},
     "output_type": "display_data"
    },
    {
     "data": {
      "text/plain": [
       "'https://www.aladin.co.kr/shop/wproduct.aspx?ItemId=324011753'"
      ]
     },
     "metadata": {},
     "output_type": "display_data"
    }
   ],
   "source": [
    "cond = usedbook_data['quality']=='하'\n",
    "display(usedbook_data[cond])\n",
    "display(usedbook_data.loc[cond,'url'].iloc[2])\n"
   ]
  },
  {
   "cell_type": "markdown",
   "metadata": {},
   "source": [
    "- 등급이 균일가로 되어있는 것들의 타 등급과의 가격 차이 확인"
   ]
  },
  {
   "cell_type": "code",
   "execution_count": 108,
   "metadata": {},
   "outputs": [],
   "source": [
    "cond = usedbook_data['quality']=='균일가'\n",
    "uniform = list(usedbook_data.loc[cond,'ItemId'].unique())\n",
    "cond2 = usedbook_data['quality']=='중'\n",
    "mideum = list(usedbook_data.loc[cond2,'ItemId'].unique())\n",
    "cond3 = usedbook_data['quality']=='상'\n",
    "high = list(usedbook_data.loc[cond3,'ItemId'].unique())\n",
    "cond4 = usedbook_data['quality']=='최상'\n",
    "special = list(usedbook_data.loc[cond4,'ItemId'].unique())\n",
    "cond5 = usedbook_data['quality']=='하'\n",
    "low = list(usedbook_data.loc[cond5,'ItemId'].unique())"
   ]
  },
  {
   "cell_type": "code",
   "execution_count": 114,
   "metadata": {},
   "outputs": [
    {
     "data": {
      "text/plain": [
       "1019"
      ]
     },
     "execution_count": 114,
     "metadata": {},
     "output_type": "execute_result"
    }
   ],
   "source": [
    "cond = usedbook_data['quality']=='균일가'\n",
    "temp = usedbook_data[cond]\n",
    "dup_cond = temp[['ItemId','price','quality']].duplicated(keep=False)\n",
    "np.sum(dup_cond)"
   ]
  },
  {
   "cell_type": "code",
   "execution_count": 140,
   "metadata": {},
   "outputs": [
    {
     "data": {
      "text/html": [
       "<div>\n",
       "<style scoped>\n",
       "    .dataframe tbody tr th:only-of-type {\n",
       "        vertical-align: middle;\n",
       "    }\n",
       "\n",
       "    .dataframe tbody tr th {\n",
       "        vertical-align: top;\n",
       "    }\n",
       "\n",
       "    .dataframe thead th {\n",
       "        text-align: right;\n",
       "    }\n",
       "</style>\n",
       "<table border=\"1\" class=\"dataframe\">\n",
       "  <thead>\n",
       "    <tr style=\"text-align: right;\">\n",
       "      <th></th>\n",
       "      <th>ItemId</th>\n",
       "      <th>used_idx</th>\n",
       "      <th>delivery_fee</th>\n",
       "      <th>price</th>\n",
       "      <th>quality</th>\n",
       "      <th>store</th>\n",
       "      <th>url</th>\n",
       "    </tr>\n",
       "  </thead>\n",
       "  <tbody>\n",
       "    <tr>\n",
       "      <th>1410</th>\n",
       "      <td>193486423</td>\n",
       "      <td>15</td>\n",
       "      <td>2500</td>\n",
       "      <td>2300</td>\n",
       "      <td>균일가</td>\n",
       "      <td>중고매장부산덕천점</td>\n",
       "      <td>https://www.aladin.co.kr/shop/wproduct.aspx?It...</td>\n",
       "    </tr>\n",
       "    <tr>\n",
       "      <th>1415</th>\n",
       "      <td>193486423</td>\n",
       "      <td>6</td>\n",
       "      <td>2500</td>\n",
       "      <td>2200</td>\n",
       "      <td>균일가</td>\n",
       "      <td>중고매장인천구월점</td>\n",
       "      <td>https://www.aladin.co.kr/shop/wproduct.aspx?It...</td>\n",
       "    </tr>\n",
       "    <tr>\n",
       "      <th>3309</th>\n",
       "      <td>279235</td>\n",
       "      <td>6</td>\n",
       "      <td>2500</td>\n",
       "      <td>1800</td>\n",
       "      <td>균일가</td>\n",
       "      <td>중고매장강서홈플러스점</td>\n",
       "      <td>https://www.aladin.co.kr/shop/wproduct.aspx?It...</td>\n",
       "    </tr>\n",
       "    <tr>\n",
       "      <th>4465</th>\n",
       "      <td>3683747</td>\n",
       "      <td>1</td>\n",
       "      <td>2500</td>\n",
       "      <td>2000</td>\n",
       "      <td>균일가</td>\n",
       "      <td>중고매장목동점</td>\n",
       "      <td>https://www.aladin.co.kr/shop/wproduct.aspx?It...</td>\n",
       "    </tr>\n",
       "    <tr>\n",
       "      <th>4469</th>\n",
       "      <td>3683747</td>\n",
       "      <td>5</td>\n",
       "      <td>2500</td>\n",
       "      <td>3500</td>\n",
       "      <td>균일가</td>\n",
       "      <td>중고매장창원상남점</td>\n",
       "      <td>https://www.aladin.co.kr/shop/wproduct.aspx?It...</td>\n",
       "    </tr>\n",
       "    <tr>\n",
       "      <th>...</th>\n",
       "      <td>...</td>\n",
       "      <td>...</td>\n",
       "      <td>...</td>\n",
       "      <td>...</td>\n",
       "      <td>...</td>\n",
       "      <td>...</td>\n",
       "      <td>...</td>\n",
       "    </tr>\n",
       "    <tr>\n",
       "      <th>62173</th>\n",
       "      <td>75525</td>\n",
       "      <td>1</td>\n",
       "      <td>2500</td>\n",
       "      <td>800</td>\n",
       "      <td>균일가</td>\n",
       "      <td>중고매장대전시청역점</td>\n",
       "      <td>https://www.aladin.co.kr/shop/wproduct.aspx?It...</td>\n",
       "    </tr>\n",
       "    <tr>\n",
       "      <th>62180</th>\n",
       "      <td>75525</td>\n",
       "      <td>2</td>\n",
       "      <td>2500</td>\n",
       "      <td>1000</td>\n",
       "      <td>균일가</td>\n",
       "      <td>중고매장청주점</td>\n",
       "      <td>https://www.aladin.co.kr/shop/wproduct.aspx?It...</td>\n",
       "    </tr>\n",
       "    <tr>\n",
       "      <th>64605</th>\n",
       "      <td>178978199</td>\n",
       "      <td>3</td>\n",
       "      <td>2500</td>\n",
       "      <td>9200</td>\n",
       "      <td>균일가</td>\n",
       "      <td>중고매장부산서면동보점</td>\n",
       "      <td>https://www.aladin.co.kr/shop/wproduct.aspx?It...</td>\n",
       "    </tr>\n",
       "    <tr>\n",
       "      <th>66606</th>\n",
       "      <td>2777342</td>\n",
       "      <td>1</td>\n",
       "      <td>2500</td>\n",
       "      <td>2000</td>\n",
       "      <td>균일가</td>\n",
       "      <td>중고매장수원시청역점</td>\n",
       "      <td>https://www.aladin.co.kr/shop/wproduct.aspx?It...</td>\n",
       "    </tr>\n",
       "    <tr>\n",
       "      <th>67456</th>\n",
       "      <td>344596</td>\n",
       "      <td>1</td>\n",
       "      <td>2500</td>\n",
       "      <td>1000</td>\n",
       "      <td>균일가</td>\n",
       "      <td>중고매장창원상남점</td>\n",
       "      <td>https://www.aladin.co.kr/shop/wproduct.aspx?It...</td>\n",
       "    </tr>\n",
       "  </tbody>\n",
       "</table>\n",
       "<p>68 rows × 7 columns</p>\n",
       "</div>"
      ],
      "text/plain": [
       "          ItemId  used_idx  delivery_fee  price quality        store  \\\n",
       "1410   193486423        15          2500   2300     균일가    중고매장부산덕천점   \n",
       "1415   193486423         6          2500   2200     균일가    중고매장인천구월점   \n",
       "3309      279235         6          2500   1800     균일가  중고매장강서홈플러스점   \n",
       "4465     3683747         1          2500   2000     균일가      중고매장목동점   \n",
       "4469     3683747         5          2500   3500     균일가    중고매장창원상남점   \n",
       "...          ...       ...           ...    ...     ...          ...   \n",
       "62173      75525         1          2500    800     균일가   중고매장대전시청역점   \n",
       "62180      75525         2          2500   1000     균일가      중고매장청주점   \n",
       "64605  178978199         3          2500   9200     균일가  중고매장부산서면동보점   \n",
       "66606    2777342         1          2500   2000     균일가   중고매장수원시청역점   \n",
       "67456     344596         1          2500   1000     균일가    중고매장창원상남점   \n",
       "\n",
       "                                                     url  \n",
       "1410   https://www.aladin.co.kr/shop/wproduct.aspx?It...  \n",
       "1415   https://www.aladin.co.kr/shop/wproduct.aspx?It...  \n",
       "3309   https://www.aladin.co.kr/shop/wproduct.aspx?It...  \n",
       "4465   https://www.aladin.co.kr/shop/wproduct.aspx?It...  \n",
       "4469   https://www.aladin.co.kr/shop/wproduct.aspx?It...  \n",
       "...                                                  ...  \n",
       "62173  https://www.aladin.co.kr/shop/wproduct.aspx?It...  \n",
       "62180  https://www.aladin.co.kr/shop/wproduct.aspx?It...  \n",
       "64605  https://www.aladin.co.kr/shop/wproduct.aspx?It...  \n",
       "66606  https://www.aladin.co.kr/shop/wproduct.aspx?It...  \n",
       "67456  https://www.aladin.co.kr/shop/wproduct.aspx?It...  \n",
       "\n",
       "[68 rows x 7 columns]"
      ]
     },
     "execution_count": 140,
     "metadata": {},
     "output_type": "execute_result"
    }
   ],
   "source": [
    "dup_cond2 = temp[['ItemId','quality']].duplicated(keep=False)\n",
    "temp[~dup_cond & dup_cond2]"
   ]
  },
  {
   "cell_type": "code",
   "execution_count": 142,
   "metadata": {},
   "outputs": [
    {
     "data": {
      "image/png": "[encoded data removed]",
      "text/plain": [
       "<Figure size 640x480 with 1 Axes>"
      ]
     },
     "metadata": {
      "image/png": {
       "height": 491,
       "width": 651
      }
     },
     "output_type": "display_data"
    }
   ],
   "source": [
    "sns.histplot(data=temp,x='price');"
   ]
  },
  {
   "cell_type": "code",
   "execution_count": 141,
   "metadata": {},
   "outputs": [
    {
     "data": {
      "text/html": [
       "<div>\n",
       "<style scoped>\n",
       "    .dataframe tbody tr th:only-of-type {\n",
       "        vertical-align: middle;\n",
       "    }\n",
       "\n",
       "    .dataframe tbody tr th {\n",
       "        vertical-align: top;\n",
       "    }\n",
       "\n",
       "    .dataframe thead th {\n",
       "        text-align: right;\n",
       "    }\n",
       "</style>\n",
       "<table border=\"1\" class=\"dataframe\">\n",
       "  <thead>\n",
       "    <tr style=\"text-align: right;\">\n",
       "      <th></th>\n",
       "      <th>price</th>\n",
       "    </tr>\n",
       "    <tr>\n",
       "      <th>ItemId</th>\n",
       "      <th></th>\n",
       "    </tr>\n",
       "  </thead>\n",
       "  <tbody>\n",
       "    <tr>\n",
       "      <th>2038</th>\n",
       "      <td>1500.000000</td>\n",
       "    </tr>\n",
       "    <tr>\n",
       "      <th>2039</th>\n",
       "      <td>1500.000000</td>\n",
       "    </tr>\n",
       "    <tr>\n",
       "      <th>17943</th>\n",
       "      <td>2500.000000</td>\n",
       "    </tr>\n",
       "    <tr>\n",
       "      <th>31477</th>\n",
       "      <td>1150.000000</td>\n",
       "    </tr>\n",
       "    <tr>\n",
       "      <th>31478</th>\n",
       "      <td>800.000000</td>\n",
       "    </tr>\n",
       "    <tr>\n",
       "      <th>...</th>\n",
       "      <td>...</td>\n",
       "    </tr>\n",
       "    <tr>\n",
       "      <th>178978199</th>\n",
       "      <td>7066.666667</td>\n",
       "    </tr>\n",
       "    <tr>\n",
       "      <th>179222085</th>\n",
       "      <td>1500.000000</td>\n",
       "    </tr>\n",
       "    <tr>\n",
       "      <th>193486423</th>\n",
       "      <td>2250.000000</td>\n",
       "    </tr>\n",
       "    <tr>\n",
       "      <th>236518774</th>\n",
       "      <td>1500.000000</td>\n",
       "    </tr>\n",
       "    <tr>\n",
       "      <th>251818616</th>\n",
       "      <td>1500.000000</td>\n",
       "    </tr>\n",
       "  </tbody>\n",
       "</table>\n",
       "<p>635 rows × 1 columns</p>\n",
       "</div>"
      ],
      "text/plain": [
       "                 price\n",
       "ItemId                \n",
       "2038       1500.000000\n",
       "2039       1500.000000\n",
       "17943      2500.000000\n",
       "31477      1150.000000\n",
       "31478       800.000000\n",
       "...                ...\n",
       "178978199  7066.666667\n",
       "179222085  1500.000000\n",
       "193486423  2250.000000\n",
       "236518774  1500.000000\n",
       "251818616  1500.000000\n",
       "\n",
       "[635 rows x 1 columns]"
      ]
     },
     "execution_count": 141,
     "metadata": {},
     "output_type": "execute_result"
    }
   ],
   "source": [
    "uniform_table= pd.pivot_table(data=temp,index='ItemId',values='price',aggfunc=np.mean)\n",
    "uniform_table"
   ]
  },
  {
   "cell_type": "code",
   "execution_count": 137,
   "metadata": {},
   "outputs": [
    {
     "name": "stderr",
     "output_type": "stream",
     "text": [
      "/tmp/ipykernel_246930/1067642960.py:4: SettingWithCopyWarning: \n",
      "A value is trying to be set on a copy of a slice from a DataFrame.\n",
      "Try using .loc[row_indexer,col_indexer] = value instead\n",
      "\n",
      "See the caveats in the documentation: https://pandas.pydata.org/pandas-docs/stable/user_guide/indexing.html#returning-a-view-versus-a-copy\n",
      "  temp_medium['price_dev_mid'] = (temp_medium['price']-(temp_medium['ItemId'].apply(lambda x : uniform_table.loc[x]).values.reshape(-1)))\n"
     ]
    }
   ],
   "source": [
    "cand = set(uniform).intersection(set(mideum))\n",
    "cond_temp = usedbook_data['ItemId'].isin(cand)\n",
    "temp_medium = usedbook_data[cond_temp & cond2]\n",
    "temp_medium['price_dev_mid'] = (temp_medium['price']-(temp_medium['ItemId'].apply(lambda x : uniform_table.loc[x]).values.reshape(-1)))"
   ]
  },
  {
   "cell_type": "code",
   "execution_count": 139,
   "metadata": {},
   "outputs": [
    {
     "data": {
      "image/png": "[encoded data removed]",
      "text/plain": [
       "<Figure size 640x480 with 2 Axes>"
      ]
     },
     "metadata": {
      "image/png": {
       "height": 491,
       "width": 651
      }
     },
     "output_type": "display_data"
    }
   ],
   "source": [
    "fig,axes = plt.subplots(1,2)\n",
    "sns.histplot(data=temp_medium, x='price_dev_mid',ax=axes[0])\n",
    "sns.scatterplot(data=temp_medium,x='price',y='price_dev_mid',ax=axes[1])\n",
    "pass"
   ]
  },
  {
   "cell_type": "code",
   "execution_count": 143,
   "metadata": {},
   "outputs": [
    {
     "name": "stderr",
     "output_type": "stream",
     "text": [
      "/tmp/ipykernel_246930/734303871.py:4: SettingWithCopyWarning: \n",
      "A value is trying to be set on a copy of a slice from a DataFrame.\n",
      "Try using .loc[row_indexer,col_indexer] = value instead\n",
      "\n",
      "See the caveats in the documentation: https://pandas.pydata.org/pandas-docs/stable/user_guide/indexing.html#returning-a-view-versus-a-copy\n",
      "  temp_high['price_dev'] = (temp_high['price']-(temp_high['ItemId'].apply(lambda x : uniform_table.loc[x]).values.reshape(-1)))\n"
     ]
    },
    {
     "data": {
      "image/png": "[encoded data removed]",
      "text/plain": [
       "<Figure size 640x480 with 2 Axes>"
      ]
     },
     "metadata": {
      "image/png": {
       "height": 491,
       "width": 651
      }
     },
     "output_type": "display_data"
    }
   ],
   "source": [
    "cand = set(uniform).intersection(set(high))\n",
    "cond_temp = usedbook_data['ItemId'].isin(cand)\n",
    "temp_high = usedbook_data[cond_temp & cond3]\n",
    "temp_high['price_dev'] = (temp_high['price']-(temp_high['ItemId'].apply(lambda x : uniform_table.loc[x]).values.reshape(-1)))\n",
    "fig,axes = plt.subplots(1,2)\n",
    "sns.histplot(data=temp_high, x='price_dev',ax=axes[0])\n",
    "sns.scatterplot(data=temp_high,x='price',y='price_dev',ax=axes[1])\n",
    "pass"
   ]
  },
  {
   "cell_type": "code",
   "execution_count": 144,
   "metadata": {},
   "outputs": [
    {
     "name": "stderr",
     "output_type": "stream",
     "text": [
      "/tmp/ipykernel_246930/4079497174.py:4: SettingWithCopyWarning: \n",
      "A value is trying to be set on a copy of a slice from a DataFrame.\n",
      "Try using .loc[row_indexer,col_indexer] = value instead\n",
      "\n",
      "See the caveats in the documentation: https://pandas.pydata.org/pandas-docs/stable/user_guide/indexing.html#returning-a-view-versus-a-copy\n",
      "  temp_special['price_dev'] = (temp_special['price']-(temp_special['ItemId'].apply(lambda x : uniform_table.loc[x]).values.reshape(-1)))\n"
     ]
    },
    {
     "data": {
      "image/png": "[encoded data removed]",
      "text/plain": [
       "<Figure size 640x480 with 2 Axes>"
      ]
     },
     "metadata": {
      "image/png": {
       "height": 491,
       "width": 651
      }
     },
     "output_type": "display_data"
    }
   ],
   "source": [
    "cand = set(uniform).intersection(set(special))\n",
    "cond_temp = usedbook_data['ItemId'].isin(cand)\n",
    "temp_special = usedbook_data[cond_temp & cond4]\n",
    "temp_special['price_dev'] = (temp_special['price']-(temp_special['ItemId'].apply(lambda x : uniform_table.loc[x]).values.reshape(-1)))\n",
    "fig,axes = plt.subplots(1,2)\n",
    "sns.histplot(data=temp_special, x='price_dev',ax=axes[0])\n",
    "sns.scatterplot(data=temp_special,x='price',y='price_dev',ax=axes[1])\n",
    "pass"
   ]
  },
  {
   "cell_type": "code",
   "execution_count": 148,
   "metadata": {},
   "outputs": [
    {
     "name": "stdout",
     "output_type": "stream",
     "text": [
      "0\n"
     ]
    }
   ],
   "source": [
    "cand = set(uniform).intersection(set(low))\n",
    "cond_temp = usedbook_data['ItemId'].isin(cand)\n",
    "temp_low = usedbook_data[cond_temp & cond5]\n",
    "print(len(temp_low))"
   ]
  },
  {
   "cell_type": "code",
   "execution_count": 149,
   "metadata": {},
   "outputs": [
    {
     "data": {
      "text/html": [
       "<div>\n",
       "<style scoped>\n",
       "    .dataframe tbody tr th:only-of-type {\n",
       "        vertical-align: middle;\n",
       "    }\n",
       "\n",
       "    .dataframe tbody tr th {\n",
       "        vertical-align: top;\n",
       "    }\n",
       "\n",
       "    .dataframe thead th {\n",
       "        text-align: right;\n",
       "    }\n",
       "</style>\n",
       "<table border=\"1\" class=\"dataframe\">\n",
       "  <thead>\n",
       "    <tr style=\"text-align: right;\">\n",
       "      <th></th>\n",
       "      <th>ItemId</th>\n",
       "      <th>used_idx</th>\n",
       "      <th>delivery_fee</th>\n",
       "      <th>price</th>\n",
       "      <th>quality</th>\n",
       "      <th>store</th>\n",
       "      <th>url</th>\n",
       "    </tr>\n",
       "  </thead>\n",
       "  <tbody>\n",
       "    <tr>\n",
       "      <th>27239</th>\n",
       "      <td>82298602</td>\n",
       "      <td>1</td>\n",
       "      <td>2500</td>\n",
       "      <td>1000</td>\n",
       "      <td>하</td>\n",
       "      <td>중고매장수지점</td>\n",
       "      <td>https://www.aladin.co.kr/shop/wproduct.aspx?It...</td>\n",
       "    </tr>\n",
       "    <tr>\n",
       "      <th>44600</th>\n",
       "      <td>25729908</td>\n",
       "      <td>1</td>\n",
       "      <td>2500</td>\n",
       "      <td>2000</td>\n",
       "      <td>하</td>\n",
       "      <td>중고매장수지점</td>\n",
       "      <td>https://www.aladin.co.kr/shop/wproduct.aspx?It...</td>\n",
       "    </tr>\n",
       "    <tr>\n",
       "      <th>44601</th>\n",
       "      <td>25729908</td>\n",
       "      <td>2</td>\n",
       "      <td>2500</td>\n",
       "      <td>2000</td>\n",
       "      <td>하</td>\n",
       "      <td>중고매장수지점</td>\n",
       "      <td>https://www.aladin.co.kr/shop/wproduct.aspx?It...</td>\n",
       "    </tr>\n",
       "  </tbody>\n",
       "</table>\n",
       "</div>"
      ],
      "text/plain": [
       "         ItemId  used_idx  delivery_fee  price quality    store  \\\n",
       "27239  82298602         1          2500   1000       하  중고매장수지점   \n",
       "44600  25729908         1          2500   2000       하  중고매장수지점   \n",
       "44601  25729908         2          2500   2000       하  중고매장수지점   \n",
       "\n",
       "                                                     url  \n",
       "27239  https://www.aladin.co.kr/shop/wproduct.aspx?It...  \n",
       "44600  https://www.aladin.co.kr/shop/wproduct.aspx?It...  \n",
       "44601  https://www.aladin.co.kr/shop/wproduct.aspx?It...  "
      ]
     },
     "execution_count": 149,
     "metadata": {},
     "output_type": "execute_result"
    }
   ],
   "source": [
    "usedbook_data[cond5]"
   ]
  },
  {
   "cell_type": "code",
   "execution_count": 152,
   "metadata": {},
   "outputs": [
    {
     "data": {
      "image/png": "[encoded data removed]",
      "text/plain": [
       "<Figure size 640x480 with 1 Axes>"
      ]
     },
     "metadata": {
      "image/png": {
       "height": 491,
       "width": 651
      }
     },
     "output_type": "display_data"
    }
   ],
   "source": [
    "sns.histplot(data=temp,x='price',bins=20);"
   ]
  },
  {
   "cell_type": "markdown",
   "metadata": {},
   "source": [
    "- 알라딘 중고서적 페이지의 '품질 판정 가이드'에 최상, 상, 중 밖에 없음\n",
    "- '균일가'로 되어있는 경우는 책 종류 상관없이 대개 비슷한 가격대\n",
    "- '하'로 되어있는 경우에 들어가보니, 3 경우 모두, 해당란에 표가 없고, '버리기 아까워 싸게 파는 책'이라는 text만 적혀 있음\n",
    "- 값의 분포를 보아 '하'와 '균일가'를 합치면 될 듯"
   ]
  },
  {
   "cell_type": "code",
   "execution_count": 13,
   "metadata": {},
   "outputs": [
    {
     "data": {
      "text/plain": [
       "delivery_fee\n",
       "2500    70239\n",
       "Name: count, dtype: int64"
      ]
     },
     "execution_count": 13,
     "metadata": {},
     "output_type": "execute_result"
    }
   ],
   "source": [
    "usedbook_data['delivery_fee'].value_counts()"
   ]
  },
  {
   "cell_type": "code",
   "execution_count": 64,
   "metadata": {},
   "outputs": [
    {
     "data": {
      "text/plain": [
       "store\n",
       "True    70239\n",
       "Name: count, dtype: int64"
      ]
     },
     "execution_count": 64,
     "metadata": {},
     "output_type": "execute_result"
    }
   ],
   "source": [
    "usedbook_data['store'].apply(lambda x : x[:4] == '중고매장').value_counts()"
   ]
  },
  {
   "cell_type": "code",
   "execution_count": 70,
   "metadata": {},
   "outputs": [
    {
     "data": {
      "text/plain": [
       "store\n",
       "점    70239\n",
       "Name: count, dtype: int64"
      ]
     },
     "execution_count": 70,
     "metadata": {},
     "output_type": "execute_result"
    }
   ],
   "source": [
    "usedbook_data['store'].apply(lambda x : x[-1]).value_counts()"
   ]
  },
  {
   "cell_type": "markdown",
   "metadata": {},
   "source": [
    "- 모든 매장 이름에 중고매장이 들어가니깐 빼도 될 듯\n",
    "    - 우선 알라딘 중고매장만을 대상이니 빼는 것 더더욱 무관\n",
    "- 해당 표본의 경우 배송비가 2500원으로 전체적으로 다 동일함\n",
    "    - 전체 데이터에서도 그럴 것으로 추측\n",
    "    - 나중에 전체 데이터에서 모델링할 때도 빼는 것 고려"
   ]
  },
  {
   "cell_type": "code",
   "execution_count": 71,
   "metadata": {},
   "outputs": [
    {
     "data": {
      "text/plain": [
       "store\n",
       "2     27302\n",
       "4     15682\n",
       "5      9910\n",
       "8      5441\n",
       "3      5308\n",
       "6      4080\n",
       "11     1438\n",
       "7      1078\n",
       "Name: count, dtype: int64"
      ]
     },
     "execution_count": 71,
     "metadata": {},
     "output_type": "execute_result"
    }
   ],
   "source": [
    "rslt['store'] = usedbook_data['store'].apply(lambda x : x[4:-1])\n",
    "temp = rslt['store'].apply(len)\n",
    "temp.value_counts()"
   ]
  },
  {
   "cell_type": "code",
   "execution_count": 73,
   "metadata": {},
   "outputs": [
    {
     "data": {
      "text/plain": [
       "store\n",
       "동탄2하나로마트       2950\n",
       "청주             1951\n",
       "목동             1877\n",
       "신림             1819\n",
       "천호             1812\n",
       "강서홈플러스         1803\n",
       "부산서면동보         1785\n",
       "영등포            1722\n",
       "천안신불당          1713\n",
       "대전시청역          1711\n",
       "평택             1693\n",
       "인천구월           1682\n",
       "광주충장로          1675\n",
       "부천             1602\n",
       "창원상남           1522\n",
       "범계             1496\n",
       "마산합성           1481\n",
       "부산 경성대.부경대역    1438\n",
       "수지             1437\n",
       "인천계산홈플러스       1386\n",
       "화정             1344\n",
       "대구동성로          1335\n",
       "전주             1317\n",
       "동탄             1313\n",
       "부산서면역          1306\n",
       "인천청라           1267\n",
       "대전은행           1236\n",
       "잠실새내역          1183\n",
       "종로             1159\n",
       "분당서현           1121\n",
       "잠실롯데월드타워       1105\n",
       "의정부홈플러스        1078\n",
       "수유             1068\n",
       "광주상무           1064\n",
       "대학로            1009\n",
       "합정             1003\n",
       "일산             1000\n",
       "분당야탑            997\n",
       "수원시청역           987\n",
       "대구상인            976\n",
       "동대구역            944\n",
       "부산센텀            940\n",
       "김해              923\n",
       "강남              884\n",
       "노원역             871\n",
       "이수역             855\n",
       "연신내             851\n",
       "부산덕천            848\n",
       "인천송도            806\n",
       "가로수길            798\n",
       "산본              795\n",
       "건대              775\n",
       "신촌              741\n",
       "울산              700\n",
       "수원              593\n",
       "서울대입구역          492\n",
       "Name: count, dtype: int64"
      ]
     },
     "metadata": {},
     "output_type": "display_data"
    },
    {
     "data": {
      "text/plain": [
       "56"
      ]
     },
     "metadata": {},
     "output_type": "display_data"
    }
   ],
   "source": [
    "display(rslt['store'].value_counts())\n",
    "display(len(rslt['store'].value_counts()))"
   ]
  },
  {
   "cell_type": "markdown",
   "metadata": {},
   "source": [
    "- 표본이 많아져도 스케일에 큰 차이가 안날테니 그냥 인코딩하면 될 듯"
   ]
  },
  {
   "cell_type": "code",
   "execution_count": 74,
   "metadata": {},
   "outputs": [],
   "source": [
    "from konlpy.tag import Mecab\n",
    "mecab = Mecab()\n",
    "tokenizer_basic = lambda x : mecab.morphs(x)\n",
    "\n",
    "# 출처: https://sikaleo.tistory.com/62 [SIKALEO:티스토리]\n",
    "def tokenizer_kor(raw, pos=[\"NNG\",\"NNP\",\"VV\",\"VA\"]):\n",
    "    from konlpy.tag import Mecab\n",
    "    m = Mecab()\n",
    "    # 길이가 1 이하인 토근은 제외, 위에서 지정한 (mecab 사전에 따른) 토큰들만 특징으로 삼기, 불용어 100개 제외  \n",
    "    return [word for word, tag in m.pos(raw) if tag in pos]"
   ]
  },
  {
   "cell_type": "code",
   "execution_count": 78,
   "metadata": {},
   "outputs": [],
   "source": [
    "temp = rslt.store.apply(tokenizer_basic)"
   ]
  },
  {
   "cell_type": "code",
   "execution_count": 88,
   "metadata": {},
   "outputs": [
    {
     "data": {
      "text/plain": [
       "store\n",
       "부산        6317\n",
       "인천        5141\n",
       "동탄        4263\n",
       "광주        2739\n",
       "대구        2311\n",
       "잠실        2288\n",
       "분당        2118\n",
       "청주        1951\n",
       "목동        1877\n",
       "신림        1819\n",
       "천호        1812\n",
       "강서        1803\n",
       "영등포       1722\n",
       "천안        1713\n",
       "대전시       1711\n",
       "평택        1693\n",
       "부천        1602\n",
       "창원        1522\n",
       "범계        1496\n",
       "마산        1481\n",
       "수지        1437\n",
       "화정        1344\n",
       "전주        1317\n",
       "대전        1236\n",
       "종로        1159\n",
       "의정부       1078\n",
       "수유        1068\n",
       "대학        1009\n",
       "합정        1003\n",
       "일산        1000\n",
       "수원시청역      987\n",
       "동대구역       944\n",
       "김해         923\n",
       "강남         884\n",
       "노원역        871\n",
       "이          855\n",
       "연신         851\n",
       "가로수길       798\n",
       "산본         795\n",
       "건대         775\n",
       "신촌         741\n",
       "울산         700\n",
       "수원         593\n",
       "서울대입구역     492\n",
       "Name: count, dtype: int64"
      ]
     },
     "execution_count": 88,
     "metadata": {},
     "output_type": "execute_result"
    }
   ],
   "source": [
    "temp2 = temp.apply(lambda x : x[0])\n",
    "temp2.value_counts()"
   ]
  },
  {
   "cell_type": "code",
   "execution_count": 90,
   "metadata": {},
   "outputs": [
    {
     "data": {
      "text/plain": [
       "store\n",
       "영등포       1722\n",
       "대전시       1711\n",
       "의정부       1078\n",
       "수원시청역      987\n",
       "동대구역       944\n",
       "노원역        871\n",
       "가로수길       798\n",
       "서울대입구역     492\n",
       "Name: count, dtype: int64"
      ]
     },
     "execution_count": 90,
     "metadata": {},
     "output_type": "execute_result"
    }
   ],
   "source": [
    "cond = temp2.apply(len) > 2\n",
    "temp2[cond].value_counts()"
   ]
  },
  {
   "cell_type": "code",
   "execution_count": 91,
   "metadata": {},
   "outputs": [
    {
     "data": {
      "text/plain": [
       "store\n",
       "대전시    1711\n",
       "대전     1236\n",
       "Name: count, dtype: int64"
      ]
     },
     "execution_count": 91,
     "metadata": {},
     "output_type": "execute_result"
    }
   ],
   "source": [
    "cond = temp2.apply(lambda x : '대전' in x)\n",
    "temp2[cond].value_counts()"
   ]
  },
  {
   "cell_type": "code",
   "execution_count": 92,
   "metadata": {},
   "outputs": [
    {
     "data": {
      "text/plain": [
       "store\n",
       "의정부    1078\n",
       "Name: count, dtype: int64"
      ]
     },
     "execution_count": 92,
     "metadata": {},
     "output_type": "execute_result"
    }
   ],
   "source": [
    "cond = temp2.apply(lambda x : '의정' in x)\n",
    "temp2[cond].value_counts()"
   ]
  },
  {
   "cell_type": "code",
   "execution_count": 93,
   "metadata": {},
   "outputs": [
    {
     "data": {
      "text/plain": [
       "store\n",
       "영등포    1722\n",
       "Name: count, dtype: int64"
      ]
     },
     "execution_count": 93,
     "metadata": {},
     "output_type": "execute_result"
    }
   ],
   "source": [
    "cond = temp2.apply(lambda x : '영등' in x)\n",
    "temp2[cond].value_counts()"
   ]
  },
  {
   "cell_type": "code",
   "execution_count": 94,
   "metadata": {},
   "outputs": [
    {
     "data": {
      "text/plain": [
       "store\n",
       "수원시청역    987\n",
       "수원       593\n",
       "Name: count, dtype: int64"
      ]
     },
     "execution_count": 94,
     "metadata": {},
     "output_type": "execute_result"
    }
   ],
   "source": [
    "cond = temp2.apply(lambda x : '수원' in x)\n",
    "temp2[cond].value_counts()"
   ]
  },
  {
   "cell_type": "code",
   "execution_count": 96,
   "metadata": {},
   "outputs": [
    {
     "data": {
      "text/plain": [
       "store\n",
       "동대구역    944\n",
       "Name: count, dtype: int64"
      ]
     },
     "execution_count": 96,
     "metadata": {},
     "output_type": "execute_result"
    }
   ],
   "source": [
    "cond = temp2.apply(lambda x : '동대' in x)\n",
    "temp2[cond].value_counts()"
   ]
  },
  {
   "cell_type": "code",
   "execution_count": 99,
   "metadata": {},
   "outputs": [
    {
     "data": {
      "text/plain": [
       "store\n",
       "동탄      4263\n",
       "목동      1877\n",
       "동대구역     944\n",
       "Name: count, dtype: int64"
      ]
     },
     "execution_count": 99,
     "metadata": {},
     "output_type": "execute_result"
    }
   ],
   "source": [
    "cond = temp2.apply(lambda x : '동' in x)\n",
    "temp2[cond].value_counts()"
   ]
  },
  {
   "cell_type": "code",
   "execution_count": 97,
   "metadata": {},
   "outputs": [
    {
     "data": {
      "text/plain": [
       "store\n",
       "대구      2311\n",
       "동대구역     944\n",
       "Name: count, dtype: int64"
      ]
     },
     "execution_count": 97,
     "metadata": {},
     "output_type": "execute_result"
    }
   ],
   "source": [
    "cond = temp2.apply(lambda x : '대구' in x)\n",
    "temp2[cond].value_counts()"
   ]
  },
  {
   "cell_type": "code",
   "execution_count": 98,
   "metadata": {},
   "outputs": [
    {
     "data": {
      "text/plain": [
       "store\n",
       "노원역    871\n",
       "Name: count, dtype: int64"
      ]
     },
     "execution_count": 98,
     "metadata": {},
     "output_type": "execute_result"
    }
   ],
   "source": [
    "cond = temp2.apply(lambda x : '노원' in x)\n",
    "temp2[cond].value_counts()"
   ]
  },
  {
   "cell_type": "code",
   "execution_count": 100,
   "metadata": {},
   "outputs": [
    {
     "data": {
      "text/plain": [
       "store\n",
       "[대전시, 청역]    1711\n",
       "Name: count, dtype: int64"
      ]
     },
     "execution_count": 100,
     "metadata": {},
     "output_type": "execute_result"
    }
   ],
   "source": [
    "cond = temp2 == '대전시'\n",
    "temp[cond].value_counts()"
   ]
  },
  {
   "cell_type": "code",
   "execution_count": 101,
   "metadata": {},
   "outputs": [
    {
     "data": {
      "text/plain": [
       "store\n",
       "[대전, 은행]    1236\n",
       "Name: count, dtype: int64"
      ]
     },
     "execution_count": 101,
     "metadata": {},
     "output_type": "execute_result"
    }
   ],
   "source": [
    "cond = temp2 == '대전'\n",
    "temp[cond].value_counts()"
   ]
  },
  {
   "cell_type": "code",
   "execution_count": 102,
   "metadata": {},
   "outputs": [
    {
     "data": {
      "text/plain": [
       "store\n",
       "[수원]    593\n",
       "Name: count, dtype: int64"
      ]
     },
     "execution_count": 102,
     "metadata": {},
     "output_type": "execute_result"
    }
   ],
   "source": [
    "cond = temp2 == '수원'\n",
    "temp[cond].value_counts()"
   ]
  },
  {
   "cell_type": "code",
   "execution_count": 103,
   "metadata": {},
   "outputs": [
    {
     "data": {
      "text/plain": [
       "store\n",
       "[수원시청역]    987\n",
       "Name: count, dtype: int64"
      ]
     },
     "execution_count": 103,
     "metadata": {},
     "output_type": "execute_result"
    }
   ],
   "source": [
    "cond = temp2 == '수원시청역'\n",
    "temp[cond].value_counts()"
   ]
  },
  {
   "cell_type": "code",
   "execution_count": 104,
   "metadata": {},
   "outputs": [
    {
     "data": {
      "text/plain": [
       "store\n",
       "[대구, 동성로]    1335\n",
       "[대구, 상인]      976\n",
       "Name: count, dtype: int64"
      ]
     },
     "execution_count": 104,
     "metadata": {},
     "output_type": "execute_result"
    }
   ],
   "source": [
    "cond = temp2 == '대구'\n",
    "temp[cond].value_counts()"
   ]
  },
  {
   "cell_type": "code",
   "execution_count": 106,
   "metadata": {},
   "outputs": [
    {
     "data": {
      "text/plain": [
       "store\n",
       "[동대구역]    944\n",
       "Name: count, dtype: int64"
      ]
     },
     "execution_count": 106,
     "metadata": {},
     "output_type": "execute_result"
    }
   ],
   "source": [
    "cond = temp2 == '동대구역'\n",
    "temp[cond].value_counts()"
   ]
  },
  {
   "cell_type": "code",
   "execution_count": 107,
   "metadata": {},
   "outputs": [
    {
     "data": {
      "text/plain": [
       "44"
      ]
     },
     "execution_count": 107,
     "metadata": {},
     "output_type": "execute_result"
    }
   ],
   "source": [
    "len(temp2.unique())"
   ]
  },
  {
   "cell_type": "markdown",
   "metadata": {},
   "source": [
    "- 만약 점포명 인코딩을 하면\n",
    "    - tokenization 여부는 크게 중요하지 않을지도\n",
    "    - 56개에서 41개 정도로 줄어드는데, 한 번 시도해보는 것이 의미는 있겠지만 큰 영향 없을지도\n",
    "        - tokenizer 사용하는 경우 위의 방식으로 지역명 정도만 남겨서\n",
    "        - 수원, 수원시청 등은 통합"
   ]
  },
  {
   "cell_type": "markdown",
   "metadata": {},
   "source": [
    "#### quality"
   ]
  },
  {
   "cell_type": "code",
   "execution_count": 156,
   "metadata": {},
   "outputs": [
    {
     "data": {
      "text/html": [
       "<div>\n",
       "<style scoped>\n",
       "    .dataframe tbody tr th:only-of-type {\n",
       "        vertical-align: middle;\n",
       "    }\n",
       "\n",
       "    .dataframe tbody tr th {\n",
       "        vertical-align: top;\n",
       "    }\n",
       "\n",
       "    .dataframe thead th {\n",
       "        text-align: right;\n",
       "    }\n",
       "</style>\n",
       "<table border=\"1\" class=\"dataframe\">\n",
       "  <thead>\n",
       "    <tr style=\"text-align: right;\">\n",
       "      <th></th>\n",
       "      <th>ItemId</th>\n",
       "      <th>used_idx</th>\n",
       "      <th>delivery_fee</th>\n",
       "      <th>price</th>\n",
       "      <th>quality</th>\n",
       "      <th>store</th>\n",
       "      <th>url</th>\n",
       "    </tr>\n",
       "  </thead>\n",
       "  <tbody>\n",
       "    <tr>\n",
       "      <th>0</th>\n",
       "      <td>1000152</td>\n",
       "      <td>1</td>\n",
       "      <td>2500</td>\n",
       "      <td>7300</td>\n",
       "      <td>2</td>\n",
       "      <td>인천청라</td>\n",
       "      <td>https://www.aladin.co.kr/shop/wproduct.aspx?It...</td>\n",
       "    </tr>\n",
       "    <tr>\n",
       "      <th>1</th>\n",
       "      <td>1000152</td>\n",
       "      <td>10</td>\n",
       "      <td>2500</td>\n",
       "      <td>7400</td>\n",
       "      <td>2</td>\n",
       "      <td>범계</td>\n",
       "      <td>https://www.aladin.co.kr/shop/wproduct.aspx?It...</td>\n",
       "    </tr>\n",
       "    <tr>\n",
       "      <th>2</th>\n",
       "      <td>1000152</td>\n",
       "      <td>11</td>\n",
       "      <td>2500</td>\n",
       "      <td>7400</td>\n",
       "      <td>2</td>\n",
       "      <td>부산서면역</td>\n",
       "      <td>https://www.aladin.co.kr/shop/wproduct.aspx?It...</td>\n",
       "    </tr>\n",
       "    <tr>\n",
       "      <th>3</th>\n",
       "      <td>1000152</td>\n",
       "      <td>12</td>\n",
       "      <td>2500</td>\n",
       "      <td>7700</td>\n",
       "      <td>3</td>\n",
       "      <td>동대구역</td>\n",
       "      <td>https://www.aladin.co.kr/shop/wproduct.aspx?It...</td>\n",
       "    </tr>\n",
       "    <tr>\n",
       "      <th>4</th>\n",
       "      <td>1000152</td>\n",
       "      <td>13</td>\n",
       "      <td>2500</td>\n",
       "      <td>7700</td>\n",
       "      <td>3</td>\n",
       "      <td>범계</td>\n",
       "      <td>https://www.aladin.co.kr/shop/wproduct.aspx?It...</td>\n",
       "    </tr>\n",
       "    <tr>\n",
       "      <th>...</th>\n",
       "      <td>...</td>\n",
       "      <td>...</td>\n",
       "      <td>...</td>\n",
       "      <td>...</td>\n",
       "      <td>...</td>\n",
       "      <td>...</td>\n",
       "      <td>...</td>\n",
       "    </tr>\n",
       "    <tr>\n",
       "      <th>70234</th>\n",
       "      <td>999466</td>\n",
       "      <td>5</td>\n",
       "      <td>2500</td>\n",
       "      <td>5000</td>\n",
       "      <td>2</td>\n",
       "      <td>수유</td>\n",
       "      <td>https://www.aladin.co.kr/shop/wproduct.aspx?It...</td>\n",
       "    </tr>\n",
       "    <tr>\n",
       "      <th>70235</th>\n",
       "      <td>999466</td>\n",
       "      <td>6</td>\n",
       "      <td>2500</td>\n",
       "      <td>5000</td>\n",
       "      <td>2</td>\n",
       "      <td>광주충장로</td>\n",
       "      <td>https://www.aladin.co.kr/shop/wproduct.aspx?It...</td>\n",
       "    </tr>\n",
       "    <tr>\n",
       "      <th>70236</th>\n",
       "      <td>999466</td>\n",
       "      <td>7</td>\n",
       "      <td>2500</td>\n",
       "      <td>5000</td>\n",
       "      <td>2</td>\n",
       "      <td>연신내</td>\n",
       "      <td>https://www.aladin.co.kr/shop/wproduct.aspx?It...</td>\n",
       "    </tr>\n",
       "    <tr>\n",
       "      <th>70237</th>\n",
       "      <td>999466</td>\n",
       "      <td>8</td>\n",
       "      <td>2500</td>\n",
       "      <td>5000</td>\n",
       "      <td>2</td>\n",
       "      <td>평택</td>\n",
       "      <td>https://www.aladin.co.kr/shop/wproduct.aspx?It...</td>\n",
       "    </tr>\n",
       "    <tr>\n",
       "      <th>70238</th>\n",
       "      <td>999466</td>\n",
       "      <td>9</td>\n",
       "      <td>2500</td>\n",
       "      <td>5000</td>\n",
       "      <td>2</td>\n",
       "      <td>수지</td>\n",
       "      <td>https://www.aladin.co.kr/shop/wproduct.aspx?It...</td>\n",
       "    </tr>\n",
       "  </tbody>\n",
       "</table>\n",
       "<p>70239 rows × 7 columns</p>\n",
       "</div>"
      ],
      "text/plain": [
       "        ItemId  used_idx  delivery_fee  price  quality  store  \\\n",
       "0      1000152         1          2500   7300        2   인천청라   \n",
       "1      1000152        10          2500   7400        2     범계   \n",
       "2      1000152        11          2500   7400        2  부산서면역   \n",
       "3      1000152        12          2500   7700        3   동대구역   \n",
       "4      1000152        13          2500   7700        3     범계   \n",
       "...        ...       ...           ...    ...      ...    ...   \n",
       "70234   999466         5          2500   5000        2     수유   \n",
       "70235   999466         6          2500   5000        2  광주충장로   \n",
       "70236   999466         7          2500   5000        2    연신내   \n",
       "70237   999466         8          2500   5000        2     평택   \n",
       "70238   999466         9          2500   5000        2     수지   \n",
       "\n",
       "                                                     url  \n",
       "0      https://www.aladin.co.kr/shop/wproduct.aspx?It...  \n",
       "1      https://www.aladin.co.kr/shop/wproduct.aspx?It...  \n",
       "2      https://www.aladin.co.kr/shop/wproduct.aspx?It...  \n",
       "3      https://www.aladin.co.kr/shop/wproduct.aspx?It...  \n",
       "4      https://www.aladin.co.kr/shop/wproduct.aspx?It...  \n",
       "...                                                  ...  \n",
       "70234  https://www.aladin.co.kr/shop/wproduct.aspx?It...  \n",
       "70235  https://www.aladin.co.kr/shop/wproduct.aspx?It...  \n",
       "70236  https://www.aladin.co.kr/shop/wproduct.aspx?It...  \n",
       "70237  https://www.aladin.co.kr/shop/wproduct.aspx?It...  \n",
       "70238  https://www.aladin.co.kr/shop/wproduct.aspx?It...  \n",
       "\n",
       "[70239 rows x 7 columns]"
      ]
     },
     "execution_count": 156,
     "metadata": {},
     "output_type": "execute_result"
    }
   ],
   "source": [
    "quality_dict= {\n",
    "    '최상':4,\n",
    "    '상':3,\n",
    "    '중':2,\n",
    "    '균일가':1,\n",
    "    '하':1\n",
    "}\n",
    "\n",
    "rslt['quality'] = rslt['quality'].map(quality_dict)\n",
    "rslt"
   ]
  },
  {
   "cell_type": "markdown",
   "metadata": {},
   "source": [
    "#### store"
   ]
  },
  {
   "cell_type": "code",
   "execution_count": 165,
   "metadata": {},
   "outputs": [
    {
     "data": {
      "text/plain": [
       "{'중고매장동탄2하나로마트점': 1,\n",
       " '중고매장청주점': 2,\n",
       " '중고매장목동점': 3,\n",
       " '중고매장신림점': 4,\n",
       " '중고매장천호점': 5,\n",
       " '중고매장강서홈플러스점': 6,\n",
       " '중고매장부산서면동보점': 7,\n",
       " '중고매장영등포점': 8,\n",
       " '중고매장천안신불당점': 9,\n",
       " '중고매장대전시청역점': 10,\n",
       " '중고매장평택점': 11,\n",
       " '중고매장인천구월점': 12,\n",
       " '중고매장광주충장로점': 13,\n",
       " '중고매장부천점': 14,\n",
       " '중고매장창원상남점': 15,\n",
       " '중고매장범계점': 16,\n",
       " '중고매장마산합성점': 17,\n",
       " '중고매장부산 경성대.부경대역점': 18,\n",
       " '중고매장수지점': 19,\n",
       " '중고매장인천계산홈플러스점': 20,\n",
       " '중고매장화정점': 21,\n",
       " '중고매장대구동성로점': 22,\n",
       " '중고매장전주점': 23,\n",
       " '중고매장동탄점': 24,\n",
       " '중고매장부산서면역점': 25,\n",
       " '중고매장인천청라점': 26,\n",
       " '중고매장대전은행점': 27,\n",
       " '중고매장잠실새내역점': 28,\n",
       " '중고매장종로점': 29,\n",
       " '중고매장분당서현점': 30,\n",
       " '중고매장잠실롯데월드타워점': 31,\n",
       " '중고매장의정부홈플러스점': 32,\n",
       " '중고매장수유점': 33,\n",
       " '중고매장광주상무점': 34,\n",
       " '중고매장대학로점': 35,\n",
       " '중고매장합정점': 36,\n",
       " '중고매장일산점': 37,\n",
       " '중고매장분당야탑점': 38,\n",
       " '중고매장수원시청역점': 39,\n",
       " '중고매장대구상인점': 40,\n",
       " '중고매장동대구역점': 41,\n",
       " '중고매장부산센텀점': 42,\n",
       " '중고매장김해점': 43,\n",
       " '중고매장강남점': 44,\n",
       " '중고매장노원역점': 45,\n",
       " '중고매장이수역점': 46,\n",
       " '중고매장연신내점': 47,\n",
       " '중고매장부산덕천점': 48,\n",
       " '중고매장인천송도점': 49,\n",
       " '중고매장가로수길점': 50,\n",
       " '중고매장산본점': 51,\n",
       " '중고매장건대점': 52,\n",
       " '중고매장신촌점': 53,\n",
       " '중고매장울산점': 54,\n",
       " '중고매장수원점': 55,\n",
       " '중고매장서울대입구역점': 56}"
      ]
     },
     "execution_count": 165,
     "metadata": {},
     "output_type": "execute_result"
    }
   ],
   "source": [
    "stores= usedbook_data['store'].value_counts().sort_values(ascending=False)\n",
    "store_encoding = {\n",
    "    place : n+1\n",
    "    for n,place in enumerate(stores.index)\n",
    "}\n",
    "store_encoding"
   ]
  },
  {
   "cell_type": "code",
   "execution_count": 166,
   "metadata": {},
   "outputs": [
    {
     "data": {
      "text/html": [
       "<div>\n",
       "<style scoped>\n",
       "    .dataframe tbody tr th:only-of-type {\n",
       "        vertical-align: middle;\n",
       "    }\n",
       "\n",
       "    .dataframe tbody tr th {\n",
       "        vertical-align: top;\n",
       "    }\n",
       "\n",
       "    .dataframe thead th {\n",
       "        text-align: right;\n",
       "    }\n",
       "</style>\n",
       "<table border=\"1\" class=\"dataframe\">\n",
       "  <thead>\n",
       "    <tr style=\"text-align: right;\">\n",
       "      <th></th>\n",
       "      <th>ItemId</th>\n",
       "      <th>quality</th>\n",
       "      <th>store</th>\n",
       "      <th>price</th>\n",
       "    </tr>\n",
       "  </thead>\n",
       "  <tbody>\n",
       "    <tr>\n",
       "      <th>0</th>\n",
       "      <td>1000152</td>\n",
       "      <td>2</td>\n",
       "      <td>26</td>\n",
       "      <td>7300</td>\n",
       "    </tr>\n",
       "    <tr>\n",
       "      <th>1</th>\n",
       "      <td>1000152</td>\n",
       "      <td>2</td>\n",
       "      <td>16</td>\n",
       "      <td>7400</td>\n",
       "    </tr>\n",
       "    <tr>\n",
       "      <th>2</th>\n",
       "      <td>1000152</td>\n",
       "      <td>2</td>\n",
       "      <td>25</td>\n",
       "      <td>7400</td>\n",
       "    </tr>\n",
       "    <tr>\n",
       "      <th>3</th>\n",
       "      <td>1000152</td>\n",
       "      <td>3</td>\n",
       "      <td>41</td>\n",
       "      <td>7700</td>\n",
       "    </tr>\n",
       "    <tr>\n",
       "      <th>4</th>\n",
       "      <td>1000152</td>\n",
       "      <td>3</td>\n",
       "      <td>16</td>\n",
       "      <td>7700</td>\n",
       "    </tr>\n",
       "    <tr>\n",
       "      <th>...</th>\n",
       "      <td>...</td>\n",
       "      <td>...</td>\n",
       "      <td>...</td>\n",
       "      <td>...</td>\n",
       "    </tr>\n",
       "    <tr>\n",
       "      <th>70234</th>\n",
       "      <td>999466</td>\n",
       "      <td>2</td>\n",
       "      <td>33</td>\n",
       "      <td>5000</td>\n",
       "    </tr>\n",
       "    <tr>\n",
       "      <th>70235</th>\n",
       "      <td>999466</td>\n",
       "      <td>2</td>\n",
       "      <td>13</td>\n",
       "      <td>5000</td>\n",
       "    </tr>\n",
       "    <tr>\n",
       "      <th>70236</th>\n",
       "      <td>999466</td>\n",
       "      <td>2</td>\n",
       "      <td>47</td>\n",
       "      <td>5000</td>\n",
       "    </tr>\n",
       "    <tr>\n",
       "      <th>70237</th>\n",
       "      <td>999466</td>\n",
       "      <td>2</td>\n",
       "      <td>11</td>\n",
       "      <td>5000</td>\n",
       "    </tr>\n",
       "    <tr>\n",
       "      <th>70238</th>\n",
       "      <td>999466</td>\n",
       "      <td>2</td>\n",
       "      <td>19</td>\n",
       "      <td>5000</td>\n",
       "    </tr>\n",
       "  </tbody>\n",
       "</table>\n",
       "<p>70239 rows × 4 columns</p>\n",
       "</div>"
      ],
      "text/plain": [
       "        ItemId  quality  store  price\n",
       "0      1000152        2     26   7300\n",
       "1      1000152        2     16   7400\n",
       "2      1000152        2     25   7400\n",
       "3      1000152        3     41   7700\n",
       "4      1000152        3     16   7700\n",
       "...        ...      ...    ...    ...\n",
       "70234   999466        2     33   5000\n",
       "70235   999466        2     13   5000\n",
       "70236   999466        2     47   5000\n",
       "70237   999466        2     11   5000\n",
       "70238   999466        2     19   5000\n",
       "\n",
       "[70239 rows x 4 columns]"
      ]
     },
     "execution_count": 166,
     "metadata": {},
     "output_type": "execute_result"
    }
   ],
   "source": [
    "rslt['store'] = usedbook_data['store'].map(store_encoding)\n",
    "rslt = rslt [['ItemId','quality','store','price']]\n",
    "rslt"
   ]
  },
  {
   "cell_type": "code",
   "execution_count": 169,
   "metadata": {},
   "outputs": [],
   "source": [
    "file_name = 'encoded_usedinfo_ver{}.csv'.format(0)\n",
    "save_path = os.path.join(PRJCT_PATH,'processed',file_name)\n",
    "rslt.to_csv(save_path,index=False)"
   ]
  },
  {
   "cell_type": "code",
   "execution_count": null,
   "metadata": {},
   "outputs": [],
   "source": []
  }
 ],
 "metadata": {
  "kernelspec": {
   "display_name": "EST_PRJ",
   "language": "python",
   "name": "python3"
  },
  "language_info": {
   "codemirror_mode": {
    "name": "ipython",
    "version": 3
   },
   "file_extension": ".py",
   "mimetype": "text/x-python",
   "name": "python",
   "nbconvert_exporter": "python",
   "pygments_lexer": "ipython3",
   "version": "3.8.12"
  },
  "orig_nbformat": 4
 },
 "nbformat": 4,
 "nbformat_minor": 2
}
